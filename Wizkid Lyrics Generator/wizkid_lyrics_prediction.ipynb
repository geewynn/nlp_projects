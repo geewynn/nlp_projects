{
  "nbformat": 4,
  "nbformat_minor": 0,
  "metadata": {
    "colab": {
      "name": "wizkid_lyrics_prediction",
      "provenance": [],
      "collapsed_sections": [],
      "machine_shape": "hm"
    },
    "kernelspec": {
      "name": "python3",
      "display_name": "Python 3"
    },
    "accelerator": "GPU"
  },
  "cells": [
    {
      "cell_type": "code",
      "metadata": {
        "id": "aoAWYtYa5GQg",
        "colab_type": "code",
        "colab": {
          "base_uri": "https://localhost:8080/",
          "height": 63
        },
        "outputId": "9b67adae-58f5-4309-b2a8-33e6023d6916"
      },
      "source": [
        "import tensorflow as tf\n",
        "from tensorflow.keras.preprocessing.sequence import pad_sequences\n",
        "from tensorflow.keras.layers import Embedding, LSTM, Dense, Dropout, Bidirectional\n",
        "from tensorflow.keras.preprocessing.text import Tokenizer\n",
        "from tensorflow.keras.models import Sequential\n",
        "from tensorflow.keras.optimizers import Adam\n",
        "from tensorflow.keras import regularizers\n",
        "import tensorflow.keras.utils as ku \n",
        "import numpy as np "
      ],
      "execution_count": 1,
      "outputs": [
        {
          "output_type": "display_data",
          "data": {
            "text/html": [
              "<p style=\"color: red;\">\n",
              "The default version of TensorFlow in Colab will soon switch to TensorFlow 2.x.<br>\n",
              "We recommend you <a href=\"https://www.tensorflow.org/guide/migrate\" target=\"_blank\">upgrade</a> now \n",
              "or ensure your notebook will continue to use TensorFlow 1.x via the <code>%tensorflow_version 1.x</code> magic:\n",
              "<a href=\"https://colab.research.google.com/notebooks/tensorflow_version.ipynb\" target=\"_blank\">more info</a>.</p>\n"
            ],
            "text/plain": [
              "<IPython.core.display.HTML object>"
            ]
          },
          "metadata": {
            "tags": []
          }
        }
      ]
    },
    {
      "cell_type": "code",
      "metadata": {
        "id": "-WddtxM_5Sjn",
        "colab_type": "code",
        "colab": {}
      },
      "source": [
        "tokenizer = Tokenizer()\n",
        "# !wget --no-check-certificate \\\n",
        "#     https://storage.googleapis.com/laurencemoroney-blog.appspot.com/sonnets.txt \\\n",
        "#     -O /tmp/sonnets.txt\n",
        "data = open('/content/wizkid.txt').read()\n",
        "\n",
        "#get the corpus of all the words, amlist of sentences\n",
        "corpus = data.lower().split(\"\\n\")\n",
        "\n",
        "#create a dictionary of words(key is the word and value is the token of the word)\n",
        "tokenizer.fit_on_texts(corpus)\n",
        "\n",
        "#get toatal number of words\n",
        "total_words = len(tokenizer.word_index) + 1\n",
        "\n",
        "# create input sequences using list of tokens\n",
        "input_sequences = []\n",
        "# iterate each line in the corpus and generate a token list\n",
        "for line in corpus:\n",
        "\ttoken_list = tokenizer.texts_to_sequences([line])[0]\n",
        "  #create ngram from each token list\n",
        "\tfor i in range(1, len(token_list)):\n",
        "\t\tn_gram_sequence = token_list[:i+1]\n",
        "    #append the ngram sequence to the input sequence\n",
        "\t\tinput_sequences.append(n_gram_sequence)\n",
        "\n",
        "\n",
        "# pad sequences \n",
        "#find length of longest sequences\n",
        "max_sequence_len = max([len(x) for x in input_sequences])\n",
        "#pad all the sequnces so they are the same length\n",
        "input_sequences = np.array(pad_sequences(input_sequences, maxlen=max_sequence_len, padding='pre'))\n",
        "\n",
        "# create predictors and label from the padded \n",
        "#use the last character in the padded sequence as the label\n",
        "predictors, label = input_sequences[:,:-1],input_sequences[:,-1]\n",
        "\n",
        "#one hot encode the label as this is a classification problem\n",
        "label = ku.to_categorical(label, num_classes=total_words)"
      ],
      "execution_count": 0,
      "outputs": []
    },
    {
      "cell_type": "code",
      "metadata": {
        "id": "HhVB34is5tn2",
        "colab_type": "code",
        "outputId": "dcda0066-d295-4a96-c04f-024ba012bd7e",
        "colab": {
          "base_uri": "https://localhost:8080/",
          "height": 684
        }
      },
      "source": [
        "model = Sequential()\n",
        "#embedding layer containing, the total words, number of dimensions to plot the vector of words, \n",
        "#size ofinput dim(longest seq - 1(we sub 1 bcos we crop off the last word of each seq to get the label)) \n",
        "model.add(Embedding(total_words, 100, input_length=max_sequence_len-1))\n",
        "#add lstm with 150 units, added bidirectional to make model more accurate\n",
        "model.add(Bidirectional(LSTM(150, return_sequences = True)))\n",
        "model.add(Dropout(0.2))\n",
        "model.add(LSTM(100))\n",
        "#add 2 dense layer\n",
        "model.add(Dense(total_words/2, activation='relu', kernel_regularizer=regularizers.l2(0.01)))\n",
        "model.add(Dense(total_words, activation='softmax'))\n",
        "#adam = Adam(lr=0.1)\n",
        "# categorical bcos of our classifcation problem with an adam optimiser\n",
        "model.compile(loss='categorical_crossentropy', optimizer='adam', metrics=['accuracy'])\n",
        "print(model.summary())"
      ],
      "execution_count": 3,
      "outputs": [
        {
          "output_type": "stream",
          "text": [
            "WARNING:tensorflow:From /usr/local/lib/python3.6/dist-packages/tensorflow_core/python/keras/initializers.py:119: calling RandomUniform.__init__ (from tensorflow.python.ops.init_ops) with dtype is deprecated and will be removed in a future version.\n",
            "Instructions for updating:\n",
            "Call initializer instance with the dtype argument instead of passing it to the constructor\n",
            "WARNING:tensorflow:From /usr/local/lib/python3.6/dist-packages/tensorflow_core/python/ops/resource_variable_ops.py:1630: calling BaseResourceVariable.__init__ (from tensorflow.python.ops.resource_variable_ops) with constraint is deprecated and will be removed in a future version.\n",
            "Instructions for updating:\n",
            "If using Keras pass *_constraint arguments to layers.\n",
            "WARNING:tensorflow:From /usr/local/lib/python3.6/dist-packages/tensorflow_core/python/ops/init_ops.py:97: calling GlorotUniform.__init__ (from tensorflow.python.ops.init_ops) with dtype is deprecated and will be removed in a future version.\n",
            "Instructions for updating:\n",
            "Call initializer instance with the dtype argument instead of passing it to the constructor\n",
            "WARNING:tensorflow:From /usr/local/lib/python3.6/dist-packages/tensorflow_core/python/ops/init_ops.py:97: calling Orthogonal.__init__ (from tensorflow.python.ops.init_ops) with dtype is deprecated and will be removed in a future version.\n",
            "Instructions for updating:\n",
            "Call initializer instance with the dtype argument instead of passing it to the constructor\n",
            "WARNING:tensorflow:From /usr/local/lib/python3.6/dist-packages/tensorflow_core/python/ops/init_ops.py:97: calling Zeros.__init__ (from tensorflow.python.ops.init_ops) with dtype is deprecated and will be removed in a future version.\n",
            "Instructions for updating:\n",
            "Call initializer instance with the dtype argument instead of passing it to the constructor\n",
            "Model: \"sequential\"\n",
            "_________________________________________________________________\n",
            "Layer (type)                 Output Shape              Param #   \n",
            "=================================================================\n",
            "embedding (Embedding)        (None, 46, 100)           142000    \n",
            "_________________________________________________________________\n",
            "bidirectional (Bidirectional (None, 46, 300)           301200    \n",
            "_________________________________________________________________\n",
            "dropout (Dropout)            (None, 46, 300)           0         \n",
            "_________________________________________________________________\n",
            "lstm_1 (LSTM)                (None, 100)               160400    \n",
            "_________________________________________________________________\n",
            "dense (Dense)                (None, 710)               71710     \n",
            "_________________________________________________________________\n",
            "dense_1 (Dense)              (None, 1420)              1009620   \n",
            "=================================================================\n",
            "Total params: 1,684,930\n",
            "Trainable params: 1,684,930\n",
            "Non-trainable params: 0\n",
            "_________________________________________________________________\n",
            "None\n"
          ],
          "name": "stdout"
        }
      ]
    },
    {
      "cell_type": "code",
      "metadata": {
        "id": "Jj4R9D2f5y-Q",
        "colab_type": "code",
        "outputId": "fbcfe6d2-d4e1-4d1c-eb45-5c4f20258183",
        "colab": {
          "base_uri": "https://localhost:8080/",
          "height": 1000
        }
      },
      "source": [
        "history = model.fit(predictors, label, epochs=70, verbose=1)"
      ],
      "execution_count": 4,
      "outputs": [
        {
          "output_type": "stream",
          "text": [
            "WARNING:tensorflow:From /usr/local/lib/python3.6/dist-packages/tensorflow_core/python/ops/math_grad.py:1424: where (from tensorflow.python.ops.array_ops) is deprecated and will be removed in a future version.\n",
            "Instructions for updating:\n",
            "Use tf.where in 2.0, which has the same broadcast rule as np.where\n",
            "Train on 10757 samples\n",
            "Epoch 1/70\n",
            "10757/10757 [==============================] - 150s 14ms/sample - loss: 6.1320 - acc: 0.0380\n",
            "Epoch 2/70\n",
            "10757/10757 [==============================] - 148s 14ms/sample - loss: 5.5382 - acc: 0.0490\n",
            "Epoch 3/70\n",
            "10757/10757 [==============================] - 147s 14ms/sample - loss: 5.3356 - acc: 0.0555\n",
            "Epoch 4/70\n",
            "10757/10757 [==============================] - 147s 14ms/sample - loss: 5.1869 - acc: 0.0673\n",
            "Epoch 5/70\n",
            "10757/10757 [==============================] - 147s 14ms/sample - loss: 5.0633 - acc: 0.0728\n",
            "Epoch 6/70\n",
            "10757/10757 [==============================] - 148s 14ms/sample - loss: 4.9484 - acc: 0.0876\n",
            "Epoch 7/70\n",
            "10757/10757 [==============================] - 148s 14ms/sample - loss: 4.8308 - acc: 0.1079\n",
            "Epoch 8/70\n",
            "10757/10757 [==============================] - 148s 14ms/sample - loss: 4.7250 - acc: 0.1222\n",
            "Epoch 9/70\n",
            "10757/10757 [==============================] - 148s 14ms/sample - loss: 4.5911 - acc: 0.1408\n",
            "Epoch 10/70\n",
            "10757/10757 [==============================] - 148s 14ms/sample - loss: 4.4726 - acc: 0.1549\n",
            "Epoch 11/70\n",
            "10757/10757 [==============================] - 148s 14ms/sample - loss: 4.3479 - acc: 0.1724\n",
            "Epoch 12/70\n",
            "10757/10757 [==============================] - 148s 14ms/sample - loss: 4.2140 - acc: 0.1868\n",
            "Epoch 13/70\n",
            "10757/10757 [==============================] - 148s 14ms/sample - loss: 4.0971 - acc: 0.1990\n",
            "Epoch 14/70\n",
            "10757/10757 [==============================] - 148s 14ms/sample - loss: 3.9774 - acc: 0.2213\n",
            "Epoch 15/70\n",
            "10757/10757 [==============================] - 148s 14ms/sample - loss: 3.8597 - acc: 0.2400\n",
            "Epoch 16/70\n",
            "10757/10757 [==============================] - 149s 14ms/sample - loss: 3.7454 - acc: 0.2623\n",
            "Epoch 17/70\n",
            "10757/10757 [==============================] - 148s 14ms/sample - loss: 3.6337 - acc: 0.2814\n",
            "Epoch 18/70\n",
            "10757/10757 [==============================] - 149s 14ms/sample - loss: 3.5373 - acc: 0.3017\n",
            "Epoch 19/70\n",
            "10757/10757 [==============================] - 149s 14ms/sample - loss: 3.4336 - acc: 0.3212\n",
            "Epoch 20/70\n",
            "10757/10757 [==============================] - 150s 14ms/sample - loss: 3.3284 - acc: 0.3391\n",
            "Epoch 21/70\n",
            "10757/10757 [==============================] - 149s 14ms/sample - loss: 3.2621 - acc: 0.3473\n",
            "Epoch 22/70\n",
            "10757/10757 [==============================] - 150s 14ms/sample - loss: 3.1743 - acc: 0.3646\n",
            "Epoch 23/70\n",
            "10757/10757 [==============================] - 149s 14ms/sample - loss: 3.0744 - acc: 0.3838\n",
            "Epoch 24/70\n",
            "10757/10757 [==============================] - 150s 14ms/sample - loss: 3.0080 - acc: 0.3919\n",
            "Epoch 25/70\n",
            "10757/10757 [==============================] - 149s 14ms/sample - loss: 2.9123 - acc: 0.4107\n",
            "Epoch 26/70\n",
            "10757/10757 [==============================] - 149s 14ms/sample - loss: 2.8443 - acc: 0.4235\n",
            "Epoch 27/70\n",
            "10757/10757 [==============================] - 149s 14ms/sample - loss: 2.8019 - acc: 0.4313\n",
            "Epoch 28/70\n",
            "10757/10757 [==============================] - 149s 14ms/sample - loss: 2.7220 - acc: 0.4468\n",
            "Epoch 29/70\n",
            "10757/10757 [==============================] - 148s 14ms/sample - loss: 2.6481 - acc: 0.4642\n",
            "Epoch 30/70\n",
            "10757/10757 [==============================] - 149s 14ms/sample - loss: 2.5867 - acc: 0.4706\n",
            "Epoch 31/70\n",
            "10757/10757 [==============================] - 148s 14ms/sample - loss: 2.5237 - acc: 0.4815\n",
            "Epoch 32/70\n",
            "10757/10757 [==============================] - 150s 14ms/sample - loss: 2.4642 - acc: 0.4960\n",
            "Epoch 33/70\n",
            "10757/10757 [==============================] - 149s 14ms/sample - loss: 2.4177 - acc: 0.5066\n",
            "Epoch 34/70\n",
            "10757/10757 [==============================] - 149s 14ms/sample - loss: 2.3676 - acc: 0.5157\n",
            "Epoch 35/70\n",
            "10757/10757 [==============================] - 150s 14ms/sample - loss: 2.3148 - acc: 0.5225\n",
            "Epoch 36/70\n",
            "10757/10757 [==============================] - 151s 14ms/sample - loss: 2.2643 - acc: 0.5343\n",
            "Epoch 37/70\n",
            "10757/10757 [==============================] - 151s 14ms/sample - loss: 2.2331 - acc: 0.5396\n",
            "Epoch 38/70\n",
            "10757/10757 [==============================] - 150s 14ms/sample - loss: 2.1698 - acc: 0.5527\n",
            "Epoch 39/70\n",
            "10757/10757 [==============================] - 150s 14ms/sample - loss: 2.1350 - acc: 0.5593\n",
            "Epoch 40/70\n",
            "10757/10757 [==============================] - 149s 14ms/sample - loss: 2.0876 - acc: 0.5714\n",
            "Epoch 41/70\n",
            "10757/10757 [==============================] - 149s 14ms/sample - loss: 2.0514 - acc: 0.5792\n",
            "Epoch 42/70\n",
            "10757/10757 [==============================] - 149s 14ms/sample - loss: 2.0150 - acc: 0.5834\n",
            "Epoch 43/70\n",
            "10757/10757 [==============================] - 149s 14ms/sample - loss: 1.9874 - acc: 0.5878\n",
            "Epoch 44/70\n",
            "10757/10757 [==============================] - 149s 14ms/sample - loss: 1.9429 - acc: 0.5975\n",
            "Epoch 45/70\n",
            "10757/10757 [==============================] - 150s 14ms/sample - loss: 1.8993 - acc: 0.6123\n",
            "Epoch 46/70\n",
            "10757/10757 [==============================] - 150s 14ms/sample - loss: 1.8673 - acc: 0.6187\n",
            "Epoch 47/70\n",
            "10757/10757 [==============================] - 150s 14ms/sample - loss: 1.8346 - acc: 0.6242\n",
            "Epoch 48/70\n",
            "10757/10757 [==============================] - 149s 14ms/sample - loss: 1.8102 - acc: 0.6316\n",
            "Epoch 49/70\n",
            "10757/10757 [==============================] - 150s 14ms/sample - loss: 1.7867 - acc: 0.6350\n",
            "Epoch 50/70\n",
            "10757/10757 [==============================] - 150s 14ms/sample - loss: 1.7494 - acc: 0.6407\n",
            "Epoch 51/70\n",
            "10757/10757 [==============================] - 150s 14ms/sample - loss: 1.7221 - acc: 0.6484\n",
            "Epoch 52/70\n",
            "10757/10757 [==============================] - 149s 14ms/sample - loss: 1.6859 - acc: 0.6562\n",
            "Epoch 53/70\n",
            "10757/10757 [==============================] - 149s 14ms/sample - loss: 1.6610 - acc: 0.6591\n",
            "Epoch 54/70\n",
            "10757/10757 [==============================] - 150s 14ms/sample - loss: 1.6324 - acc: 0.6618\n",
            "Epoch 55/70\n",
            "10757/10757 [==============================] - 152s 14ms/sample - loss: 1.6087 - acc: 0.6671\n",
            "Epoch 56/70\n",
            "10757/10757 [==============================] - 151s 14ms/sample - loss: 1.5811 - acc: 0.6738\n",
            "Epoch 57/70\n",
            "10757/10757 [==============================] - 152s 14ms/sample - loss: 1.5567 - acc: 0.6838\n",
            "Epoch 58/70\n",
            "10757/10757 [==============================] - 151s 14ms/sample - loss: 1.5485 - acc: 0.6781\n",
            "Epoch 59/70\n",
            "10757/10757 [==============================] - 151s 14ms/sample - loss: 1.5218 - acc: 0.6891\n",
            "Epoch 60/70\n",
            "10757/10757 [==============================] - 150s 14ms/sample - loss: 1.4947 - acc: 0.6951\n",
            "Epoch 61/70\n",
            "10757/10757 [==============================] - 150s 14ms/sample - loss: 1.4774 - acc: 0.6968\n",
            "Epoch 62/70\n",
            "10757/10757 [==============================] - 150s 14ms/sample - loss: 1.4566 - acc: 0.7040\n",
            "Epoch 63/70\n",
            "10757/10757 [==============================] - 150s 14ms/sample - loss: 1.4256 - acc: 0.7077\n",
            "Epoch 64/70\n",
            "10757/10757 [==============================] - 149s 14ms/sample - loss: 1.4009 - acc: 0.7168\n",
            "Epoch 65/70\n",
            "10757/10757 [==============================] - 149s 14ms/sample - loss: 1.3930 - acc: 0.7148\n",
            "Epoch 66/70\n",
            "10757/10757 [==============================] - 149s 14ms/sample - loss: 1.3603 - acc: 0.7232\n",
            "Epoch 67/70\n",
            "10757/10757 [==============================] - 150s 14ms/sample - loss: 1.3451 - acc: 0.7263\n",
            "Epoch 68/70\n",
            "10757/10757 [==============================] - 150s 14ms/sample - loss: 1.3339 - acc: 0.7300\n",
            "Epoch 69/70\n",
            "10757/10757 [==============================] - 149s 14ms/sample - loss: 1.3074 - acc: 0.7318\n",
            "Epoch 70/70\n",
            "10757/10757 [==============================] - 149s 14ms/sample - loss: 1.3052 - acc: 0.7337\n"
          ],
          "name": "stdout"
        }
      ]
    },
    {
      "cell_type": "code",
      "metadata": {
        "id": "Hr77cIap6Dyb",
        "colab_type": "code",
        "colab": {
          "base_uri": "https://localhost:8080/",
          "height": 544
        },
        "outputId": "e7a39bd6-c58f-4156-ed18-71938619ae4a"
      },
      "source": [
        "import matplotlib.pyplot as plt\n",
        "acc = history.history['acc']\n",
        "loss = history.history['loss']\n",
        "\n",
        "epochs = range(len(acc))\n",
        "\n",
        "plt.plot(epochs, acc, 'b', label='Training accuracy')\n",
        "plt.title('Training accuracy')\n",
        "\n",
        "plt.figure()\n",
        "\n",
        "plt.plot(epochs, loss, 'b', label='Training Loss')\n",
        "plt.title('Training loss')\n",
        "plt.legend()\n",
        "\n",
        "plt.show()"
      ],
      "execution_count": 5,
      "outputs": [
        {
          "output_type": "display_data",
          "data": {
            "image/png": "[encoded data removed]",
            "text/plain": [
              "<Figure size 432x288 with 1 Axes>"
            ]
          },
          "metadata": {
            "tags": []
          }
        },
        {
          "output_type": "display_data",
          "data": {
            "image/png": "[encoded data removed]",
            "text/plain": [
              "<Figure size 432x288 with 1 Axes>"
            ]
          },
          "metadata": {
            "tags": []
          }
        }
      ]
    },
    {
      "cell_type": "code",
      "metadata": {
        "id": "uHpFLEcI_Idv",
        "colab_type": "code",
        "colab": {
          "base_uri": "https://localhost:8080/",
          "height": 54
        },
        "outputId": "37efd48c-9ec3-438d-e6a7-9eff98cc55dc"
      },
      "source": [
        "\n",
        "seed_text = \"come closer\"\n",
        "next_words = 50\n",
        "  \n",
        " # \n",
        "for _ in range(next_words):\n",
        "  # tokenize the seed word(ignore words not in the corpus)\n",
        "\ttoken_list = tokenizer.texts_to_sequences([seed_text])[0]\n",
        "  # padded the sequence so it matches the training set\n",
        "\ttoken_list = pad_sequences([token_list], maxlen=max_sequence_len-1, padding='pre')\n",
        " # make prediction on the words\n",
        "\tpredicted = model.predict_classes(token_list, verbose=0)\n",
        "\toutput_word = \"\"\n",
        "  #reverse lookup on the words to get the predicted words\n",
        "\tfor word, index in tokenizer.word_index.items():\n",
        "\t\tif index == predicted:\n",
        "\t\t\toutput_word = word\n",
        "\t\t\tbreak\n",
        "\tseed_text += \" \" + output_word\n",
        "print(seed_text)"
      ],
      "execution_count": 7,
      "outputs": [
        {
          "output_type": "stream",
          "text": [
            "come closer make me sing high note ay by the world when me drop it unfolds before the boat yeah yeah yeah yeah yeah yeah yeah yeah yeah yeah yeah yeah yeah yeah yeah yeah yeah yeah yeah yeah yeah yeah yeah yeah yeah yeah yeah yeah yeah yeah yeah yeah yeah\n"
          ],
          "name": "stdout"
        }
      ]
    },
    {
      "cell_type": "code",
      "metadata": {
        "id": "1xmZ4r52ASdk",
        "colab_type": "code",
        "colab": {}
      },
      "source": [
        "model.save('wizkid.h5')"
      ],
      "execution_count": 0,
      "outputs": []
    },
    {
      "cell_type": "code",
      "metadata": {
        "id": "LP8M_sfDpqbO",
        "colab_type": "code",
        "colab": {}
      },
      "source": [
        ""
      ],
      "execution_count": 0,
      "outputs": []
    }
  ]
}