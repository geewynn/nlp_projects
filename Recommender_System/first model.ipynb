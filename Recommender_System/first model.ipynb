{
 "cells": [
  {
   "cell_type": "code",
   "execution_count": null,
   "metadata": {},
   "outputs": [],
   "source": []
  },
  {
   "cell_type": "code",
   "execution_count": 65,
   "metadata": {},
   "outputs": [],
   "source": [
    "import pandas as pd\n",
    "import numpy as np\n",
    "import turicreate as tc\n",
    "\n",
    "import numpy as np\n",
    "import scipy\n",
    "import math\n",
    "import random\n",
    "\n",
    "import sklearn\n",
    "from nltk.corpus import stopwords\n",
    "from sklearn.model_selection import train_test_split\n",
    "from sklearn.feature_extraction.text import TfidfVectorizer\n",
    "from sklearn.metrics.pairwise import cosine_similarity\n",
    "from scipy.sparse.linalg import svds\n"
   ]
  },
  {
   "cell_type": "code",
   "execution_count": 2,
   "metadata": {},
   "outputs": [],
   "source": [
    "following = pd.read_csv('following.csv')\n",
    "post = pd.read_csv('posts (1).csv')\n",
    "users = pd.read_csv('users.csv')\n",
    "thoughts = pd.read_csv('thoughts.csv')\n",
    "contact_settings = pd.read_csv('contact_settings.csv')\n",
    "ext_feed = pd.read_csv('extfeeds.csv')"
   ]
  },
  {
   "cell_type": "code",
   "execution_count": 3,
   "metadata": {},
   "outputs": [],
   "source": [
    "#users.head()"
   ]
  },
  {
   "cell_type": "code",
   "execution_count": 4,
   "metadata": {},
   "outputs": [],
   "source": [
    "#following.head()"
   ]
  },
  {
   "cell_type": "code",
   "execution_count": 53,
   "metadata": {},
   "outputs": [
    {
     "data": {
      "text/html": [
       "<div>\n",
       "<style scoped>\n",
       "    .dataframe tbody tr th:only-of-type {\n",
       "        vertical-align: middle;\n",
       "    }\n",
       "\n",
       "    .dataframe tbody tr th {\n",
       "        vertical-align: top;\n",
       "    }\n",
       "\n",
       "    .dataframe thead th {\n",
       "        text-align: right;\n",
       "    }\n",
       "</style>\n",
       "<table border=\"1\" class=\"dataframe\">\n",
       "  <thead>\n",
       "    <tr style=\"text-align: right;\">\n",
       "      <th></th>\n",
       "      <th>user_id</th>\n",
       "      <th>title</th>\n",
       "      <th>content</th>\n",
       "      <th>tags</th>\n",
       "      <th>slug</th>\n",
       "      <th>created_at</th>\n",
       "      <th>updated_at</th>\n",
       "      <th>image</th>\n",
       "      <th>status_id</th>\n",
       "      <th>action</th>\n",
       "      <th>post_id</th>\n",
       "      <th>actionStrength</th>\n",
       "    </tr>\n",
       "  </thead>\n",
       "  <tbody>\n",
       "    <tr>\n",
       "      <td>871</td>\n",
       "      <td>45</td>\n",
       "      <td>jbhjkhkbb</td>\n",
       "      <td>jkhbjilbjhb v hvhjbv h hbv jhkv</td>\n",
       "      <td>NaN</td>\n",
       "      <td>jbhjkhkbb-748</td>\n",
       "      <td>2019-09-05 16:38:18</td>\n",
       "      <td>2019-09-05 16:38:18</td>\n",
       "      <td>NaN</td>\n",
       "      <td>NaN</td>\n",
       "      <td>publish</td>\n",
       "      <td>NaN</td>\n",
       "      <td>3</td>\n",
       "    </tr>\n",
       "    <tr>\n",
       "      <td>872</td>\n",
       "      <td>3</td>\n",
       "      <td>Testing tags and really long posts</td>\n",
       "      <td>&lt;p&gt;Testing tags and really long posts.&lt;/p&gt;\\n&lt;p...</td>\n",
       "      <td>Politics, Sports</td>\n",
       "      <td>testing-tags-and-really-long-posts-38a</td>\n",
       "      <td>2019-09-06 14:39:26</td>\n",
       "      <td>2019-09-06 14:39:26</td>\n",
       "      <td>NaN</td>\n",
       "      <td>NaN</td>\n",
       "      <td>no_action</td>\n",
       "      <td>NaN</td>\n",
       "      <td>1</td>\n",
       "    </tr>\n",
       "    <tr>\n",
       "      <td>873</td>\n",
       "      <td>3</td>\n",
       "      <td>Testing image</td>\n",
       "      <td>&lt;p&gt;Test if image works&lt;/p&gt;\\n&lt;p&gt;&lt;img src=\"/stor...</td>\n",
       "      <td>NaN</td>\n",
       "      <td>testing-image-5f7</td>\n",
       "      <td>2019-09-06 14:39:26</td>\n",
       "      <td>2019-09-06 14:39:26</td>\n",
       "      <td>jeff.ogah/images/img-07flurib94.png</td>\n",
       "      <td>NaN</td>\n",
       "      <td>no_action</td>\n",
       "      <td>NaN</td>\n",
       "      <td>1</td>\n",
       "    </tr>\n",
       "    <tr>\n",
       "      <td>874</td>\n",
       "      <td>3</td>\n",
       "      <td>Test</td>\n",
       "      <td>&lt;p&gt;&lt;img src=\"/storage/jeff.ogah/images/img-x89...</td>\n",
       "      <td>NaN</td>\n",
       "      <td>test-03f</td>\n",
       "      <td>2019-09-06 14:39:26</td>\n",
       "      <td>2019-09-06 14:39:26</td>\n",
       "      <td>jeff.ogah/images/img-x89tf05exw.jpeg</td>\n",
       "      <td>NaN</td>\n",
       "      <td>no_action</td>\n",
       "      <td>NaN</td>\n",
       "      <td>1</td>\n",
       "    </tr>\n",
       "    <tr>\n",
       "      <td>875</td>\n",
       "      <td>3</td>\n",
       "      <td>My first post</td>\n",
       "      <td>&lt;p&gt;About time I made one.&lt;/p&gt;\\n&lt;p&gt;&lt;strong&gt;Bold...</td>\n",
       "      <td>NaN</td>\n",
       "      <td>my-first-post-10e</td>\n",
       "      <td>2019-09-06 14:39:26</td>\n",
       "      <td>2019-09-06 14:39:26</td>\n",
       "      <td>NaN</td>\n",
       "      <td>NaN</td>\n",
       "      <td>no_action</td>\n",
       "      <td>NaN</td>\n",
       "      <td>1</td>\n",
       "    </tr>\n",
       "  </tbody>\n",
       "</table>\n",
       "</div>"
      ],
      "text/plain": [
       "     user_id                               title  \\\n",
       "871       45                           jbhjkhkbb   \n",
       "872        3  Testing tags and really long posts   \n",
       "873        3                       Testing image   \n",
       "874        3                                Test   \n",
       "875        3                       My first post   \n",
       "\n",
       "                                               content              tags  \\\n",
       "871                    jkhbjilbjhb v hvhjbv h hbv jhkv               NaN   \n",
       "872  <p>Testing tags and really long posts.</p>\\n<p...  Politics, Sports   \n",
       "873  <p>Test if image works</p>\\n<p><img src=\"/stor...               NaN   \n",
       "874  <p><img src=\"/storage/jeff.ogah/images/img-x89...               NaN   \n",
       "875  <p>About time I made one.</p>\\n<p><strong>Bold...               NaN   \n",
       "\n",
       "                                       slug           created_at  \\\n",
       "871                           jbhjkhkbb-748  2019-09-05 16:38:18   \n",
       "872  testing-tags-and-really-long-posts-38a  2019-09-06 14:39:26   \n",
       "873                       testing-image-5f7  2019-09-06 14:39:26   \n",
       "874                                test-03f  2019-09-06 14:39:26   \n",
       "875                       my-first-post-10e  2019-09-06 14:39:26   \n",
       "\n",
       "              updated_at                                 image  status_id  \\\n",
       "871  2019-09-05 16:38:18                                   NaN        NaN   \n",
       "872  2019-09-06 14:39:26                                   NaN        NaN   \n",
       "873  2019-09-06 14:39:26   jeff.ogah/images/img-07flurib94.png        NaN   \n",
       "874  2019-09-06 14:39:26  jeff.ogah/images/img-x89tf05exw.jpeg        NaN   \n",
       "875  2019-09-06 14:39:26                                   NaN        NaN   \n",
       "\n",
       "        action  post_id  actionStrength  \n",
       "871    publish      NaN               3  \n",
       "872  no_action      NaN               1  \n",
       "873  no_action      NaN               1  \n",
       "874  no_action      NaN               1  \n",
       "875  no_action      NaN               1  "
      ]
     },
     "execution_count": 53,
     "metadata": {},
     "output_type": "execute_result"
    }
   ],
   "source": [
    "post.tail(5)"
   ]
  },
  {
   "cell_type": "code",
   "execution_count": 6,
   "metadata": {},
   "outputs": [
    {
     "data": {
      "text/plain": [
       "publish    4\n",
       "draft      1\n",
       "Name: action, dtype: int64"
      ]
     },
     "execution_count": 6,
     "metadata": {},
     "output_type": "execute_result"
    }
   ],
   "source": [
    "post['action'].value_counts()"
   ]
  },
  {
   "cell_type": "code",
   "execution_count": 7,
   "metadata": {},
   "outputs": [],
   "source": [
    "post['action'] = post['action'].replace(np.nan, 'no_action')"
   ]
  },
  {
   "cell_type": "code",
   "execution_count": 32,
   "metadata": {},
   "outputs": [],
   "source": [
    "action_type = {\n",
    "    'no_action':1,\n",
    "    'draft': 2,\n",
    "    'publish': 3\n",
    "}"
   ]
  },
  {
   "cell_type": "code",
   "execution_count": 33,
   "metadata": {},
   "outputs": [],
   "source": [
    "post['actionStrength'] = post['action'].apply(lambda x: action_type[x])"
   ]
  },
  {
   "cell_type": "code",
   "execution_count": 34,
   "metadata": {},
   "outputs": [],
   "source": [
    "post_group = post.groupby(['user_id']).agg({'actionStrength': 'count'}).reset_index()\n",
    "\n",
    "#articles_grouped = merged.groupby(['contentId']).agg({'eventStrength': 'count'}).reset_index()"
   ]
  },
  {
   "cell_type": "code",
   "execution_count": 35,
   "metadata": {},
   "outputs": [
    {
     "data": {
      "text/html": [
       "<div>\n",
       "<style scoped>\n",
       "    .dataframe tbody tr th:only-of-type {\n",
       "        vertical-align: middle;\n",
       "    }\n",
       "\n",
       "    .dataframe tbody tr th {\n",
       "        vertical-align: top;\n",
       "    }\n",
       "\n",
       "    .dataframe thead th {\n",
       "        text-align: right;\n",
       "    }\n",
       "</style>\n",
       "<table border=\"1\" class=\"dataframe\">\n",
       "  <thead>\n",
       "    <tr style=\"text-align: right;\">\n",
       "      <th></th>\n",
       "      <th>user_id</th>\n",
       "      <th>actionStrength</th>\n",
       "      <th>percentage</th>\n",
       "    </tr>\n",
       "  </thead>\n",
       "  <tbody>\n",
       "    <tr>\n",
       "      <td>0</td>\n",
       "      <td>1</td>\n",
       "      <td>4</td>\n",
       "      <td>0.456621</td>\n",
       "    </tr>\n",
       "    <tr>\n",
       "      <td>1</td>\n",
       "      <td>2</td>\n",
       "      <td>12</td>\n",
       "      <td>1.369863</td>\n",
       "    </tr>\n",
       "    <tr>\n",
       "      <td>2</td>\n",
       "      <td>3</td>\n",
       "      <td>15</td>\n",
       "      <td>1.712329</td>\n",
       "    </tr>\n",
       "    <tr>\n",
       "      <td>3</td>\n",
       "      <td>4</td>\n",
       "      <td>2</td>\n",
       "      <td>0.228311</td>\n",
       "    </tr>\n",
       "    <tr>\n",
       "      <td>4</td>\n",
       "      <td>5</td>\n",
       "      <td>1</td>\n",
       "      <td>0.114155</td>\n",
       "    </tr>\n",
       "  </tbody>\n",
       "</table>\n",
       "</div>"
      ],
      "text/plain": [
       "   user_id  actionStrength  percentage\n",
       "0        1               4    0.456621\n",
       "1        2              12    1.369863\n",
       "2        3              15    1.712329\n",
       "3        4               2    0.228311\n",
       "4        5               1    0.114155"
      ]
     },
     "execution_count": 35,
     "metadata": {},
     "output_type": "execute_result"
    }
   ],
   "source": [
    "grouped_sum = post_group['actionStrength'].sum() # Get the sum of all counts\n",
    "post_group['percentage']  = post_group['actionStrength'].div(grouped_sum)*100 # Score each articles\n",
    "post_group.sort_values(['actionStrength', 'user_id'], ascending = [0,1]) ; post_group.head()"
   ]
  },
  {
   "cell_type": "code",
   "execution_count": 36,
   "metadata": {},
   "outputs": [
    {
     "name": "stdout",
     "output_type": "stream",
     "text": [
      "# of users 308\n"
     ]
    }
   ],
   "source": [
    "users = post['user_id'].unique() ; print(\"# of users\" , len(users))"
   ]
  },
  {
   "cell_type": "code",
   "execution_count": 37,
   "metadata": {},
   "outputs": [
    {
     "name": "stdout",
     "output_type": "stream",
     "text": [
      "# of items 658\n"
     ]
    }
   ],
   "source": [
    "items = post['title'].unique() ; print(\"# of items\" , len(items))"
   ]
  },
  {
   "cell_type": "code",
   "execution_count": 38,
   "metadata": {},
   "outputs": [],
   "source": [
    "#df = post[['user_id', 'title', 'content', 'action_type', '']]"
   ]
  },
  {
   "cell_type": "code",
   "execution_count": 39,
   "metadata": {},
   "outputs": [],
   "source": [
    "train_data, test_data = train_test_split(post, test_size = 0.20, random_state=0)"
   ]
  },
  {
   "cell_type": "code",
   "execution_count": 40,
   "metadata": {},
   "outputs": [],
   "source": [
    "#is_model = Rd.item_similarity_recommender_py()\n",
    "#is_model.create(train_data, 'personId', 'contentId')"
   ]
  },
  {
   "cell_type": "code",
   "execution_count": 41,
   "metadata": {},
   "outputs": [
    {
     "data": {
      "text/html": [
       "<div>\n",
       "<style scoped>\n",
       "    .dataframe tbody tr th:only-of-type {\n",
       "        vertical-align: middle;\n",
       "    }\n",
       "\n",
       "    .dataframe tbody tr th {\n",
       "        vertical-align: top;\n",
       "    }\n",
       "\n",
       "    .dataframe thead th {\n",
       "        text-align: right;\n",
       "    }\n",
       "</style>\n",
       "<table border=\"1\" class=\"dataframe\">\n",
       "  <thead>\n",
       "    <tr style=\"text-align: right;\">\n",
       "      <th></th>\n",
       "      <th>user_id</th>\n",
       "      <th>title</th>\n",
       "      <th>content</th>\n",
       "      <th>tags</th>\n",
       "      <th>slug</th>\n",
       "      <th>created_at</th>\n",
       "      <th>updated_at</th>\n",
       "      <th>image</th>\n",
       "      <th>status_id</th>\n",
       "      <th>action</th>\n",
       "      <th>post_id</th>\n",
       "      <th>actionStrength</th>\n",
       "    </tr>\n",
       "  </thead>\n",
       "  <tbody>\n",
       "    <tr>\n",
       "      <td>0</td>\n",
       "      <td>2077</td>\n",
       "      <td>What i have learnt so far on HTML</td>\n",
       "      <td>I learnt how to use the table tag as i have us...</td>\n",
       "      <td>NaN</td>\n",
       "      <td>what-i-have-learnt-so-far-on-html-985</td>\n",
       "      <td>2019-08-25 19:39:01</td>\n",
       "      <td>2019-08-28 11:30:00</td>\n",
       "      <td>1</td>\n",
       "      <td>NaN</td>\n",
       "      <td>no_action</td>\n",
       "      <td>NaN</td>\n",
       "      <td>1</td>\n",
       "    </tr>\n",
       "    <tr>\n",
       "      <td>1</td>\n",
       "      <td>1719</td>\n",
       "      <td>HTML BEGINS HERE</td>\n",
       "      <td>I am on this journey with start.ng, and here ...</td>\n",
       "      <td>Technology</td>\n",
       "      <td>html-begins-here-4d6</td>\n",
       "      <td>2019-08-25 19:44:36</td>\n",
       "      <td>2019-08-28 11:30:00</td>\n",
       "      <td>1</td>\n",
       "      <td>NaN</td>\n",
       "      <td>no_action</td>\n",
       "      <td>NaN</td>\n",
       "      <td>1</td>\n",
       "    </tr>\n",
       "    <tr>\n",
       "      <td>2</td>\n",
       "      <td>1310</td>\n",
       "      <td>My Laziness In The Open</td>\n",
       "      <td>I have not been attending classes on the HNG c...</td>\n",
       "      <td>NaN</td>\n",
       "      <td>my-laziness-in-the-open-029</td>\n",
       "      <td>2019-08-25 19:50:33</td>\n",
       "      <td>2019-08-28 11:30:00</td>\n",
       "      <td>1</td>\n",
       "      <td>NaN</td>\n",
       "      <td>no_action</td>\n",
       "      <td>NaN</td>\n",
       "      <td>1</td>\n",
       "    </tr>\n",
       "    <tr>\n",
       "      <td>3</td>\n",
       "      <td>1787</td>\n",
       "      <td>MY TASK 2</td>\n",
       "      <td>My journey on **StartNG** pre-internship progr...</td>\n",
       "      <td>NaN</td>\n",
       "      <td>my-task-2-649</td>\n",
       "      <td>2019-08-25 19:51:36</td>\n",
       "      <td>2019-08-28 11:30:00</td>\n",
       "      <td>1</td>\n",
       "      <td>NaN</td>\n",
       "      <td>no_action</td>\n",
       "      <td>NaN</td>\n",
       "      <td>1</td>\n",
       "    </tr>\n",
       "    <tr>\n",
       "      <td>4</td>\n",
       "      <td>167</td>\n",
       "      <td>Task 2</td>\n",
       "      <td>A Summary on The “idongesit.html” CV, Its Str...</td>\n",
       "      <td>NaN</td>\n",
       "      <td>task-2-7e5</td>\n",
       "      <td>2019-08-25 19:51:39</td>\n",
       "      <td>2019-08-28 11:30:00</td>\n",
       "      <td>1</td>\n",
       "      <td>NaN</td>\n",
       "      <td>no_action</td>\n",
       "      <td>NaN</td>\n",
       "      <td>1</td>\n",
       "    </tr>\n",
       "  </tbody>\n",
       "</table>\n",
       "</div>"
      ],
      "text/plain": [
       "   user_id                              title  \\\n",
       "0     2077  What i have learnt so far on HTML   \n",
       "1     1719                   HTML BEGINS HERE   \n",
       "2     1310            My Laziness In The Open   \n",
       "3     1787                          MY TASK 2   \n",
       "4      167                             Task 2   \n",
       "\n",
       "                                             content        tags  \\\n",
       "0  I learnt how to use the table tag as i have us...         NaN   \n",
       "1   I am on this journey with start.ng, and here ...  Technology   \n",
       "2  I have not been attending classes on the HNG c...         NaN   \n",
       "3  My journey on **StartNG** pre-internship progr...         NaN   \n",
       "4   A Summary on The “idongesit.html” CV, Its Str...         NaN   \n",
       "\n",
       "                                    slug           created_at  \\\n",
       "0  what-i-have-learnt-so-far-on-html-985  2019-08-25 19:39:01   \n",
       "1                   html-begins-here-4d6  2019-08-25 19:44:36   \n",
       "2            my-laziness-in-the-open-029  2019-08-25 19:50:33   \n",
       "3                          my-task-2-649  2019-08-25 19:51:36   \n",
       "4                             task-2-7e5  2019-08-25 19:51:39   \n",
       "\n",
       "            updated_at image  status_id     action  post_id  actionStrength  \n",
       "0  2019-08-28 11:30:00     1        NaN  no_action      NaN               1  \n",
       "1  2019-08-28 11:30:00     1        NaN  no_action      NaN               1  \n",
       "2  2019-08-28 11:30:00     1        NaN  no_action      NaN               1  \n",
       "3  2019-08-28 11:30:00     1        NaN  no_action      NaN               1  \n",
       "4  2019-08-28 11:30:00     1        NaN  no_action      NaN               1  "
      ]
     },
     "execution_count": 41,
     "metadata": {},
     "output_type": "execute_result"
    }
   ],
   "source": [
    "post.head()"
   ]
  },
  {
   "cell_type": "code",
   "execution_count": 42,
   "metadata": {},
   "outputs": [
    {
     "data": {
      "text/html": [
       "<div>\n",
       "<style scoped>\n",
       "    .dataframe tbody tr th:only-of-type {\n",
       "        vertical-align: middle;\n",
       "    }\n",
       "\n",
       "    .dataframe tbody tr th {\n",
       "        vertical-align: top;\n",
       "    }\n",
       "\n",
       "    .dataframe thead th {\n",
       "        text-align: right;\n",
       "    }\n",
       "</style>\n",
       "<table border=\"1\" class=\"dataframe\">\n",
       "  <thead>\n",
       "    <tr style=\"text-align: right;\">\n",
       "      <th></th>\n",
       "      <th>user_id</th>\n",
       "      <th>title</th>\n",
       "      <th>content</th>\n",
       "      <th>tags</th>\n",
       "      <th>slug</th>\n",
       "      <th>created_at</th>\n",
       "      <th>updated_at</th>\n",
       "      <th>image</th>\n",
       "      <th>status_id</th>\n",
       "      <th>action</th>\n",
       "      <th>post_id</th>\n",
       "      <th>actionStrength</th>\n",
       "    </tr>\n",
       "  </thead>\n",
       "  <tbody>\n",
       "    <tr>\n",
       "      <td>45</td>\n",
       "      <td>2168</td>\n",
       "      <td>StartNG Stage 1</td>\n",
       "      <td>Hi guys, my name is Damian Tochukwu, i go by t...</td>\n",
       "      <td>NaN</td>\n",
       "      <td>startng-stage-1-cad</td>\n",
       "      <td>2019-08-25 22:47:25</td>\n",
       "      <td>2019-08-28 11:30:03</td>\n",
       "      <td>NaN</td>\n",
       "      <td>NaN</td>\n",
       "      <td>no_action</td>\n",
       "      <td>NaN</td>\n",
       "      <td>1</td>\n",
       "    </tr>\n",
       "    <tr>\n",
       "      <td>172</td>\n",
       "      <td>1089</td>\n",
       "      <td>My Start.Ng Journey</td>\n",
       "      <td>&lt;h1&gt;The Beginning&lt;/h1&gt;\\n&lt;p&gt;I have always wante...</td>\n",
       "      <td>NaN</td>\n",
       "      <td>my-startng-journey-c81</td>\n",
       "      <td>2019-08-26 13:54:07</td>\n",
       "      <td>2019-08-28 11:30:25</td>\n",
       "      <td>NaN</td>\n",
       "      <td>NaN</td>\n",
       "      <td>no_action</td>\n",
       "      <td>NaN</td>\n",
       "      <td>1</td>\n",
       "    </tr>\n",
       "    <tr>\n",
       "      <td>492</td>\n",
       "      <td>93</td>\n",
       "      <td>My HTML Task</td>\n",
       "      <td>&lt;p&gt;&lt;img src=\"/storage/eni.fanegan/images/img-q...</td>\n",
       "      <td>NaN</td>\n",
       "      <td>my-html-task-f7c</td>\n",
       "      <td>2019-08-27 09:38:22</td>\n",
       "      <td>2019-08-28 11:30:28</td>\n",
       "      <td>eni.fanegan/images/img-v7fjystlk7.png</td>\n",
       "      <td>NaN</td>\n",
       "      <td>no_action</td>\n",
       "      <td>NaN</td>\n",
       "      <td>1</td>\n",
       "    </tr>\n",
       "    <tr>\n",
       "      <td>820</td>\n",
       "      <td>2296</td>\n",
       "      <td>Getting Started with HTML</td>\n",
       "      <td>Help everyone...\\n\\nToday we will be looking a...</td>\n",
       "      <td>NaN</td>\n",
       "      <td>getting-started-with-html-6ae</td>\n",
       "      <td>2019-08-27 17:43:39</td>\n",
       "      <td>2019-08-28 11:30:47</td>\n",
       "      <td>1</td>\n",
       "      <td>NaN</td>\n",
       "      <td>no_action</td>\n",
       "      <td>NaN</td>\n",
       "      <td>1</td>\n",
       "    </tr>\n",
       "    <tr>\n",
       "      <td>651</td>\n",
       "      <td>1201</td>\n",
       "      <td>My First Language!!</td>\n",
       "      <td>&lt;p&gt;Hello Lucid, I've learnt so much on &lt;strong...</td>\n",
       "      <td>NaN</td>\n",
       "      <td>my-first-language-d74</td>\n",
       "      <td>2019-08-27 13:13:45</td>\n",
       "      <td>2019-08-28 11:30:37</td>\n",
       "      <td>benjamin.bala.91/images/img-h0zt9aj93f.png</td>\n",
       "      <td>NaN</td>\n",
       "      <td>no_action</td>\n",
       "      <td>NaN</td>\n",
       "      <td>1</td>\n",
       "    </tr>\n",
       "  </tbody>\n",
       "</table>\n",
       "</div>"
      ],
      "text/plain": [
       "     user_id                      title  \\\n",
       "45      2168            StartNG Stage 1   \n",
       "172     1089        My Start.Ng Journey   \n",
       "492       93               My HTML Task   \n",
       "820     2296  Getting Started with HTML   \n",
       "651     1201        My First Language!!   \n",
       "\n",
       "                                               content tags  \\\n",
       "45   Hi guys, my name is Damian Tochukwu, i go by t...  NaN   \n",
       "172  <h1>The Beginning</h1>\\n<p>I have always wante...  NaN   \n",
       "492  <p><img src=\"/storage/eni.fanegan/images/img-q...  NaN   \n",
       "820  Help everyone...\\n\\nToday we will be looking a...  NaN   \n",
       "651  <p>Hello Lucid, I've learnt so much on <strong...  NaN   \n",
       "\n",
       "                              slug           created_at           updated_at  \\\n",
       "45             startng-stage-1-cad  2019-08-25 22:47:25  2019-08-28 11:30:03   \n",
       "172         my-startng-journey-c81  2019-08-26 13:54:07  2019-08-28 11:30:25   \n",
       "492               my-html-task-f7c  2019-08-27 09:38:22  2019-08-28 11:30:28   \n",
       "820  getting-started-with-html-6ae  2019-08-27 17:43:39  2019-08-28 11:30:47   \n",
       "651          my-first-language-d74  2019-08-27 13:13:45  2019-08-28 11:30:37   \n",
       "\n",
       "                                          image  status_id     action  \\\n",
       "45                                          NaN        NaN  no_action   \n",
       "172                                         NaN        NaN  no_action   \n",
       "492       eni.fanegan/images/img-v7fjystlk7.png        NaN  no_action   \n",
       "820                                           1        NaN  no_action   \n",
       "651  benjamin.bala.91/images/img-h0zt9aj93f.png        NaN  no_action   \n",
       "\n",
       "     post_id  actionStrength  \n",
       "45       NaN               1  \n",
       "172      NaN               1  \n",
       "492      NaN               1  \n",
       "820      NaN               1  \n",
       "651      NaN               1  "
      ]
     },
     "execution_count": 42,
     "metadata": {},
     "output_type": "execute_result"
    }
   ],
   "source": [
    "train_data.head()"
   ]
  },
  {
   "cell_type": "code",
   "execution_count": 43,
   "metadata": {},
   "outputs": [],
   "source": [
    "col = ['tags', 'slug', 'created_at', 'updated_at', 'image', 'status_id', 'action', 'post_id']\n",
    "\n",
    "train_data = train_data.drop(train_data[col], axis=1)"
   ]
  },
  {
   "cell_type": "code",
   "execution_count": 44,
   "metadata": {},
   "outputs": [
    {
     "name": "stderr",
     "output_type": "stream",
     "text": [
      "/home/godwin/anaconda3/lib/python3.6/site-packages/ipykernel_launcher.py:2: SettingWithCopyWarning: \n",
      "A value is trying to be set on a copy of a slice from a DataFrame.\n",
      "Try using .loc[row_indexer,col_indexer] = value instead\n",
      "\n",
      "See the caveats in the documentation: http://pandas.pydata.org/pandas-docs/stable/user_guide/indexing.html#returning-a-view-versus-a-copy\n",
      "  \n",
      "/home/godwin/anaconda3/lib/python3.6/site-packages/ipykernel_launcher.py:3: SettingWithCopyWarning: \n",
      "A value is trying to be set on a copy of a slice from a DataFrame.\n",
      "Try using .loc[row_indexer,col_indexer] = value instead\n",
      "\n",
      "See the caveats in the documentation: http://pandas.pydata.org/pandas-docs/stable/user_guide/indexing.html#returning-a-view-versus-a-copy\n",
      "  This is separate from the ipykernel package so we can avoid doing imports until\n",
      "/home/godwin/anaconda3/lib/python3.6/site-packages/ipykernel_launcher.py:4: SettingWithCopyWarning: \n",
      "A value is trying to be set on a copy of a slice from a DataFrame.\n",
      "Try using .loc[row_indexer,col_indexer] = value instead\n",
      "\n",
      "See the caveats in the documentation: http://pandas.pydata.org/pandas-docs/stable/user_guide/indexing.html#returning-a-view-versus-a-copy\n",
      "  after removing the cwd from sys.path.\n",
      "/home/godwin/anaconda3/lib/python3.6/site-packages/ipykernel_launcher.py:5: SettingWithCopyWarning: \n",
      "A value is trying to be set on a copy of a slice from a DataFrame.\n",
      "Try using .loc[row_indexer,col_indexer] = value instead\n",
      "\n",
      "See the caveats in the documentation: http://pandas.pydata.org/pandas-docs/stable/user_guide/indexing.html#returning-a-view-versus-a-copy\n",
      "  \"\"\"\n",
      "/home/godwin/anaconda3/lib/python3.6/site-packages/ipykernel_launcher.py:6: SettingWithCopyWarning: \n",
      "A value is trying to be set on a copy of a slice from a DataFrame.\n",
      "Try using .loc[row_indexer,col_indexer] = value instead\n",
      "\n",
      "See the caveats in the documentation: http://pandas.pydata.org/pandas-docs/stable/user_guide/indexing.html#returning-a-view-versus-a-copy\n",
      "  \n",
      "/home/godwin/anaconda3/lib/python3.6/site-packages/ipykernel_launcher.py:7: SettingWithCopyWarning: \n",
      "A value is trying to be set on a copy of a slice from a DataFrame.\n",
      "Try using .loc[row_indexer,col_indexer] = value instead\n",
      "\n",
      "See the caveats in the documentation: http://pandas.pydata.org/pandas-docs/stable/user_guide/indexing.html#returning-a-view-versus-a-copy\n",
      "  import sys\n",
      "/home/godwin/anaconda3/lib/python3.6/site-packages/ipykernel_launcher.py:8: SettingWithCopyWarning: \n",
      "A value is trying to be set on a copy of a slice from a DataFrame.\n",
      "Try using .loc[row_indexer,col_indexer] = value instead\n",
      "\n",
      "See the caveats in the documentation: http://pandas.pydata.org/pandas-docs/stable/user_guide/indexing.html#returning-a-view-versus-a-copy\n",
      "  \n",
      "/home/godwin/anaconda3/lib/python3.6/site-packages/ipykernel_launcher.py:9: SettingWithCopyWarning: \n",
      "A value is trying to be set on a copy of a slice from a DataFrame.\n",
      "Try using .loc[row_indexer,col_indexer] = value instead\n",
      "\n",
      "See the caveats in the documentation: http://pandas.pydata.org/pandas-docs/stable/user_guide/indexing.html#returning-a-view-versus-a-copy\n",
      "  if __name__ == '__main__':\n",
      "/home/godwin/anaconda3/lib/python3.6/site-packages/ipykernel_launcher.py:10: SettingWithCopyWarning: \n",
      "A value is trying to be set on a copy of a slice from a DataFrame.\n",
      "Try using .loc[row_indexer,col_indexer] = value instead\n",
      "\n",
      "See the caveats in the documentation: http://pandas.pydata.org/pandas-docs/stable/user_guide/indexing.html#returning-a-view-versus-a-copy\n",
      "  # Remove the CWD from sys.path while we load stuff.\n",
      "/home/godwin/anaconda3/lib/python3.6/site-packages/ipykernel_launcher.py:11: SettingWithCopyWarning: \n",
      "A value is trying to be set on a copy of a slice from a DataFrame.\n",
      "Try using .loc[row_indexer,col_indexer] = value instead\n",
      "\n",
      "See the caveats in the documentation: http://pandas.pydata.org/pandas-docs/stable/user_guide/indexing.html#returning-a-view-versus-a-copy\n",
      "  # This is added back by InteractiveShellApp.init_path()\n",
      "/home/godwin/anaconda3/lib/python3.6/site-packages/ipykernel_launcher.py:12: SettingWithCopyWarning: \n",
      "A value is trying to be set on a copy of a slice from a DataFrame.\n",
      "Try using .loc[row_indexer,col_indexer] = value instead\n",
      "\n",
      "See the caveats in the documentation: http://pandas.pydata.org/pandas-docs/stable/user_guide/indexing.html#returning-a-view-versus-a-copy\n",
      "  if sys.path[0] == '':\n",
      "/home/godwin/anaconda3/lib/python3.6/site-packages/ipykernel_launcher.py:13: SettingWithCopyWarning: \n",
      "A value is trying to be set on a copy of a slice from a DataFrame.\n",
      "Try using .loc[row_indexer,col_indexer] = value instead\n",
      "\n",
      "See the caveats in the documentation: http://pandas.pydata.org/pandas-docs/stable/user_guide/indexing.html#returning-a-view-versus-a-copy\n",
      "  del sys.path[0]\n",
      "/home/godwin/anaconda3/lib/python3.6/site-packages/ipykernel_launcher.py:14: SettingWithCopyWarning: \n",
      "A value is trying to be set on a copy of a slice from a DataFrame.\n",
      "Try using .loc[row_indexer,col_indexer] = value instead\n",
      "\n",
      "See the caveats in the documentation: http://pandas.pydata.org/pandas-docs/stable/user_guide/indexing.html#returning-a-view-versus-a-copy\n",
      "  \n",
      "/home/godwin/anaconda3/lib/python3.6/site-packages/ipykernel_launcher.py:15: SettingWithCopyWarning: \n",
      "A value is trying to be set on a copy of a slice from a DataFrame.\n",
      "Try using .loc[row_indexer,col_indexer] = value instead\n",
      "\n",
      "See the caveats in the documentation: http://pandas.pydata.org/pandas-docs/stable/user_guide/indexing.html#returning-a-view-versus-a-copy\n",
      "  from ipykernel import kernelapp as app\n",
      "/home/godwin/anaconda3/lib/python3.6/site-packages/ipykernel_launcher.py:16: SettingWithCopyWarning: \n",
      "A value is trying to be set on a copy of a slice from a DataFrame.\n",
      "Try using .loc[row_indexer,col_indexer] = value instead\n",
      "\n",
      "See the caveats in the documentation: http://pandas.pydata.org/pandas-docs/stable/user_guide/indexing.html#returning-a-view-versus-a-copy\n",
      "  app.launch_new_instance()\n"
     ]
    },
    {
     "data": {
      "text/html": [
       "<div>\n",
       "<style scoped>\n",
       "    .dataframe tbody tr th:only-of-type {\n",
       "        vertical-align: middle;\n",
       "    }\n",
       "\n",
       "    .dataframe tbody tr th {\n",
       "        vertical-align: top;\n",
       "    }\n",
       "\n",
       "    .dataframe thead th {\n",
       "        text-align: right;\n",
       "    }\n",
       "</style>\n",
       "<table border=\"1\" class=\"dataframe\">\n",
       "  <thead>\n",
       "    <tr style=\"text-align: right;\">\n",
       "      <th></th>\n",
       "      <th>user_id</th>\n",
       "      <th>title</th>\n",
       "      <th>content</th>\n",
       "      <th>actionStrength</th>\n",
       "    </tr>\n",
       "  </thead>\n",
       "  <tbody>\n",
       "    <tr>\n",
       "      <td>45</td>\n",
       "      <td>2168</td>\n",
       "      <td>StartNG Stage 1</td>\n",
       "      <td>hi guys my name is damian tochukwu i go by the...</td>\n",
       "      <td>1</td>\n",
       "    </tr>\n",
       "    <tr>\n",
       "      <td>172</td>\n",
       "      <td>1089</td>\n",
       "      <td>My Start.Ng Journey</td>\n",
       "      <td>h1 the beginning  h1 \\n p i have always wante...</td>\n",
       "      <td>1</td>\n",
       "    </tr>\n",
       "    <tr>\n",
       "      <td>492</td>\n",
       "      <td>93</td>\n",
       "      <td>My HTML Task</td>\n",
       "      <td>p  img src \" storage eni fanegan images img q...</td>\n",
       "      <td>1</td>\n",
       "    </tr>\n",
       "    <tr>\n",
       "      <td>820</td>\n",
       "      <td>2296</td>\n",
       "      <td>Getting Started with HTML</td>\n",
       "      <td>help everyone   \\n\\ntoday we will be looking a...</td>\n",
       "      <td>1</td>\n",
       "    </tr>\n",
       "    <tr>\n",
       "      <td>651</td>\n",
       "      <td>1201</td>\n",
       "      <td>My First Language!!</td>\n",
       "      <td>p hello lucid i've learnt so much on  strong ...</td>\n",
       "      <td>1</td>\n",
       "    </tr>\n",
       "  </tbody>\n",
       "</table>\n",
       "</div>"
      ],
      "text/plain": [
       "     user_id                      title  \\\n",
       "45      2168            StartNG Stage 1   \n",
       "172     1089        My Start.Ng Journey   \n",
       "492       93               My HTML Task   \n",
       "820     2296  Getting Started with HTML   \n",
       "651     1201        My First Language!!   \n",
       "\n",
       "                                               content  actionStrength  \n",
       "45   hi guys my name is damian tochukwu i go by the...               1  \n",
       "172   h1 the beginning  h1 \\n p i have always wante...               1  \n",
       "492   p  img src \" storage eni fanegan images img q...               1  \n",
       "820  help everyone   \\n\\ntoday we will be looking a...               1  \n",
       "651   p hello lucid i've learnt so much on  strong ...               1  "
      ]
     },
     "execution_count": 44,
     "metadata": {},
     "output_type": "execute_result"
    }
   ],
   "source": [
    "def standardize_text(df, text_field):\n",
    "    df[text_field] = df[text_field].str.replace(r\"http\\S+\", \"\")\n",
    "    df[text_field] = df[text_field].str.replace(r\",\", \"\")\n",
    "    df[text_field] = df[text_field].str.replace(r\"!\", \"\")\n",
    "    df[text_field] = df[text_field].str.replace(r\"(\", \"\")\n",
    "    df[text_field] = df[text_field].str.replace(r\")\", \"\")\n",
    "    df[text_field] = df[text_field].str.replace(r\"?\", \"\")\n",
    "    df[text_field] = df[text_field].str.replace(r\"*\", \"\")\n",
    "    df[text_field] = df[text_field].str.replace(r\"$\", \"\")\n",
    "    df[text_field] = df[text_field].str.replace(r\"%\", \"\")\n",
    "    df[text_field] = df[text_field].str.replace(r\"&\", \"\")\n",
    "    df[text_field] = df[text_field].str.replace(r\"http\", \"\")\n",
    "    df[text_field] = df[text_field].str.replace(r\"@\\S+\", \"\")\n",
    "    df[text_field] = df[text_field].str.replace(r\"[^A-Za-z0-9(),!?@\\'\\`\\\"\\_\\n]\", \" \")\n",
    "    df[text_field] = df[text_field].str.replace(r\"@\", \"at\")\n",
    "    df[text_field] = df[text_field].str.lower()\n",
    "    return df\n",
    "\n",
    "train_data = standardize_text(train_data, \"content\")\n",
    "test_data = standardize_text(test_data, 'content')\n",
    "\n",
    "#cleaned_data.to_csv(\"clean_data.csv\")\n",
    "train_data.head()"
   ]
  },
  {
   "cell_type": "code",
   "execution_count": 45,
   "metadata": {},
   "outputs": [
    {
     "data": {
      "text/html": [
       "<div>\n",
       "<style scoped>\n",
       "    .dataframe tbody tr th:only-of-type {\n",
       "        vertical-align: middle;\n",
       "    }\n",
       "\n",
       "    .dataframe tbody tr th {\n",
       "        vertical-align: top;\n",
       "    }\n",
       "\n",
       "    .dataframe thead th {\n",
       "        text-align: right;\n",
       "    }\n",
       "</style>\n",
       "<table border=\"1\" class=\"dataframe\">\n",
       "  <thead>\n",
       "    <tr style=\"text-align: right;\">\n",
       "      <th></th>\n",
       "      <th>user_id</th>\n",
       "      <th>title</th>\n",
       "      <th>content</th>\n",
       "      <th>actionStrength</th>\n",
       "    </tr>\n",
       "  </thead>\n",
       "  <tbody>\n",
       "    <tr>\n",
       "      <td>45</td>\n",
       "      <td>2168</td>\n",
       "      <td>StartNG Stage 1</td>\n",
       "      <td>hi guys my name is damian tochukwu i go by the...</td>\n",
       "      <td>1</td>\n",
       "    </tr>\n",
       "    <tr>\n",
       "      <td>172</td>\n",
       "      <td>1089</td>\n",
       "      <td>My Start.Ng Journey</td>\n",
       "      <td>h1 the beginning  h1 \\n p i have always wante...</td>\n",
       "      <td>1</td>\n",
       "    </tr>\n",
       "    <tr>\n",
       "      <td>492</td>\n",
       "      <td>93</td>\n",
       "      <td>My HTML Task</td>\n",
       "      <td>p  img src \" storage eni fanegan images img q...</td>\n",
       "      <td>1</td>\n",
       "    </tr>\n",
       "    <tr>\n",
       "      <td>820</td>\n",
       "      <td>2296</td>\n",
       "      <td>Getting Started with HTML</td>\n",
       "      <td>help everyone   \\n\\ntoday we will be looking a...</td>\n",
       "      <td>1</td>\n",
       "    </tr>\n",
       "    <tr>\n",
       "      <td>651</td>\n",
       "      <td>1201</td>\n",
       "      <td>My First Language!!</td>\n",
       "      <td>p hello lucid i've learnt so much on  strong ...</td>\n",
       "      <td>1</td>\n",
       "    </tr>\n",
       "    <tr>\n",
       "      <td>...</td>\n",
       "      <td>...</td>\n",
       "      <td>...</td>\n",
       "      <td>...</td>\n",
       "      <td>...</td>\n",
       "    </tr>\n",
       "    <tr>\n",
       "      <td>835</td>\n",
       "      <td>1717</td>\n",
       "      <td>My html project</td>\n",
       "      <td>p html is one of the many languages used for ...</td>\n",
       "      <td>1</td>\n",
       "    </tr>\n",
       "    <tr>\n",
       "      <td>192</td>\n",
       "      <td>280</td>\n",
       "      <td>My experience and what I have learnt so far.</td>\n",
       "      <td>p  learning is not attained by chance it must...</td>\n",
       "      <td>1</td>\n",
       "    </tr>\n",
       "    <tr>\n",
       "      <td>629</td>\n",
       "      <td>455</td>\n",
       "      <td>HTML among other things</td>\n",
       "      <td>p although i've already been using html for a...</td>\n",
       "      <td>1</td>\n",
       "    </tr>\n",
       "    <tr>\n",
       "      <td>559</td>\n",
       "      <td>952</td>\n",
       "      <td>curriculum vitae</td>\n",
       "      <td>p okey guys here is my pure html work without...</td>\n",
       "      <td>1</td>\n",
       "    </tr>\n",
       "    <tr>\n",
       "      <td>684</td>\n",
       "      <td>1667</td>\n",
       "      <td>HTML CHRONICLES</td>\n",
       "      <td>h1    h1 \\n p      p \\n h1  strong  em  html ...</td>\n",
       "      <td>1</td>\n",
       "    </tr>\n",
       "  </tbody>\n",
       "</table>\n",
       "<p>700 rows × 4 columns</p>\n",
       "</div>"
      ],
      "text/plain": [
       "     user_id                                         title  \\\n",
       "45      2168                               StartNG Stage 1   \n",
       "172     1089                           My Start.Ng Journey   \n",
       "492       93                                  My HTML Task   \n",
       "820     2296                     Getting Started with HTML   \n",
       "651     1201                           My First Language!!   \n",
       "..       ...                                           ...   \n",
       "835     1717                               My html project   \n",
       "192      280  My experience and what I have learnt so far.   \n",
       "629      455                       HTML among other things   \n",
       "559      952                              curriculum vitae   \n",
       "684     1667                               HTML CHRONICLES   \n",
       "\n",
       "                                               content  actionStrength  \n",
       "45   hi guys my name is damian tochukwu i go by the...               1  \n",
       "172   h1 the beginning  h1 \\n p i have always wante...               1  \n",
       "492   p  img src \" storage eni fanegan images img q...               1  \n",
       "820  help everyone   \\n\\ntoday we will be looking a...               1  \n",
       "651   p hello lucid i've learnt so much on  strong ...               1  \n",
       "..                                                 ...             ...  \n",
       "835   p html is one of the many languages used for ...               1  \n",
       "192   p  learning is not attained by chance it must...               1  \n",
       "629   p although i've already been using html for a...               1  \n",
       "559   p okey guys here is my pure html work without...               1  \n",
       "684   h1    h1 \\n p      p \\n h1  strong  em  html ...               1  \n",
       "\n",
       "[700 rows x 4 columns]"
      ]
     },
     "execution_count": 45,
     "metadata": {},
     "output_type": "execute_result"
    }
   ],
   "source": [
    "train_data"
   ]
  },
  {
   "cell_type": "code",
   "execution_count": 46,
   "metadata": {},
   "outputs": [
    {
     "name": "stdout",
     "output_type": "stream",
     "text": [
      "<class 'pandas.core.frame.DataFrame'>\n",
      "Int64Index: 700 entries, 45 to 684\n",
      "Data columns (total 4 columns):\n",
      "user_id           700 non-null int64\n",
      "title             700 non-null object\n",
      "content           700 non-null object\n",
      "actionStrength    700 non-null int64\n",
      "dtypes: int64(2), object(2)\n",
      "memory usage: 27.3+ KB\n"
     ]
    }
   ],
   "source": [
    "train_data.info()"
   ]
  },
  {
   "cell_type": "code",
   "execution_count": 47,
   "metadata": {},
   "outputs": [],
   "source": [
    "train_data_sframe = tc.SFrame(train_data)\n"
   ]
  },
  {
   "cell_type": "code",
   "execution_count": 70,
   "metadata": {},
   "outputs": [
    {
     "data": {
      "text/html": [
       "<pre>Warning: Ignoring columns title;</pre>"
      ],
      "text/plain": [
       "Warning: Ignoring columns title;"
      ]
     },
     "metadata": {},
     "output_type": "display_data"
    },
    {
     "data": {
      "text/html": [
       "<pre>    To use these columns in scoring predictions, use a model that allows the use of additional features.</pre>"
      ],
      "text/plain": [
       "    To use these columns in scoring predictions, use a model that allows the use of additional features."
      ]
     },
     "metadata": {},
     "output_type": "display_data"
    },
    {
     "data": {
      "text/html": [
       "<pre>Preparing data set.</pre>"
      ],
      "text/plain": [
       "Preparing data set."
      ]
     },
     "metadata": {},
     "output_type": "display_data"
    },
    {
     "data": {
      "text/html": [
       "<pre>    Data has 700 observations with 285 users and 608 items.</pre>"
      ],
      "text/plain": [
       "    Data has 700 observations with 285 users and 608 items."
      ]
     },
     "metadata": {},
     "output_type": "display_data"
    },
    {
     "data": {
      "text/html": [
       "<pre>    Data prepared in: 0.011298s</pre>"
      ],
      "text/plain": [
       "    Data prepared in: 0.011298s"
      ]
     },
     "metadata": {},
     "output_type": "display_data"
    },
    {
     "data": {
      "text/html": [
       "<pre>Training model from provided data.</pre>"
      ],
      "text/plain": [
       "Training model from provided data."
      ]
     },
     "metadata": {},
     "output_type": "display_data"
    },
    {
     "data": {
      "text/html": [
       "<pre>Gathering per-item and per-user statistics.</pre>"
      ],
      "text/plain": [
       "Gathering per-item and per-user statistics."
      ]
     },
     "metadata": {},
     "output_type": "display_data"
    },
    {
     "data": {
      "text/html": [
       "<pre>+--------------------------------+------------+</pre>"
      ],
      "text/plain": [
       "+--------------------------------+------------+"
      ]
     },
     "metadata": {},
     "output_type": "display_data"
    },
    {
     "data": {
      "text/html": [
       "<pre>| Elapsed Time (Item Statistics) | % Complete |</pre>"
      ],
      "text/plain": [
       "| Elapsed Time (Item Statistics) | % Complete |"
      ]
     },
     "metadata": {},
     "output_type": "display_data"
    },
    {
     "data": {
      "text/html": [
       "<pre>+--------------------------------+------------+</pre>"
      ],
      "text/plain": [
       "+--------------------------------+------------+"
      ]
     },
     "metadata": {},
     "output_type": "display_data"
    },
    {
     "data": {
      "text/html": [
       "<pre>| 40.281ms                       | 100        |</pre>"
      ],
      "text/plain": [
       "| 40.281ms                       | 100        |"
      ]
     },
     "metadata": {},
     "output_type": "display_data"
    },
    {
     "data": {
      "text/html": [
       "<pre>+--------------------------------+------------+</pre>"
      ],
      "text/plain": [
       "+--------------------------------+------------+"
      ]
     },
     "metadata": {},
     "output_type": "display_data"
    },
    {
     "data": {
      "text/html": [
       "<pre>Setting up lookup tables.</pre>"
      ],
      "text/plain": [
       "Setting up lookup tables."
      ]
     },
     "metadata": {},
     "output_type": "display_data"
    },
    {
     "data": {
      "text/html": [
       "<pre>Processing data in one pass using dense lookup tables.</pre>"
      ],
      "text/plain": [
       "Processing data in one pass using dense lookup tables."
      ]
     },
     "metadata": {},
     "output_type": "display_data"
    },
    {
     "data": {
      "text/html": [
       "<pre>+-------------------------------------+------------------+-----------------+</pre>"
      ],
      "text/plain": [
       "+-------------------------------------+------------------+-----------------+"
      ]
     },
     "metadata": {},
     "output_type": "display_data"
    },
    {
     "data": {
      "text/html": [
       "<pre>| Elapsed Time (Constructing Lookups) | Total % Complete | Items Processed |</pre>"
      ],
      "text/plain": [
       "| Elapsed Time (Constructing Lookups) | Total % Complete | Items Processed |"
      ]
     },
     "metadata": {},
     "output_type": "display_data"
    },
    {
     "data": {
      "text/html": [
       "<pre>+-------------------------------------+------------------+-----------------+</pre>"
      ],
      "text/plain": [
       "+-------------------------------------+------------------+-----------------+"
      ]
     },
     "metadata": {},
     "output_type": "display_data"
    },
    {
     "data": {
      "text/html": [
       "<pre>| 89.471ms                            | 0                | 1               |</pre>"
      ],
      "text/plain": [
       "| 89.471ms                            | 0                | 1               |"
      ]
     },
     "metadata": {},
     "output_type": "display_data"
    },
    {
     "data": {
      "text/html": [
       "<pre>| 93.123ms                            | 100              | 608             |</pre>"
      ],
      "text/plain": [
       "| 93.123ms                            | 100              | 608             |"
      ]
     },
     "metadata": {},
     "output_type": "display_data"
    },
    {
     "data": {
      "text/html": [
       "<pre>+-------------------------------------+------------------+-----------------+</pre>"
      ],
      "text/plain": [
       "+-------------------------------------+------------------+-----------------+"
      ]
     },
     "metadata": {},
     "output_type": "display_data"
    },
    {
     "data": {
      "text/html": [
       "<pre>Finalizing lookup tables.</pre>"
      ],
      "text/plain": [
       "Finalizing lookup tables."
      ]
     },
     "metadata": {},
     "output_type": "display_data"
    },
    {
     "data": {
      "text/html": [
       "<pre>Generating candidate set for working with new users.</pre>"
      ],
      "text/plain": [
       "Generating candidate set for working with new users."
      ]
     },
     "metadata": {},
     "output_type": "display_data"
    },
    {
     "data": {
      "text/html": [
       "<pre>Finished training in 0.217499s</pre>"
      ],
      "text/plain": [
       "Finished training in 0.217499s"
      ]
     },
     "metadata": {},
     "output_type": "display_data"
    }
   ],
   "source": [
    "item_sim_model = tc.item_similarity_recommender.create(train_data_sframe, user_id='user_id', \n",
    "                                                       item_id='content', \n",
    "                                                       target='actionStrength', similarity_type='cosine')"
   ]
  },
  {
   "cell_type": "code",
   "execution_count": 62,
   "metadata": {
    "scrolled": true
   },
   "outputs": [
    {
     "name": "stdout",
     "output_type": "stream",
     "text": [
      "+---------+-------------------------------+-------+------+\n",
      "| user_id |            content            | score | rank |\n",
      "+---------+-------------------------------+-------+------+\n",
      "|   871   |  p just wanted to see if l... |  0.0  |  1   |\n",
      "|   871   |  p hello lucid i've learnt... |  0.0  |  2   |\n",
      "|   871   | help everyone   \\n\\ntoday ... |  0.0  |  3   |\n",
      "|   871   |  p  img src \" storage eni ... |  0.0  |  4   |\n",
      "|   871   |  h1 the beginning  h1 \\n p... |  0.0  |  5   |\n",
      "|   871   | hi guys my name is damian ... |  0.0  |  6   |\n",
      "|   872   |  p just wanted to see if l... |  0.0  |  1   |\n",
      "|   872   |  p hello lucid i've learnt... |  0.0  |  2   |\n",
      "|   872   | help everyone   \\n\\ntoday ... |  0.0  |  3   |\n",
      "|   872   |  p  img src \" storage eni ... |  0.0  |  4   |\n",
      "|   872   |  h1 the beginning  h1 \\n p... |  0.0  |  5   |\n",
      "|   872   | hi guys my name is damian ... |  0.0  |  6   |\n",
      "|   873   |  p just wanted to see if l... |  0.0  |  1   |\n",
      "|   873   |  p hello lucid i've learnt... |  0.0  |  2   |\n",
      "|   873   | help everyone   \\n\\ntoday ... |  0.0  |  3   |\n",
      "|   873   |  p  img src \" storage eni ... |  0.0  |  4   |\n",
      "|   873   |  h1 the beginning  h1 \\n p... |  0.0  |  5   |\n",
      "|   873   | hi guys my name is damian ... |  0.0  |  6   |\n",
      "|   874   |  p just wanted to see if l... |  0.0  |  1   |\n",
      "|   874   |  p hello lucid i've learnt... |  0.0  |  2   |\n",
      "|   874   | help everyone   \\n\\ntoday ... |  0.0  |  3   |\n",
      "|   874   |  p  img src \" storage eni ... |  0.0  |  4   |\n",
      "|   874   |  h1 the beginning  h1 \\n p... |  0.0  |  5   |\n",
      "|   874   | hi guys my name is damian ... |  0.0  |  6   |\n",
      "|   875   |  p just wanted to see if l... |  0.0  |  1   |\n",
      "|   875   |  p hello lucid i've learnt... |  0.0  |  2   |\n",
      "|   875   | help everyone   \\n\\ntoday ... |  0.0  |  3   |\n",
      "|   875   |  p  img src \" storage eni ... |  0.0  |  4   |\n",
      "|   875   |  h1 the beginning  h1 \\n p... |  0.0  |  5   |\n",
      "|   875   | hi guys my name is damian ... |  0.0  |  6   |\n",
      "+---------+-------------------------------+-------+------+\n",
      "[30 rows x 4 columns]\n",
      "\n"
     ]
    }
   ],
   "source": [
    "item_sim_recomm = item_sim_model.recommend(users=[871,872,873,874,875],k=6)\n",
    "item_sim_recomm.print_rows(num_rows=70)"
   ]
  },
  {
   "cell_type": "code",
   "execution_count": 67,
   "metadata": {},
   "outputs": [
    {
     "data": {
      "text/html": [
       "<pre>Warning: Ignoring columns content;</pre>"
      ],
      "text/plain": [
       "Warning: Ignoring columns content;"
      ]
     },
     "metadata": {},
     "output_type": "display_data"
    },
    {
     "data": {
      "text/html": [
       "<pre>    To use these columns in scoring predictions, use a model that allows the use of additional features.</pre>"
      ],
      "text/plain": [
       "    To use these columns in scoring predictions, use a model that allows the use of additional features."
      ]
     },
     "metadata": {},
     "output_type": "display_data"
    },
    {
     "data": {
      "text/html": [
       "<pre>Preparing data set.</pre>"
      ],
      "text/plain": [
       "Preparing data set."
      ]
     },
     "metadata": {},
     "output_type": "display_data"
    },
    {
     "data": {
      "text/html": [
       "<pre>    Data has 700 observations with 285 users and 546 items.</pre>"
      ],
      "text/plain": [
       "    Data has 700 observations with 285 users and 546 items."
      ]
     },
     "metadata": {},
     "output_type": "display_data"
    },
    {
     "data": {
      "text/html": [
       "<pre>    Data prepared in: 0.741941s</pre>"
      ],
      "text/plain": [
       "    Data prepared in: 0.741941s"
      ]
     },
     "metadata": {},
     "output_type": "display_data"
    },
    {
     "data": {
      "text/html": [
       "<pre>700 observations to process; with 546 unique items.</pre>"
      ],
      "text/plain": [
       "700 observations to process; with 546 unique items."
      ]
     },
     "metadata": {},
     "output_type": "display_data"
    }
   ],
   "source": [
    "popularity_model = tc.popularity_recommender.create(train_data_sframe, user_id='user_id', \n",
    "                                                       item_id='title', \n",
    "                                                       target='actionStrength')"
   ]
  },
  {
   "cell_type": "code",
   "execution_count": 68,
   "metadata": {},
   "outputs": [
    {
     "name": "stdout",
     "output_type": "stream",
     "text": [
      "+---------+------------------------------+-------+------+\n",
      "| user_id |            title             | score | rank |\n",
      "+---------+------------------------------+-------+------+\n",
      "|   871   |            Am ok             |  3.0  |  1   |\n",
      "|   871   |         with picture         |  3.0  |  2   |\n",
      "|   871   |             TEst             |  3.0  |  3   |\n",
      "|   871   |          jbhjkhkbb           |  3.0  |  4   |\n",
      "|   871   |     Your face PHP script     |  2.0  |  5   |\n",
      "|   871   | Lucid post to start.ng Task1 |  1.0  |  6   |\n",
      "|   871   |       Testing Testing        |  1.0  |  7   |\n",
      "|   872   |            Am ok             |  3.0  |  1   |\n",
      "|   872   |         with picture         |  3.0  |  2   |\n",
      "|   872   |             TEst             |  3.0  |  3   |\n",
      "|   872   |          jbhjkhkbb           |  3.0  |  4   |\n",
      "|   872   |     Your face PHP script     |  2.0  |  5   |\n",
      "|   872   | Lucid post to start.ng Task1 |  1.0  |  6   |\n",
      "|   872   |       Testing Testing        |  1.0  |  7   |\n",
      "|   873   |            Am ok             |  3.0  |  1   |\n",
      "|   873   |         with picture         |  3.0  |  2   |\n",
      "|   873   |             TEst             |  3.0  |  3   |\n",
      "|   873   |          jbhjkhkbb           |  3.0  |  4   |\n",
      "|   873   |     Your face PHP script     |  2.0  |  5   |\n",
      "|   873   | Lucid post to start.ng Task1 |  1.0  |  6   |\n",
      "|   873   |       Testing Testing        |  1.0  |  7   |\n",
      "|   874   |            Am ok             |  3.0  |  1   |\n",
      "|   874   |         with picture         |  3.0  |  2   |\n",
      "|   874   |             TEst             |  3.0  |  3   |\n",
      "|   874   |          jbhjkhkbb           |  3.0  |  4   |\n",
      "|   874   |     Your face PHP script     |  2.0  |  5   |\n",
      "|   874   | Lucid post to start.ng Task1 |  1.0  |  6   |\n",
      "|   874   |       Testing Testing        |  1.0  |  7   |\n",
      "|   875   |            Am ok             |  3.0  |  1   |\n",
      "|   875   |         with picture         |  3.0  |  2   |\n",
      "|   875   |             TEst             |  3.0  |  3   |\n",
      "|   875   |          jbhjkhkbb           |  3.0  |  4   |\n",
      "|   875   |     Your face PHP script     |  2.0  |  5   |\n",
      "|   875   | Lucid post to start.ng Task1 |  1.0  |  6   |\n",
      "|   875   |       Testing Testing        |  1.0  |  7   |\n",
      "+---------+------------------------------+-------+------+\n",
      "[35 rows x 4 columns]\n",
      "\n"
     ]
    }
   ],
   "source": [
    "pop_recomm = popularity_model.recommend(users=[871,872,873,874,875],k=7)\n",
    "pop_recomm.print_rows(num_rows=70)"
   ]
  },
  {
   "cell_type": "code",
   "execution_count": null,
   "metadata": {},
   "outputs": [],
   "source": []
  }
 ],
 "metadata": {
  "kernelspec": {
   "display_name": "Python 3",
   "language": "python",
   "name": "python3"
  },
  "language_info": {
   "codemirror_mode": {
    "name": "ipython",
    "version": 3
   },
   "file_extension": ".py",
   "mimetype": "text/x-python",
   "name": "python",
   "nbconvert_exporter": "python",
   "pygments_lexer": "ipython3",
   "version": "3.6.8"
  }
 },
 "nbformat": 4,
 "nbformat_minor": 2
}
