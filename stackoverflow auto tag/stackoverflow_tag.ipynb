{
  "nbformat": 4,
  "nbformat_minor": 0,
  "metadata": {
    "colab": {
      "name": "stackoverflow tag",
      "provenance": [],
      "collapsed_sections": [],
      "machine_shape": "hm",
      "include_colab_link": true
    },
    "kernelspec": {
      "name": "python3",
      "display_name": "Python 3"
    },
    "accelerator": "GPU"
  },
  "cells": [
    {
      "cell_type": "markdown",
      "metadata": {
        "id": "view-in-github",
        "colab_type": "text"
      },
      "source": [
        "<a href=\"https://colab.research.google.com/github/geewynn/nlp_projects/blob/master/stackoverflow_tag.ipynb\" target=\"_parent\"><img src=\"https://colab.research.google.com/assets/colab-badge.svg\" alt=\"Open In Colab\"/></a>"
      ]
    },
    {
      "cell_type": "markdown",
      "metadata": {
        "id": "jcyqogFaz8Kt",
        "colab_type": "text"
      },
      "source": [
        "#Import Packages"
      ]
    },
    {
      "cell_type": "code",
      "metadata": {
        "id": "hQTY0qvDKe5r",
        "colab_type": "code",
        "colab": {
          "base_uri": "https://localhost:8080/",
          "height": 98
        },
        "outputId": "1d978a31-9580-4eb5-b8eb-e126587db4f0"
      },
      "source": [
        "import pandas as pd\n",
        "import numpy as np\n",
        "import seaborn as sns\n",
        "import matplotlib.pyplot as plt\n",
        "import re\n",
        "import nltk\n",
        "from nltk.tokenize import ToktokTokenizer\n",
        "from nltk.stem.wordnet import WordNetLemmatizer\n",
        "from nltk.corpus import stopwords\n",
        "from scipy.sparse import hstack\n",
        "from string import punctuation\n",
        "from sklearn.feature_extraction.text import TfidfVectorizer\n",
        "from sklearn.preprocessing import MultiLabelBinarizer\n",
        "from sklearn.model_selection import train_test_split\n",
        "from sklearn.multiclass import OneVsRestClassifier\n",
        "from sklearn.metrics import classification_report, f1_score, precision_score, recall_score, accuracy_score\n",
        "from sklearn.linear_model import SGDClassifier\n",
        "from sklearn.ensemble import RandomForestClassifier\n",
        "from sklearn.linear_model import LogisticRegression\n",
        "\n",
        "import warnings\n",
        "warnings.filterwarnings('ignore')\n",
        "\n",
        "nltk.download('stopwords')\n",
        "nltk.download('wordnet')"
      ],
      "execution_count": 148,
      "outputs": [
        {
          "output_type": "stream",
          "text": [
            "[nltk_data] Downloading package stopwords to /root/nltk_data...\n",
            "[nltk_data]   Package stopwords is already up-to-date!\n",
            "[nltk_data] Downloading package wordnet to /root/nltk_data...\n",
            "[nltk_data]   Package wordnet is already up-to-date!\n"
          ],
          "name": "stdout"
        },
        {
          "output_type": "execute_result",
          "data": {
            "text/plain": [
              "True"
            ]
          },
          "metadata": {
            "tags": []
          },
          "execution_count": 148
        }
      ]
    },
    {
      "cell_type": "code",
      "metadata": {
        "id": "rV1ClRHqvfD1",
        "colab_type": "code",
        "colab": {}
      },
      "source": [
        "# from google.colab import drive\n",
        "# drive.mount('/content/drive')"
      ],
      "execution_count": 0,
      "outputs": []
    },
    {
      "cell_type": "markdown",
      "metadata": {
        "id": "cprN_x8j0SpG",
        "colab_type": "text"
      },
      "source": [
        "#Handle Kaggle Installation and Connection"
      ]
    },
    {
      "cell_type": "code",
      "metadata": {
        "id": "vHwtDYTOHFo8",
        "colab_type": "code",
        "outputId": "6e67a57a-1ebc-47ed-8123-1f56818882b5",
        "colab": {
          "base_uri": "https://localhost:8080/",
          "height": 196
        }
      },
      "source": [
        "#install kaggle api\n",
        "\n",
        "from google.colab import files\n",
        "!pip install kaggle"
      ],
      "execution_count": 3,
      "outputs": [
        {
          "output_type": "stream",
          "text": [
            "Requirement already satisfied: kaggle in /usr/local/lib/python3.6/dist-packages (1.5.6)\n",
            "Requirement already satisfied: python-dateutil in /usr/local/lib/python3.6/dist-packages (from kaggle) (2.6.1)\n",
            "Requirement already satisfied: tqdm in /usr/local/lib/python3.6/dist-packages (from kaggle) (4.28.1)\n",
            "Requirement already satisfied: six>=1.10 in /usr/local/lib/python3.6/dist-packages (from kaggle) (1.12.0)\n",
            "Requirement already satisfied: python-slugify in /usr/local/lib/python3.6/dist-packages (from kaggle) (4.0.0)\n",
            "Requirement already satisfied: certifi in /usr/local/lib/python3.6/dist-packages (from kaggle) (2019.11.28)\n",
            "Requirement already satisfied: urllib3<1.25,>=1.21.1 in /usr/local/lib/python3.6/dist-packages (from kaggle) (1.24.3)\n",
            "Requirement already satisfied: requests in /usr/local/lib/python3.6/dist-packages (from kaggle) (2.21.0)\n",
            "Requirement already satisfied: text-unidecode>=1.3 in /usr/local/lib/python3.6/dist-packages (from python-slugify->kaggle) (1.3)\n",
            "Requirement already satisfied: chardet<3.1.0,>=3.0.2 in /usr/local/lib/python3.6/dist-packages (from requests->kaggle) (3.0.4)\n",
            "Requirement already satisfied: idna<2.9,>=2.5 in /usr/local/lib/python3.6/dist-packages (from requests->kaggle) (2.8)\n"
          ],
          "name": "stdout"
        }
      ]
    },
    {
      "cell_type": "code",
      "metadata": {
        "id": "T0SsJ2UQIiaq",
        "colab_type": "code",
        "colab": {}
      },
      "source": [
        "!mkdir .kaggle\n",
        "!touch .kaggle/kaggle.json"
      ],
      "execution_count": 0,
      "outputs": []
    },
    {
      "cell_type": "code",
      "metadata": {
        "id": "_qUNFdNoIViK",
        "colab_type": "code",
        "colab": {}
      },
      "source": [
        "!mv .kaggle /root/"
      ],
      "execution_count": 0,
      "outputs": []
    },
    {
      "cell_type": "code",
      "metadata": {
        "id": "klCWa-CVHFjt",
        "colab_type": "code",
        "outputId": "80284a03-9f65-4465-b6e1-7502c99687e8",
        "colab": {
          "resources": {
            "http://localhost:8080/nbextensions/google.colab/files.js": {
              "data": "Ly8gQ29weXJpZ2h0IDIwMTcgR29vZ2xlIExMQwovLwovLyBMaWNlbnNlZCB1bmRlciB0aGUgQXBhY2hlIExpY2Vuc2UsIFZlcnNpb24gMi4wICh0aGUgIkxpY2Vuc2UiKTsKLy8geW91IG1heSBub3QgdXNlIHRoaXMgZmlsZSBleGNlcHQgaW4gY29tcGxpYW5jZSB3aXRoIHRoZSBMaWNlbnNlLgovLyBZb3UgbWF5IG9idGFpbiBhIGNvcHkgb2YgdGhlIExpY2Vuc2UgYXQKLy8KLy8gICAgICBodHRwOi8vd3d3LmFwYWNoZS5vcmcvbGljZW5zZXMvTElDRU5TRS0yLjAKLy8KLy8gVW5sZXNzIHJlcXVpcmVkIGJ5IGFwcGxpY2FibGUgbGF3IG9yIGFncmVlZCB0byBpbiB3cml0aW5nLCBzb2Z0d2FyZQovLyBkaXN0cmlidXRlZCB1bmRlciB0aGUgTGljZW5zZSBpcyBkaXN0cmlidXRlZCBvbiBhbiAiQVMgSVMiIEJBU0lTLAovLyBXSVRIT1VUIFdBUlJBTlRJRVMgT1IgQ09ORElUSU9OUyBPRiBBTlkgS0lORCwgZWl0aGVyIGV4cHJlc3Mgb3IgaW1wbGllZC4KLy8gU2VlIHRoZSBMaWNlbnNlIGZvciB0aGUgc3BlY2lmaWMgbGFuZ3VhZ2UgZ292ZXJuaW5nIHBlcm1pc3Npb25zIGFuZAovLyBsaW1pdGF0aW9ucyB1bmRlciB0aGUgTGljZW5zZS4KCi8qKgogKiBAZmlsZW92ZXJ2aWV3IEhlbHBlcnMgZm9yIGdvb2dsZS5jb2xhYiBQeXRob24gbW9kdWxlLgogKi8KKGZ1bmN0aW9uKHNjb3BlKSB7CmZ1bmN0aW9uIHNwYW4odGV4dCwgc3R5bGVBdHRyaWJ1dGVzID0ge30pIHsKICBjb25zdCBlbGVtZW50ID0gZG9jdW1lbnQuY3JlYXRlRWxlbWVudCgnc3BhbicpOwogIGVsZW1lbnQudGV4dENvbnRlbnQgPSB0ZXh0OwogIGZvciAoY29uc3Qga2V5IG9mIE9iamVjdC5rZXlzKHN0eWxlQXR0cmlidXRlcykpIHsKICAgIGVsZW1lbnQuc3R5bGVba2V5XSA9IHN0eWxlQXR0cmlidXRlc1trZXldOwogIH0KICByZXR1cm4gZWxlbWVudDsKfQoKLy8gTWF4IG51bWJlciBvZiBieXRlcyB3aGljaCB3aWxsIGJlIHVwbG9hZGVkIGF0IGEgdGltZS4KY29uc3QgTUFYX1BBWUxPQURfU0laRSA9IDEwMCAqIDEwMjQ7Ci8vIE1heCBhbW91bnQgb2YgdGltZSB0byBibG9jayB3YWl0aW5nIGZvciB0aGUgdXNlci4KY29uc3QgRklMRV9DSEFOR0VfVElNRU9VVF9NUyA9IDMwICogMTAwMDsKCmZ1bmN0aW9uIF91cGxvYWRGaWxlcyhpbnB1dElkLCBvdXRwdXRJZCkgewogIGNvbnN0IHN0ZXBzID0gdXBsb2FkRmlsZXNTdGVwKGlucHV0SWQsIG91dHB1dElkKTsKICBjb25zdCBvdXRwdXRFbGVtZW50ID0gZG9jdW1lbnQuZ2V0RWxlbWVudEJ5SWQob3V0cHV0SWQpOwogIC8vIENhY2hlIHN0ZXBzIG9uIHRoZSBvdXRwdXRFbGVtZW50IHRvIG1ha2UgaXQgYXZhaWxhYmxlIGZvciB0aGUgbmV4dCBjYWxsCiAgLy8gdG8gdXBsb2FkRmlsZXNDb250aW51ZSBmcm9tIFB5dGhvbi4KICBvdXRwdXRFbGVtZW50LnN0ZXBzID0gc3RlcHM7CgogIHJldHVybiBfdXBsb2FkRmlsZXNDb250aW51ZShvdXRwdXRJZCk7Cn0KCi8vIFRoaXMgaXMgcm91Z2hseSBhbiBhc3luYyBnZW5lcmF0b3IgKG5vdCBzdXBwb3J0ZWQgaW4gdGhlIGJyb3dzZXIgeWV0KSwKLy8gd2hlcmUgdGhlcmUgYXJlIG11bHRpcGxlIGFzeW5jaHJvbm91cyBzdGVwcyBhbmQgdGhlIFB5dGhvbiBzaWRlIGlzIGdvaW5nCi8vIHRvIHBvbGwgZm9yIGNvbXBsZXRpb24gb2YgZWFjaCBzdGVwLgovLyBUaGlzIHVzZXMgYSBQcm9taXNlIHRvIGJsb2NrIHRoZSBweXRob24gc2lkZSBvbiBjb21wbGV0aW9uIG9mIGVhY2ggc3RlcCwKLy8gdGhlbiBwYXNzZXMgdGhlIHJlc3VsdCBvZiB0aGUgcHJldmlvdXMgc3RlcCBhcyB0aGUgaW5wdXQgdG8gdGhlIG5leHQgc3RlcC4KZnVuY3Rpb24gX3VwbG9hZEZpbGVzQ29udGludWUob3V0cHV0SWQpIHsKICBjb25zdCBvdXRwdXRFbGVtZW50ID0gZG9jdW1lbnQuZ2V0RWxlbWVudEJ5SWQob3V0cHV0SWQpOwogIGNvbnN0IHN0ZXBzID0gb3V0cHV0RWxlbWVudC5zdGVwczsKCiAgY29uc3QgbmV4dCA9IHN0ZXBzLm5leHQob3V0cHV0RWxlbWVudC5sYXN0UHJvbWlzZVZhbHVlKTsKICByZXR1cm4gUHJvbWlzZS5yZXNvbHZlKG5leHQudmFsdWUucHJvbWlzZSkudGhlbigodmFsdWUpID0+IHsKICAgIC8vIENhY2hlIHRoZSBsYXN0IHByb21pc2UgdmFsdWUgdG8gbWFrZSBpdCBhdmFpbGFibGUgdG8gdGhlIG5leHQKICAgIC8vIHN0ZXAgb2YgdGhlIGdlbmVyYXRvci4KICAgIG91dHB1dEVsZW1lbnQubGFzdFByb21pc2VWYWx1ZSA9IHZhbHVlOwogICAgcmV0dXJuIG5leHQudmFsdWUucmVzcG9uc2U7CiAgfSk7Cn0KCi8qKgogKiBHZW5lcmF0b3IgZnVuY3Rpb24gd2hpY2ggaXMgY2FsbGVkIGJldHdlZW4gZWFjaCBhc3luYyBzdGVwIG9mIHRoZSB1cGxvYWQKICogcHJvY2Vzcy4KICogQHBhcmFtIHtzdHJpbmd9IGlucHV0SWQgRWxlbWVudCBJRCBvZiB0aGUgaW5wdXQgZmlsZSBwaWNrZXIgZWxlbWVudC4KICogQHBhcmFtIHtzdHJpbmd9IG91dHB1dElkIEVsZW1lbnQgSUQgb2YgdGhlIG91dHB1dCBkaXNwbGF5LgogKiBAcmV0dXJuIHshSXRlcmFibGU8IU9iamVjdD59IEl0ZXJhYmxlIG9mIG5leHQgc3RlcHMuCiAqLwpmdW5jdGlvbiogdXBsb2FkRmlsZXNTdGVwKGlucHV0SWQsIG91dHB1dElkKSB7CiAgY29uc3QgaW5wdXRFbGVtZW50ID0gZG9jdW1lbnQuZ2V0RWxlbWVudEJ5SWQoaW5wdXRJZCk7CiAgaW5wdXRFbGVtZW50LmRpc2FibGVkID0gZmFsc2U7CgogIGNvbnN0IG91dHB1dEVsZW1lbnQgPSBkb2N1bWVudC5nZXRFbGVtZW50QnlJZChvdXRwdXRJZCk7CiAgb3V0cHV0RWxlbWVudC5pbm5lckhUTUwgPSAnJzsKCiAgY29uc3QgcGlja2VkUHJvbWlzZSA9IG5ldyBQcm9taXNlKChyZXNvbHZlKSA9PiB7CiAgICBpbnB1dEVsZW1lbnQuYWRkRXZlbnRMaXN0ZW5lcignY2hhbmdlJywgKGUpID0+IHsKICAgICAgcmVzb2x2ZShlLnRhcmdldC5maWxlcyk7CiAgICB9KTsKICB9KTsKCiAgY29uc3QgY2FuY2VsID0gZG9jdW1lbnQuY3JlYXRlRWxlbWVudCgnYnV0dG9uJyk7CiAgaW5wdXRFbGVtZW50LnBhcmVudEVsZW1lbnQuYXBwZW5kQ2hpbGQoY2FuY2VsKTsKICBjYW5jZWwudGV4dENvbnRlbnQgPSAnQ2FuY2VsIHVwbG9hZCc7CiAgY29uc3QgY2FuY2VsUHJvbWlzZSA9IG5ldyBQcm9taXNlKChyZXNvbHZlKSA9PiB7CiAgICBjYW5jZWwub25jbGljayA9ICgpID0+IHsKICAgICAgcmVzb2x2ZShudWxsKTsKICAgIH07CiAgfSk7CgogIC8vIENhbmNlbCB1cGxvYWQgaWYgdXNlciBoYXNuJ3QgcGlja2VkIGFueXRoaW5nIGluIHRpbWVvdXQuCiAgY29uc3QgdGltZW91dFByb21pc2UgPSBuZXcgUHJvbWlzZSgocmVzb2x2ZSkgPT4gewogICAgc2V0VGltZW91dCgoKSA9PiB7CiAgICAgIHJlc29sdmUobnVsbCk7CiAgICB9LCBGSUxFX0NIQU5HRV9USU1FT1VUX01TKTsKICB9KTsKCiAgLy8gV2FpdCBmb3IgdGhlIHVzZXIgdG8gcGljayB0aGUgZmlsZXMuCiAgY29uc3QgZmlsZXMgPSB5aWVsZCB7CiAgICBwcm9taXNlOiBQcm9taXNlLnJhY2UoW3BpY2tlZFByb21pc2UsIHRpbWVvdXRQcm9taXNlLCBjYW5jZWxQcm9taXNlXSksCiAgICByZXNwb25zZTogewogICAgICBhY3Rpb246ICdzdGFydGluZycsCiAgICB9CiAgfTsKCiAgaWYgKCFmaWxlcykgewogICAgcmV0dXJuIHsKICAgICAgcmVzcG9uc2U6IHsKICAgICAgICBhY3Rpb246ICdjb21wbGV0ZScsCiAgICAgIH0KICAgIH07CiAgfQoKICBjYW5jZWwucmVtb3ZlKCk7CgogIC8vIERpc2FibGUgdGhlIGlucHV0IGVsZW1lbnQgc2luY2UgZnVydGhlciBwaWNrcyBhcmUgbm90IGFsbG93ZWQuCiAgaW5wdXRFbGVtZW50LmRpc2FibGVkID0gdHJ1ZTsKCiAgZm9yIChjb25zdCBmaWxlIG9mIGZpbGVzKSB7CiAgICBjb25zdCBsaSA9IGRvY3VtZW50LmNyZWF0ZUVsZW1lbnQoJ2xpJyk7CiAgICBsaS5hcHBlbmQoc3BhbihmaWxlLm5hbWUsIHtmb250V2VpZ2h0OiAnYm9sZCd9KSk7CiAgICBsaS5hcHBlbmQoc3BhbigKICAgICAgICBgKCR7ZmlsZS50eXBlIHx8ICduL2EnfSkgLSAke2ZpbGUuc2l6ZX0gYnl0ZXMsIGAgKwogICAgICAgIGBsYXN0IG1vZGlmaWVkOiAkewogICAgICAgICAgICBmaWxlLmxhc3RNb2RpZmllZERhdGUgPyBmaWxlLmxhc3RNb2RpZmllZERhdGUudG9Mb2NhbGVEYXRlU3RyaW5nKCkgOgogICAgICAgICAgICAgICAgICAgICAgICAgICAgICAgICAgICAnbi9hJ30gLSBgKSk7CiAgICBjb25zdCBwZXJjZW50ID0gc3BhbignMCUgZG9uZScpOwogICAgbGkuYXBwZW5kQ2hpbGQocGVyY2VudCk7CgogICAgb3V0cHV0RWxlbWVudC5hcHBlbmRDaGlsZChsaSk7CgogICAgY29uc3QgZmlsZURhdGFQcm9taXNlID0gbmV3IFByb21pc2UoKHJlc29sdmUpID0+IHsKICAgICAgY29uc3QgcmVhZGVyID0gbmV3IEZpbGVSZWFkZXIoKTsKICAgICAgcmVhZGVyLm9ubG9hZCA9IChlKSA9PiB7CiAgICAgICAgcmVzb2x2ZShlLnRhcmdldC5yZXN1bHQpOwogICAgICB9OwogICAgICByZWFkZXIucmVhZEFzQXJyYXlCdWZmZXIoZmlsZSk7CiAgICB9KTsKICAgIC8vIFdhaXQgZm9yIHRoZSBkYXRhIHRvIGJlIHJlYWR5LgogICAgbGV0IGZpbGVEYXRhID0geWllbGQgewogICAgICBwcm9taXNlOiBmaWxlRGF0YVByb21pc2UsCiAgICAgIHJlc3BvbnNlOiB7CiAgICAgICAgYWN0aW9uOiAnY29udGludWUnLAogICAgICB9CiAgICB9OwoKICAgIC8vIFVzZSBhIGNodW5rZWQgc2VuZGluZyB0byBhdm9pZCBtZXNzYWdlIHNpemUgbGltaXRzLiBTZWUgYi82MjExNTY2MC4KICAgIGxldCBwb3NpdGlvbiA9IDA7CiAgICB3aGlsZSAocG9zaXRpb24gPCBmaWxlRGF0YS5ieXRlTGVuZ3RoKSB7CiAgICAgIGNvbnN0IGxlbmd0aCA9IE1hdGgubWluKGZpbGVEYXRhLmJ5dGVMZW5ndGggLSBwb3NpdGlvbiwgTUFYX1BBWUxPQURfU0laRSk7CiAgICAgIGNvbnN0IGNodW5rID0gbmV3IFVpbnQ4QXJyYXkoZmlsZURhdGEsIHBvc2l0aW9uLCBsZW5ndGgpOwogICAgICBwb3NpdGlvbiArPSBsZW5ndGg7CgogICAgICBjb25zdCBiYXNlNjQgPSBidG9hKFN0cmluZy5mcm9tQ2hhckNvZGUuYXBwbHkobnVsbCwgY2h1bmspKTsKICAgICAgeWllbGQgewogICAgICAgIHJlc3BvbnNlOiB7CiAgICAgICAgICBhY3Rpb246ICdhcHBlbmQnLAogICAgICAgICAgZmlsZTogZmlsZS5uYW1lLAogICAgICAgICAgZGF0YTogYmFzZTY0LAogICAgICAgIH0sCiAgICAgIH07CiAgICAgIHBlcmNlbnQudGV4dENvbnRlbnQgPQogICAgICAgICAgYCR7TWF0aC5yb3VuZCgocG9zaXRpb24gLyBmaWxlRGF0YS5ieXRlTGVuZ3RoKSAqIDEwMCl9JSBkb25lYDsKICAgIH0KICB9CgogIC8vIEFsbCBkb25lLgogIHlpZWxkIHsKICAgIHJlc3BvbnNlOiB7CiAgICAgIGFjdGlvbjogJ2NvbXBsZXRlJywKICAgIH0KICB9Owp9CgpzY29wZS5nb29nbGUgPSBzY29wZS5nb29nbGUgfHwge307CnNjb3BlLmdvb2dsZS5jb2xhYiA9IHNjb3BlLmdvb2dsZS5jb2xhYiB8fCB7fTsKc2NvcGUuZ29vZ2xlLmNvbGFiLl9maWxlcyA9IHsKICBfdXBsb2FkRmlsZXMsCiAgX3VwbG9hZEZpbGVzQ29udGludWUsCn07Cn0pKHNlbGYpOwo=",
              "ok": true,
              "headers": [
                [
                  "content-type",
                  "application/javascript"
                ]
              ],
              "status": 200,
              "status_text": ""
            }
          },
          "base_uri": "https://localhost:8080/",
          "height": 72
        }
      },
      "source": [
        "#upload kaggle json file\n",
        "\n",
        "uploaded = files.upload()"
      ],
      "execution_count": 5,
      "outputs": [
        {
          "output_type": "display_data",
          "data": {
            "text/html": [
              "\n",
              "     <input type=\"file\" id=\"files-627ef2da-27ce-4917-9575-0833272fa960\" name=\"files[]\" multiple disabled />\n",
              "     <output id=\"result-627ef2da-27ce-4917-9575-0833272fa960\">\n",
              "      Upload widget is only available when the cell has been executed in the\n",
              "      current browser session. Please rerun this cell to enable.\n",
              "      </output>\n",
              "      <script src=\"/nbextensions/google.colab/files.js\"></script> "
            ],
            "text/plain": [
              "<IPython.core.display.HTML object>"
            ]
          },
          "metadata": {
            "tags": []
          }
        },
        {
          "output_type": "stream",
          "text": [
            "Saving kaggle.json to kaggle.json\n"
          ],
          "name": "stdout"
        }
      ]
    },
    {
      "cell_type": "markdown",
      "metadata": {
        "id": "6EO7On8p1EQM",
        "colab_type": "text"
      },
      "source": [
        "Connected kaggle api to google colab so I can download the data directle from kaggle.\n",
        "  - You need the kaggle api to access the kaggle data"
      ]
    },
    {
      "cell_type": "code",
      "metadata": {
        "id": "UwSf67q9IyXr",
        "colab_type": "code",
        "outputId": "2707c3c1-3bd2-4d7e-9a73-caf298320247",
        "colab": {
          "base_uri": "https://localhost:8080/",
          "height": 82
        }
      },
      "source": [
        "api_token = {\"username\":\"geewynn\",\"key\":\"b5dd5e9253a91c876fe288606e440250\"}\n",
        "\n",
        "import json\n",
        "import zipfile\n",
        "\n",
        "import os\n",
        "with open('/root/.kaggle/kaggle.json', 'w') as file:\n",
        "    json.dump(api_token, file)\n",
        "\n",
        "!chmod 600 /content/.kaggle/kaggle.json\n",
        "!kaggle config path -p /content"
      ],
      "execution_count": 9,
      "outputs": [
        {
          "output_type": "stream",
          "text": [
            "chmod: cannot access '/content/.kaggle/kaggle.json': No such file or directory\n",
            "Warning: Your Kaggle API key is readable by other users on this system! To fix this, you can run 'chmod 600 /root/.kaggle/kaggle.json'\n",
            "usage: kaggle config [-h] {view,set,unset} ...\n",
            "kaggle config: error: argument command: invalid choice: 'path' (choose from 'view', 'set', 'unset')\n"
          ],
          "name": "stdout"
        }
      ]
    },
    {
      "cell_type": "markdown",
      "metadata": {
        "id": "iWX7sidj1cYi",
        "colab_type": "text"
      },
      "source": [
        "- Download the data by getting the api link associated with the dataset from kaggle"
      ]
    },
    {
      "cell_type": "code",
      "metadata": {
        "id": "200dEzVKHFRw",
        "colab_type": "code",
        "outputId": "4b502e17-5b42-4e27-ff00-81afe363c918",
        "colab": {
          "base_uri": "https://localhost:8080/",
          "height": 82
        }
      },
      "source": [
        "!kaggle datasets download -d stackoverflow/stacksample"
      ],
      "execution_count": 11,
      "outputs": [
        {
          "output_type": "stream",
          "text": [
            "Warning: Your Kaggle API key is readable by other users on this system! To fix this, you can run 'chmod 600 /root/.kaggle/kaggle.json'\n",
            "Downloading stacksample.zip to /content\n",
            " 99% 1.10G/1.11G [00:36<00:00, 31.8MB/s]\n",
            "100% 1.11G/1.11G [00:36<00:00, 32.8MB/s]\n"
          ],
          "name": "stdout"
        }
      ]
    },
    {
      "cell_type": "markdown",
      "metadata": {
        "id": "mNARCseu1nbI",
        "colab_type": "text"
      },
      "source": [
        "- Unzip the data"
      ]
    },
    {
      "cell_type": "code",
      "metadata": {
        "id": "Ywh3QbYsLBbt",
        "colab_type": "code",
        "outputId": "442b87a4-52ca-4ad7-a60a-1ccb9d7b3305",
        "colab": {
          "base_uri": "https://localhost:8080/",
          "height": 82
        }
      },
      "source": [
        "!unzip '/content/stacksample.zip'"
      ],
      "execution_count": 12,
      "outputs": [
        {
          "output_type": "stream",
          "text": [
            "Archive:  /content/stacksample.zip\n",
            "  inflating: Answers.csv             \n",
            "  inflating: Questions.csv           \n",
            "  inflating: Tags.csv                \n"
          ],
          "name": "stdout"
        }
      ]
    },
    {
      "cell_type": "markdown",
      "metadata": {
        "id": "4LLKvdlA1sAj",
        "colab_type": "text"
      },
      "source": [
        "# Data Handling and Preprocessing"
      ]
    },
    {
      "cell_type": "markdown",
      "metadata": {
        "id": "GPXUd-oE2FJr",
        "colab_type": "text"
      },
      "source": [
        "- Read in the data with panda read_csv method"
      ]
    },
    {
      "cell_type": "code",
      "metadata": {
        "id": "CAMm8PoEJ3pA",
        "colab_type": "code",
        "colab": {}
      },
      "source": [
        "questions = pd.read_csv('Questions.csv', encoding='latin-1')\n",
        "tags = pd.read_csv('Tags.csv', encoding='latin-1')"
      ],
      "execution_count": 0,
      "outputs": []
    },
    {
      "cell_type": "markdown",
      "metadata": {
        "id": "nxrvtkPp2Pnc",
        "colab_type": "text"
      },
      "source": [
        "- Print out the first 5 rows of our data"
      ]
    },
    {
      "cell_type": "code",
      "metadata": {
        "id": "Z5PdM_j8NAZJ",
        "colab_type": "code",
        "colab": {
          "base_uri": "https://localhost:8080/",
          "height": 191
        },
        "outputId": "c6371beb-86e9-442a-c62b-e702d4ddbb01"
      },
      "source": [
        "questions.head()"
      ],
      "execution_count": 74,
      "outputs": [
        {
          "output_type": "execute_result",
          "data": {
            "text/html": [
              "<div>\n",
              "<style scoped>\n",
              "    .dataframe tbody tr th:only-of-type {\n",
              "        vertical-align: middle;\n",
              "    }\n",
              "\n",
              "    .dataframe tbody tr th {\n",
              "        vertical-align: top;\n",
              "    }\n",
              "\n",
              "    .dataframe thead th {\n",
              "        text-align: right;\n",
              "    }\n",
              "</style>\n",
              "<table border=\"1\" class=\"dataframe\">\n",
              "  <thead>\n",
              "    <tr style=\"text-align: right;\">\n",
              "      <th></th>\n",
              "      <th>Id</th>\n",
              "      <th>OwnerUserId</th>\n",
              "      <th>CreationDate</th>\n",
              "      <th>ClosedDate</th>\n",
              "      <th>Score</th>\n",
              "      <th>Title</th>\n",
              "      <th>Body</th>\n",
              "    </tr>\n",
              "  </thead>\n",
              "  <tbody>\n",
              "    <tr>\n",
              "      <th>0</th>\n",
              "      <td>80</td>\n",
              "      <td>26.0</td>\n",
              "      <td>2008-08-01T13:57:07Z</td>\n",
              "      <td>NaN</td>\n",
              "      <td>26</td>\n",
              "      <td>SQLStatement.execute() - multiple queries in o...</td>\n",
              "      <td>&lt;p&gt;I've written a database generation script i...</td>\n",
              "    </tr>\n",
              "    <tr>\n",
              "      <th>1</th>\n",
              "      <td>90</td>\n",
              "      <td>58.0</td>\n",
              "      <td>2008-08-01T14:41:24Z</td>\n",
              "      <td>2012-12-26T03:45:49Z</td>\n",
              "      <td>144</td>\n",
              "      <td>Good branching and merging tutorials for Torto...</td>\n",
              "      <td>&lt;p&gt;Are there any really good tutorials explain...</td>\n",
              "    </tr>\n",
              "    <tr>\n",
              "      <th>2</th>\n",
              "      <td>120</td>\n",
              "      <td>83.0</td>\n",
              "      <td>2008-08-01T15:50:08Z</td>\n",
              "      <td>NaN</td>\n",
              "      <td>21</td>\n",
              "      <td>ASP.NET Site Maps</td>\n",
              "      <td>&lt;p&gt;Has anyone got experience creating &lt;strong&gt;...</td>\n",
              "    </tr>\n",
              "    <tr>\n",
              "      <th>3</th>\n",
              "      <td>180</td>\n",
              "      <td>2089740.0</td>\n",
              "      <td>2008-08-01T18:42:19Z</td>\n",
              "      <td>NaN</td>\n",
              "      <td>53</td>\n",
              "      <td>Function for creating color wheels</td>\n",
              "      <td>&lt;p&gt;This is something I've pseudo-solved many t...</td>\n",
              "    </tr>\n",
              "    <tr>\n",
              "      <th>4</th>\n",
              "      <td>260</td>\n",
              "      <td>91.0</td>\n",
              "      <td>2008-08-01T23:22:08Z</td>\n",
              "      <td>NaN</td>\n",
              "      <td>49</td>\n",
              "      <td>Adding scripting functionality to .NET applica...</td>\n",
              "      <td>&lt;p&gt;I have a little game written in C#. It uses...</td>\n",
              "    </tr>\n",
              "  </tbody>\n",
              "</table>\n",
              "</div>"
            ],
            "text/plain": [
              "    Id  ...                                               Body\n",
              "0   80  ...  <p>I've written a database generation script i...\n",
              "1   90  ...  <p>Are there any really good tutorials explain...\n",
              "2  120  ...  <p>Has anyone got experience creating <strong>...\n",
              "3  180  ...  <p>This is something I've pseudo-solved many t...\n",
              "4  260  ...  <p>I have a little game written in C#. It uses...\n",
              "\n",
              "[5 rows x 7 columns]"
            ]
          },
          "metadata": {
            "tags": []
          },
          "execution_count": 74
        }
      ]
    },
    {
      "cell_type": "code",
      "metadata": {
        "id": "GoBpvYqdNxUb",
        "colab_type": "code",
        "colab": {
          "base_uri": "https://localhost:8080/",
          "height": 191
        },
        "outputId": "6da40291-e2a0-43d5-a7d6-c7206e6dc857"
      },
      "source": [
        "tags.head()"
      ],
      "execution_count": 75,
      "outputs": [
        {
          "output_type": "execute_result",
          "data": {
            "text/html": [
              "<div>\n",
              "<style scoped>\n",
              "    .dataframe tbody tr th:only-of-type {\n",
              "        vertical-align: middle;\n",
              "    }\n",
              "\n",
              "    .dataframe tbody tr th {\n",
              "        vertical-align: top;\n",
              "    }\n",
              "\n",
              "    .dataframe thead th {\n",
              "        text-align: right;\n",
              "    }\n",
              "</style>\n",
              "<table border=\"1\" class=\"dataframe\">\n",
              "  <thead>\n",
              "    <tr style=\"text-align: right;\">\n",
              "      <th></th>\n",
              "      <th>Id</th>\n",
              "      <th>Tag</th>\n",
              "    </tr>\n",
              "  </thead>\n",
              "  <tbody>\n",
              "    <tr>\n",
              "      <th>0</th>\n",
              "      <td>80</td>\n",
              "      <td>flex</td>\n",
              "    </tr>\n",
              "    <tr>\n",
              "      <th>1</th>\n",
              "      <td>80</td>\n",
              "      <td>actionscript-3</td>\n",
              "    </tr>\n",
              "    <tr>\n",
              "      <th>2</th>\n",
              "      <td>80</td>\n",
              "      <td>air</td>\n",
              "    </tr>\n",
              "    <tr>\n",
              "      <th>3</th>\n",
              "      <td>90</td>\n",
              "      <td>svn</td>\n",
              "    </tr>\n",
              "    <tr>\n",
              "      <th>4</th>\n",
              "      <td>90</td>\n",
              "      <td>tortoisesvn</td>\n",
              "    </tr>\n",
              "  </tbody>\n",
              "</table>\n",
              "</div>"
            ],
            "text/plain": [
              "   Id             Tag\n",
              "0  80            flex\n",
              "1  80  actionscript-3\n",
              "2  80             air\n",
              "3  90             svn\n",
              "4  90     tortoisesvn"
            ]
          },
          "metadata": {
            "tags": []
          },
          "execution_count": 75
        }
      ]
    },
    {
      "cell_type": "markdown",
      "metadata": {
        "id": "-dL9mvAk2hl4",
        "colab_type": "text"
      },
      "source": [
        "- Count of each tags. This shows us how often each individual has been used.\n",
        "  - We can see that javascript has the highest.\n",
        "    -  This can mean Javascript is the most popular tag.\n",
        "    -  Most questions tend to be from Javascript users.\n",
        "    -  Most issues originated from Javascript.\n",
        "\n",
        "  - The least being setenvif(I don't know what that is, probably should do a research on it) is the least popular.\n",
        "  "
      ]
    },
    {
      "cell_type": "code",
      "metadata": {
        "id": "K52bycTBN0rp",
        "colab_type": "code",
        "colab": {
          "base_uri": "https://localhost:8080/",
          "height": 212
        },
        "outputId": "80ee2908-f73b-4a20-d0d6-f624035dd110"
      },
      "source": [
        "tags['Tag'].value_counts()"
      ],
      "execution_count": 76,
      "outputs": [
        {
          "output_type": "execute_result",
          "data": {
            "text/plain": [
              "javascript         124155\n",
              "java               115212\n",
              "c#                 101186\n",
              "php                 98808\n",
              "android             90659\n",
              "                    ...  \n",
              "tab-size                1\n",
              "itil                    1\n",
              "tag-handler             1\n",
              "virtual-pc-2007         1\n",
              "commercetools           1\n",
              "Name: Tag, Length: 37034, dtype: int64"
            ]
          },
          "metadata": {
            "tags": []
          },
          "execution_count": 76
        }
      ]
    },
    {
      "cell_type": "markdown",
      "metadata": {
        "id": "WLx5R_mY4dqX",
        "colab_type": "text"
      },
      "source": [
        "- The info below gives us a more detailed information about our features\n",
        "  - We have to integer columns and one float column\n",
        "  - We have $ object columns\n",
        "  - CreationDate and ClosedDate should be converted to datetime."
      ]
    },
    {
      "cell_type": "code",
      "metadata": {
        "id": "ntNLoIsEOTi2",
        "colab_type": "code",
        "colab": {
          "base_uri": "https://localhost:8080/",
          "height": 212
        },
        "outputId": "ad786e0a-a27b-4f1e-da36-1e22cebaa205"
      },
      "source": [
        "questions.info()"
      ],
      "execution_count": 77,
      "outputs": [
        {
          "output_type": "stream",
          "text": [
            "<class 'pandas.core.frame.DataFrame'>\n",
            "RangeIndex: 1264216 entries, 0 to 1264215\n",
            "Data columns (total 7 columns):\n",
            "Id              1264216 non-null int64\n",
            "OwnerUserId     1249762 non-null float64\n",
            "CreationDate    1264216 non-null object\n",
            "ClosedDate      55959 non-null object\n",
            "Score           1264216 non-null int64\n",
            "Title           1264216 non-null object\n",
            "Body            1264216 non-null object\n",
            "dtypes: float64(1), int64(2), object(4)\n",
            "memory usage: 67.5+ MB\n"
          ],
          "name": "stdout"
        }
      ]
    },
    {
      "cell_type": "markdown",
      "metadata": {
        "id": "Fqu5QcIO4JcS",
        "colab_type": "text"
      },
      "source": [
        "- Datetime Handling. We convert the datetime columns to datetime."
      ]
    },
    {
      "cell_type": "code",
      "metadata": {
        "id": "4ptGHCaqOtDM",
        "colab_type": "code",
        "colab": {}
      },
      "source": [
        "questions['CreationDate'] = pd.to_datetime(questions['CreationDate'])\n",
        "questions['ClosedDate'] = pd.to_datetime(questions['ClosedDate'])"
      ],
      "execution_count": 0,
      "outputs": []
    },
    {
      "cell_type": "markdown",
      "metadata": {
        "id": "CfA5-P5q5Dqc",
        "colab_type": "text"
      },
      "source": [
        "- Make a copy of our questions data set.\n",
        " - We do this becaues we want to carry out analysis on our data set."
      ]
    },
    {
      "cell_type": "code",
      "metadata": {
        "id": "EjDWVYjdPC9w",
        "colab_type": "code",
        "colab": {}
      },
      "source": [
        "time_df = questions.copy()"
      ],
      "execution_count": 0,
      "outputs": []
    },
    {
      "cell_type": "markdown",
      "metadata": {
        "id": "sHOymq-W5RiF",
        "colab_type": "text"
      },
      "source": [
        "- Create new columns from our datetime column to get more insight from the data."
      ]
    },
    {
      "cell_type": "code",
      "metadata": {
        "id": "5JwbsbDUPjVr",
        "colab_type": "code",
        "colab": {}
      },
      "source": [
        "time_df['week'] = time_df['CreationDate'].dt.week\n",
        "time_df['day'] = time_df['CreationDate'].dt.day\n",
        "time_df['year'] = time_df['CreationDate'].dt.year"
      ],
      "execution_count": 0,
      "outputs": []
    },
    {
      "cell_type": "markdown",
      "metadata": {
        "id": "XpaSzGC95bzS",
        "colab_type": "text"
      },
      "source": [
        "- Print out our new data set"
      ]
    },
    {
      "cell_type": "code",
      "metadata": {
        "id": "dYs53WgqPxDG",
        "colab_type": "code",
        "colab": {
          "base_uri": "https://localhost:8080/",
          "height": 191
        },
        "outputId": "26b387ec-d1da-4bbc-f94b-0aa832d2298c"
      },
      "source": [
        "time_df.head()"
      ],
      "execution_count": 81,
      "outputs": [
        {
          "output_type": "execute_result",
          "data": {
            "text/html": [
              "<div>\n",
              "<style scoped>\n",
              "    .dataframe tbody tr th:only-of-type {\n",
              "        vertical-align: middle;\n",
              "    }\n",
              "\n",
              "    .dataframe tbody tr th {\n",
              "        vertical-align: top;\n",
              "    }\n",
              "\n",
              "    .dataframe thead th {\n",
              "        text-align: right;\n",
              "    }\n",
              "</style>\n",
              "<table border=\"1\" class=\"dataframe\">\n",
              "  <thead>\n",
              "    <tr style=\"text-align: right;\">\n",
              "      <th></th>\n",
              "      <th>Id</th>\n",
              "      <th>OwnerUserId</th>\n",
              "      <th>CreationDate</th>\n",
              "      <th>ClosedDate</th>\n",
              "      <th>Score</th>\n",
              "      <th>Title</th>\n",
              "      <th>Body</th>\n",
              "      <th>week</th>\n",
              "      <th>day</th>\n",
              "      <th>year</th>\n",
              "    </tr>\n",
              "  </thead>\n",
              "  <tbody>\n",
              "    <tr>\n",
              "      <th>0</th>\n",
              "      <td>80</td>\n",
              "      <td>26.0</td>\n",
              "      <td>2008-08-01 13:57:07+00:00</td>\n",
              "      <td>NaT</td>\n",
              "      <td>26</td>\n",
              "      <td>SQLStatement.execute() - multiple queries in o...</td>\n",
              "      <td>&lt;p&gt;I've written a database generation script i...</td>\n",
              "      <td>31</td>\n",
              "      <td>1</td>\n",
              "      <td>2008</td>\n",
              "    </tr>\n",
              "    <tr>\n",
              "      <th>1</th>\n",
              "      <td>90</td>\n",
              "      <td>58.0</td>\n",
              "      <td>2008-08-01 14:41:24+00:00</td>\n",
              "      <td>2012-12-26 03:45:49+00:00</td>\n",
              "      <td>144</td>\n",
              "      <td>Good branching and merging tutorials for Torto...</td>\n",
              "      <td>&lt;p&gt;Are there any really good tutorials explain...</td>\n",
              "      <td>31</td>\n",
              "      <td>1</td>\n",
              "      <td>2008</td>\n",
              "    </tr>\n",
              "    <tr>\n",
              "      <th>2</th>\n",
              "      <td>120</td>\n",
              "      <td>83.0</td>\n",
              "      <td>2008-08-01 15:50:08+00:00</td>\n",
              "      <td>NaT</td>\n",
              "      <td>21</td>\n",
              "      <td>ASP.NET Site Maps</td>\n",
              "      <td>&lt;p&gt;Has anyone got experience creating &lt;strong&gt;...</td>\n",
              "      <td>31</td>\n",
              "      <td>1</td>\n",
              "      <td>2008</td>\n",
              "    </tr>\n",
              "    <tr>\n",
              "      <th>3</th>\n",
              "      <td>180</td>\n",
              "      <td>2089740.0</td>\n",
              "      <td>2008-08-01 18:42:19+00:00</td>\n",
              "      <td>NaT</td>\n",
              "      <td>53</td>\n",
              "      <td>Function for creating color wheels</td>\n",
              "      <td>&lt;p&gt;This is something I've pseudo-solved many t...</td>\n",
              "      <td>31</td>\n",
              "      <td>1</td>\n",
              "      <td>2008</td>\n",
              "    </tr>\n",
              "    <tr>\n",
              "      <th>4</th>\n",
              "      <td>260</td>\n",
              "      <td>91.0</td>\n",
              "      <td>2008-08-01 23:22:08+00:00</td>\n",
              "      <td>NaT</td>\n",
              "      <td>49</td>\n",
              "      <td>Adding scripting functionality to .NET applica...</td>\n",
              "      <td>&lt;p&gt;I have a little game written in C#. It uses...</td>\n",
              "      <td>31</td>\n",
              "      <td>1</td>\n",
              "      <td>2008</td>\n",
              "    </tr>\n",
              "  </tbody>\n",
              "</table>\n",
              "</div>"
            ],
            "text/plain": [
              "    Id  OwnerUserId              CreationDate  ... week  day  year\n",
              "0   80         26.0 2008-08-01 13:57:07+00:00  ...   31    1  2008\n",
              "1   90         58.0 2008-08-01 14:41:24+00:00  ...   31    1  2008\n",
              "2  120         83.0 2008-08-01 15:50:08+00:00  ...   31    1  2008\n",
              "3  180    2089740.0 2008-08-01 18:42:19+00:00  ...   31    1  2008\n",
              "4  260         91.0 2008-08-01 23:22:08+00:00  ...   31    1  2008\n",
              "\n",
              "[5 rows x 10 columns]"
            ]
          },
          "metadata": {
            "tags": []
          },
          "execution_count": 81
        }
      ]
    },
    {
      "cell_type": "markdown",
      "metadata": {
        "id": "OzGSr5Hm5h2F",
        "colab_type": "text"
      },
      "source": [
        "- Group the dataset accourding to posts per week"
      ]
    },
    {
      "cell_type": "code",
      "metadata": {
        "id": "0qB9c0MZP4IW",
        "colab_type": "code",
        "colab": {
          "base_uri": "https://localhost:8080/",
          "height": 1000
        },
        "outputId": "49bd139a-5135-44d6-df7c-b4b1616c302c"
      },
      "source": [
        "post_per_week = time_df.groupby('week')\n",
        "post_per_week.first()"
      ],
      "execution_count": 82,
      "outputs": [
        {
          "output_type": "execute_result",
          "data": {
            "text/html": [
              "<div>\n",
              "<style scoped>\n",
              "    .dataframe tbody tr th:only-of-type {\n",
              "        vertical-align: middle;\n",
              "    }\n",
              "\n",
              "    .dataframe tbody tr th {\n",
              "        vertical-align: top;\n",
              "    }\n",
              "\n",
              "    .dataframe thead th {\n",
              "        text-align: right;\n",
              "    }\n",
              "</style>\n",
              "<table border=\"1\" class=\"dataframe\">\n",
              "  <thead>\n",
              "    <tr style=\"text-align: right;\">\n",
              "      <th></th>\n",
              "      <th>Id</th>\n",
              "      <th>OwnerUserId</th>\n",
              "      <th>CreationDate</th>\n",
              "      <th>ClosedDate</th>\n",
              "      <th>Score</th>\n",
              "      <th>Title</th>\n",
              "      <th>Body</th>\n",
              "      <th>day</th>\n",
              "      <th>year</th>\n",
              "    </tr>\n",
              "    <tr>\n",
              "      <th>week</th>\n",
              "      <th></th>\n",
              "      <th></th>\n",
              "      <th></th>\n",
              "      <th></th>\n",
              "      <th></th>\n",
              "      <th></th>\n",
              "      <th></th>\n",
              "      <th></th>\n",
              "      <th></th>\n",
              "    </tr>\n",
              "  </thead>\n",
              "  <tbody>\n",
              "    <tr>\n",
              "      <th>1</th>\n",
              "      <td>396930</td>\n",
              "      <td>48499.0</td>\n",
              "      <td>2008-12-29 01:08:20+00:00</td>\n",
              "      <td>2015-06-05 03:11:49+00:00</td>\n",
              "      <td>18</td>\n",
              "      <td>The future direction of Help File formats</td>\n",
              "      <td>&lt;p&gt;It would appear that CHM help files are no ...</td>\n",
              "      <td>29</td>\n",
              "      <td>2008</td>\n",
              "    </tr>\n",
              "    <tr>\n",
              "      <th>2</th>\n",
              "      <td>412010</td>\n",
              "      <td>2136.0</td>\n",
              "      <td>2009-01-05 00:48:55+00:00</td>\n",
              "      <td>2014-07-14 08:43:35+00:00</td>\n",
              "      <td>2</td>\n",
              "      <td>RewriteRule but keep the subdomain</td>\n",
              "      <td>&lt;p&gt;I would like to redirect the following as a...</td>\n",
              "      <td>5</td>\n",
              "      <td>2009</td>\n",
              "    </tr>\n",
              "    <tr>\n",
              "      <th>3</th>\n",
              "      <td>434140</td>\n",
              "      <td>51133.0</td>\n",
              "      <td>2009-01-12 00:53:36+00:00</td>\n",
              "      <td>2014-12-21 23:12:13+00:00</td>\n",
              "      <td>6</td>\n",
              "      <td>Array of structs and new / delete</td>\n",
              "      <td>&lt;p&gt;I have a struct like this:&lt;/p&gt;\\n\\n&lt;pre&gt;&lt;cod...</td>\n",
              "      <td>12</td>\n",
              "      <td>2009</td>\n",
              "    </tr>\n",
              "    <tr>\n",
              "      <th>4</th>\n",
              "      <td>456220</td>\n",
              "      <td>19570.0</td>\n",
              "      <td>2009-01-19 00:31:08+00:00</td>\n",
              "      <td>2012-11-19 11:57:51+00:00</td>\n",
              "      <td>3</td>\n",
              "      <td>Debugging ASP.NET Session State server issues</td>\n",
              "      <td>&lt;p&gt;We have an application that runs over load ...</td>\n",
              "      <td>19</td>\n",
              "      <td>2009</td>\n",
              "    </tr>\n",
              "    <tr>\n",
              "      <th>5</th>\n",
              "      <td>478570</td>\n",
              "      <td>58729.0</td>\n",
              "      <td>2009-01-26 00:07:55+00:00</td>\n",
              "      <td>2014-07-24 11:32:24+00:00</td>\n",
              "      <td>29</td>\n",
              "      <td>Recursion or iteration?</td>\n",
              "      <td>&lt;p&gt;I love recursion. I think it simplifies thi...</td>\n",
              "      <td>26</td>\n",
              "      <td>2009</td>\n",
              "    </tr>\n",
              "    <tr>\n",
              "      <th>6</th>\n",
              "      <td>501940</td>\n",
              "      <td>54964.0</td>\n",
              "      <td>2009-02-02 00:55:03+00:00</td>\n",
              "      <td>2014-03-27 20:18:38+00:00</td>\n",
              "      <td>7</td>\n",
              "      <td>Simple simulations for Physics in Python?</td>\n",
              "      <td>&lt;p&gt;I would like to know similar, concrete simu...</td>\n",
              "      <td>2</td>\n",
              "      <td>2009</td>\n",
              "    </tr>\n",
              "    <tr>\n",
              "      <th>7</th>\n",
              "      <td>526890</td>\n",
              "      <td>1154.0</td>\n",
              "      <td>2009-02-09 01:35:11+00:00</td>\n",
              "      <td>2013-10-25 17:46:19+00:00</td>\n",
              "      <td>46</td>\n",
              "      <td>Best OpenId API for ASP.NET MVC application</td>\n",
              "      <td>&lt;p&gt;I am developing an ASP.NET MVC application ...</td>\n",
              "      <td>9</td>\n",
              "      <td>2009</td>\n",
              "    </tr>\n",
              "    <tr>\n",
              "      <th>8</th>\n",
              "      <td>551880</td>\n",
              "      <td>62037.0</td>\n",
              "      <td>2009-02-16 00:04:40+00:00</td>\n",
              "      <td>2012-11-07 10:36:29+00:00</td>\n",
              "      <td>-1</td>\n",
              "      <td>What are your recommended Windows Server 2003 ...</td>\n",
              "      <td>&lt;p&gt;What tools do you guys recommend for backin...</td>\n",
              "      <td>16</td>\n",
              "      <td>2009</td>\n",
              "    </tr>\n",
              "    <tr>\n",
              "      <th>9</th>\n",
              "      <td>576240</td>\n",
              "      <td>12448.0</td>\n",
              "      <td>2009-02-23 01:02:34+00:00</td>\n",
              "      <td>2012-05-15 16:23:59+00:00</td>\n",
              "      <td>1</td>\n",
              "      <td>How can I unobtrusively disable submit buttons...</td>\n",
              "      <td>&lt;p&gt;So I found &lt;a href=\"http://stackoverflow.co...</td>\n",
              "      <td>23</td>\n",
              "      <td>2009</td>\n",
              "    </tr>\n",
              "    <tr>\n",
              "      <th>10</th>\n",
              "      <td>600890</td>\n",
              "      <td>1311500.0</td>\n",
              "      <td>2009-03-02 00:19:45+00:00</td>\n",
              "      <td>2009-03-02 17:25:01+00:00</td>\n",
              "      <td>6</td>\n",
              "      <td>divs collapsing around header</td>\n",
              "      <td>&lt;p&gt;I have a few nested divs:&lt;/p&gt;\\n\\n&lt;pre&gt;&lt;code...</td>\n",
              "      <td>2</td>\n",
              "      <td>2009</td>\n",
              "    </tr>\n",
              "    <tr>\n",
              "      <th>11</th>\n",
              "      <td>624870</td>\n",
              "      <td>8047.0</td>\n",
              "      <td>2009-03-09 02:55:37+00:00</td>\n",
              "      <td>2015-04-06 19:26:32+00:00</td>\n",
              "      <td>10</td>\n",
              "      <td>Regex: Get Filename Without Extension in One S...</td>\n",
              "      <td>&lt;p&gt;I want to get just the filename using regex...</td>\n",
              "      <td>9</td>\n",
              "      <td>2009</td>\n",
              "    </tr>\n",
              "    <tr>\n",
              "      <th>12</th>\n",
              "      <td>648880</td>\n",
              "      <td>36590.0</td>\n",
              "      <td>2009-03-16 00:36:27+00:00</td>\n",
              "      <td>2011-11-08 07:41:10+00:00</td>\n",
              "      <td>1</td>\n",
              "      <td>Standard Output from MSTest, NUnit, MbUnit, xU...</td>\n",
              "      <td>&lt;p&gt;How do you in any of the common .NET testin...</td>\n",
              "      <td>16</td>\n",
              "      <td>2009</td>\n",
              "    </tr>\n",
              "    <tr>\n",
              "      <th>13</th>\n",
              "      <td>671890</td>\n",
              "      <td>27025.0</td>\n",
              "      <td>2009-03-23 00:24:26+00:00</td>\n",
              "      <td>2012-07-31 17:18:39+00:00</td>\n",
              "      <td>48</td>\n",
              "      <td>Can I detect IE6 with PHP?</td>\n",
              "      <td>&lt;p&gt;Is there a way to use PHP to detect if the ...</td>\n",
              "      <td>23</td>\n",
              "      <td>2009</td>\n",
              "    </tr>\n",
              "    <tr>\n",
              "      <th>14</th>\n",
              "      <td>695730</td>\n",
              "      <td>9664.0</td>\n",
              "      <td>2009-03-30 00:59:37+00:00</td>\n",
              "      <td>2009-03-30 17:42:40+00:00</td>\n",
              "      <td>11</td>\n",
              "      <td>How to access the Description attribute on eit...</td>\n",
              "      <td>&lt;p&gt;How do you access the Description property ...</td>\n",
              "      <td>30</td>\n",
              "      <td>2009</td>\n",
              "    </tr>\n",
              "    <tr>\n",
              "      <th>15</th>\n",
              "      <td>719950</td>\n",
              "      <td>81236.0</td>\n",
              "      <td>2009-04-06 00:32:54+00:00</td>\n",
              "      <td>2014-04-08 12:21:06+00:00</td>\n",
              "      <td>3</td>\n",
              "      <td>IE Input Select Box</td>\n",
              "      <td>&lt;p&gt;I'm looking for the easiest solution to fix...</td>\n",
              "      <td>6</td>\n",
              "      <td>2009</td>\n",
              "    </tr>\n",
              "    <tr>\n",
              "      <th>16</th>\n",
              "      <td>742700</td>\n",
              "      <td>25.0</td>\n",
              "      <td>2009-04-13 00:25:30+00:00</td>\n",
              "      <td>2013-07-31 20:45:35+00:00</td>\n",
              "      <td>71</td>\n",
              "      <td>Rails Active Record find(:all, :order =&gt; ) issue</td>\n",
              "      <td>&lt;p&gt;I seem to be unable to use the ActiveRecord...</td>\n",
              "      <td>13</td>\n",
              "      <td>2009</td>\n",
              "    </tr>\n",
              "    <tr>\n",
              "      <th>17</th>\n",
              "      <td>766480</td>\n",
              "      <td>78259.0</td>\n",
              "      <td>2009-04-20 00:21:07+00:00</td>\n",
              "      <td>2014-05-13 10:49:24+00:00</td>\n",
              "      <td>5</td>\n",
              "      <td>Does Perl 6 make any promises about the order ...</td>\n",
              "      <td>&lt;p&gt;Given an alternation like &lt;code&gt;/(foo|fooba...</td>\n",
              "      <td>20</td>\n",
              "      <td>2009</td>\n",
              "    </tr>\n",
              "    <tr>\n",
              "      <th>18</th>\n",
              "      <td>791930</td>\n",
              "      <td>96331.0</td>\n",
              "      <td>2009-04-27 00:53:38+00:00</td>\n",
              "      <td>2013-01-07 12:48:12+00:00</td>\n",
              "      <td>1</td>\n",
              "      <td>How to programatically add a tracepoint for Vi...</td>\n",
              "      <td>&lt;p&gt;I am looking for a method to monitor a runn...</td>\n",
              "      <td>27</td>\n",
              "      <td>2009</td>\n",
              "    </tr>\n",
              "    <tr>\n",
              "      <th>19</th>\n",
              "      <td>818400</td>\n",
              "      <td>1227001.0</td>\n",
              "      <td>2009-05-04 00:20:17+00:00</td>\n",
              "      <td>2015-06-20 03:43:55+00:00</td>\n",
              "      <td>1</td>\n",
              "      <td>Problem with paths in a java jar</td>\n",
              "      <td>&lt;p&gt;I have a folder called Etc which has an ima...</td>\n",
              "      <td>4</td>\n",
              "      <td>2009</td>\n",
              "    </tr>\n",
              "    <tr>\n",
              "      <th>20</th>\n",
              "      <td>846340</td>\n",
              "      <td>25680.0</td>\n",
              "      <td>2009-05-11 00:04:32+00:00</td>\n",
              "      <td>2014-07-14 16:22:00+00:00</td>\n",
              "      <td>3</td>\n",
              "      <td>I made an upload script in PHP. How do I avoid...</td>\n",
              "      <td>&lt;p&gt;I've made an image upload script using the ...</td>\n",
              "      <td>11</td>\n",
              "      <td>2009</td>\n",
              "    </tr>\n",
              "    <tr>\n",
              "      <th>21</th>\n",
              "      <td>875800</td>\n",
              "      <td>14007.0</td>\n",
              "      <td>2009-05-18 00:08:50+00:00</td>\n",
              "      <td>2012-05-01 15:19:15+00:00</td>\n",
              "      <td>1</td>\n",
              "      <td>Executing Java 5 Code With Java 6</td>\n",
              "      <td>&lt;p&gt;Is there &lt;em&gt;any&lt;/em&gt; way I can run class f...</td>\n",
              "      <td>18</td>\n",
              "      <td>2009</td>\n",
              "    </tr>\n",
              "    <tr>\n",
              "      <th>22</th>\n",
              "      <td>904910</td>\n",
              "      <td>105573.0</td>\n",
              "      <td>2009-05-25 00:04:09+00:00</td>\n",
              "      <td>2009-05-25 07:17:21+00:00</td>\n",
              "      <td>37</td>\n",
              "      <td>How do I round a float up to the nearest int i...</td>\n",
              "      <td>&lt;p&gt;In C#, how do I round a float to the neares...</td>\n",
              "      <td>25</td>\n",
              "      <td>2009</td>\n",
              "    </tr>\n",
              "    <tr>\n",
              "      <th>23</th>\n",
              "      <td>933180</td>\n",
              "      <td>94121.0</td>\n",
              "      <td>2009-06-01 00:19:49+00:00</td>\n",
              "      <td>2016-02-11 13:43:33+00:00</td>\n",
              "      <td>0</td>\n",
              "      <td>datetime picker in C#</td>\n",
              "      <td>&lt;p&gt;I am developing C# application and would li...</td>\n",
              "      <td>1</td>\n",
              "      <td>2009</td>\n",
              "    </tr>\n",
              "    <tr>\n",
              "      <th>24</th>\n",
              "      <td>963080</td>\n",
              "      <td>118973.0</td>\n",
              "      <td>2009-06-08 00:08:03+00:00</td>\n",
              "      <td>2011-11-17 14:16:33+00:00</td>\n",
              "      <td>0</td>\n",
              "      <td>How can I create a variable that is scoped to ...</td>\n",
              "      <td>&lt;p&gt;I'm creating a python app for google app en...</td>\n",
              "      <td>8</td>\n",
              "      <td>2009</td>\n",
              "    </tr>\n",
              "    <tr>\n",
              "      <th>25</th>\n",
              "      <td>994180</td>\n",
              "      <td>117006.0</td>\n",
              "      <td>2009-06-15 01:06:09+00:00</td>\n",
              "      <td>2013-12-15 20:20:26+00:00</td>\n",
              "      <td>0</td>\n",
              "      <td>Loading 'modules' Data Into Views on a Per Use...</td>\n",
              "      <td>&lt;p&gt;I am trying to load views for a set of 'mod...</td>\n",
              "      <td>15</td>\n",
              "      <td>2009</td>\n",
              "    </tr>\n",
              "    <tr>\n",
              "      <th>26</th>\n",
              "      <td>1025160</td>\n",
              "      <td>126582.0</td>\n",
              "      <td>2009-06-22 00:49:09+00:00</td>\n",
              "      <td>2012-01-24 19:55:46+00:00</td>\n",
              "      <td>2</td>\n",
              "      <td>Retrieve the formated URL from open_id form</td>\n",
              "      <td>&lt;p&gt;I just added OpenID to my website using the...</td>\n",
              "      <td>22</td>\n",
              "      <td>2009</td>\n",
              "    </tr>\n",
              "    <tr>\n",
              "      <th>27</th>\n",
              "      <td>1056100</td>\n",
              "      <td>127257.0</td>\n",
              "      <td>2009-06-29 00:12:28+00:00</td>\n",
              "      <td>2013-10-14 06:18:04+00:00</td>\n",
              "      <td>6</td>\n",
              "      <td>Determining which code line threw the exception</td>\n",
              "      <td>&lt;p&gt;In dotNet a line throws an exception and is...</td>\n",
              "      <td>29</td>\n",
              "      <td>2009</td>\n",
              "    </tr>\n",
              "    <tr>\n",
              "      <th>28</th>\n",
              "      <td>1085140</td>\n",
              "      <td>133485.0</td>\n",
              "      <td>2009-07-06 02:13:48+00:00</td>\n",
              "      <td>2009-07-09 01:40:43+00:00</td>\n",
              "      <td>4</td>\n",
              "      <td>How do I save/display line breaks properly in ...</td>\n",
              "      <td>&lt;p&gt;I have a UIWebView-based iPhone application...</td>\n",
              "      <td>6</td>\n",
              "      <td>2009</td>\n",
              "    </tr>\n",
              "    <tr>\n",
              "      <th>29</th>\n",
              "      <td>1117310</td>\n",
              "      <td>52207.0</td>\n",
              "      <td>2009-07-13 00:32:26+00:00</td>\n",
              "      <td>2013-08-10 09:11:59+00:00</td>\n",
              "      <td>3</td>\n",
              "      <td>How to select boolean-valued nodes in XPath?</td>\n",
              "      <td>&lt;p&gt;I have an XML document and associated schem...</td>\n",
              "      <td>13</td>\n",
              "      <td>2009</td>\n",
              "    </tr>\n",
              "    <tr>\n",
              "      <th>30</th>\n",
              "      <td>1151390</td>\n",
              "      <td>140899.0</td>\n",
              "      <td>2009-07-20 01:25:09+00:00</td>\n",
              "      <td>2012-10-22 00:11:42+00:00</td>\n",
              "      <td>1</td>\n",
              "      <td>How to let iText library support asia character?</td>\n",
              "      <td>&lt;p&gt;right now i use iText to create a signature...</td>\n",
              "      <td>20</td>\n",
              "      <td>2009</td>\n",
              "    </tr>\n",
              "    <tr>\n",
              "      <th>31</th>\n",
              "      <td>80</td>\n",
              "      <td>26.0</td>\n",
              "      <td>2008-08-01 13:57:07+00:00</td>\n",
              "      <td>2012-12-26 03:45:49+00:00</td>\n",
              "      <td>26</td>\n",
              "      <td>SQLStatement.execute() - multiple queries in o...</td>\n",
              "      <td>&lt;p&gt;I've written a database generation script i...</td>\n",
              "      <td>1</td>\n",
              "      <td>2008</td>\n",
              "    </tr>\n",
              "    <tr>\n",
              "      <th>32</th>\n",
              "      <td>930</td>\n",
              "      <td>245.0</td>\n",
              "      <td>2008-08-04 00:47:25+00:00</td>\n",
              "      <td>2014-04-03 15:36:28+00:00</td>\n",
              "      <td>28</td>\n",
              "      <td>How do I connect to a database and loop over a...</td>\n",
              "      <td>&lt;p&gt;What's the simplest way to connect and quer...</td>\n",
              "      <td>4</td>\n",
              "      <td>2008</td>\n",
              "    </tr>\n",
              "    <tr>\n",
              "      <th>33</th>\n",
              "      <td>7440</td>\n",
              "      <td>889.0</td>\n",
              "      <td>2008-08-11 00:05:36+00:00</td>\n",
              "      <td>2012-12-22 19:07:37+00:00</td>\n",
              "      <td>31</td>\n",
              "      <td>What do you use to Unit-Test your Web UI?</td>\n",
              "      <td>&lt;p&gt;The company I'm currently working for is us...</td>\n",
              "      <td>11</td>\n",
              "      <td>2008</td>\n",
              "    </tr>\n",
              "    <tr>\n",
              "      <th>34</th>\n",
              "      <td>14040</td>\n",
              "      <td>1541.0</td>\n",
              "      <td>2008-08-18 00:19:05+00:00</td>\n",
              "      <td>2013-11-15 15:06:36+00:00</td>\n",
              "      <td>14</td>\n",
              "      <td>Developer testing vs. QA team testing - What i...</td>\n",
              "      <td>&lt;p&gt;While trying to advocate more developer tes...</td>\n",
              "      <td>18</td>\n",
              "      <td>2008</td>\n",
              "    </tr>\n",
              "    <tr>\n",
              "      <th>35</th>\n",
              "      <td>25530</td>\n",
              "      <td>828.0</td>\n",
              "      <td>2008-08-25 01:11:59+00:00</td>\n",
              "      <td>2014-02-20 13:01:11+00:00</td>\n",
              "      <td>19</td>\n",
              "      <td>Best Method to run a Java Application as a *ni...</td>\n",
              "      <td>&lt;p&gt;I am looking for the best method to run a J...</td>\n",
              "      <td>25</td>\n",
              "      <td>2008</td>\n",
              "    </tr>\n",
              "    <tr>\n",
              "      <th>36</th>\n",
              "      <td>37310</td>\n",
              "      <td>3576.0</td>\n",
              "      <td>2008-09-01 00:40:03+00:00</td>\n",
              "      <td>2016-09-18 07:51:44+00:00</td>\n",
              "      <td>10</td>\n",
              "      <td>Checking the results of a Factory in a unit test</td>\n",
              "      <td>&lt;p&gt;I have developed some classes with similar ...</td>\n",
              "      <td>1</td>\n",
              "      <td>2008</td>\n",
              "    </tr>\n",
              "    <tr>\n",
              "      <th>37</th>\n",
              "      <td>49080</td>\n",
              "      <td>5119.0</td>\n",
              "      <td>2008-09-08 02:54:38+00:00</td>\n",
              "      <td>2012-11-11 10:20:04+00:00</td>\n",
              "      <td>6</td>\n",
              "      <td>What are the best Visual Studio addins?</td>\n",
              "      <td>&lt;p&gt;I currently use Resharper and have for a fe...</td>\n",
              "      <td>8</td>\n",
              "      <td>2008</td>\n",
              "    </tr>\n",
              "    <tr>\n",
              "      <th>38</th>\n",
              "      <td>61750</td>\n",
              "      <td>1196.0</td>\n",
              "      <td>2008-09-15 00:22:47+00:00</td>\n",
              "      <td>2012-03-13 09:14:30+00:00</td>\n",
              "      <td>7</td>\n",
              "      <td>How to implement database engine independent p...</td>\n",
              "      <td>&lt;p&gt;Task: implement paging of database records ...</td>\n",
              "      <td>15</td>\n",
              "      <td>2008</td>\n",
              "    </tr>\n",
              "    <tr>\n",
              "      <th>39</th>\n",
              "      <td>112730</td>\n",
              "      <td>2274.0</td>\n",
              "      <td>2008-09-22 01:03:14+00:00</td>\n",
              "      <td>2014-05-14 18:46:41+00:00</td>\n",
              "      <td>0</td>\n",
              "      <td>How do I join two tables in a third n..n (hasA...</td>\n",
              "      <td>&lt;p&gt;I have a &lt;code&gt;n...n&lt;/code&gt; structure for t...</td>\n",
              "      <td>22</td>\n",
              "      <td>2008</td>\n",
              "    </tr>\n",
              "    <tr>\n",
              "      <th>40</th>\n",
              "      <td>147040</td>\n",
              "      <td>1880.0</td>\n",
              "      <td>2008-09-29 00:03:52+00:00</td>\n",
              "      <td>2012-08-07 10:44:59+00:00</td>\n",
              "      <td>3</td>\n",
              "      <td>Automatically adding specified text at beginni...</td>\n",
              "      <td>&lt;p&gt;Is there a way to have Visual Studio 2008 a...</td>\n",
              "      <td>29</td>\n",
              "      <td>2008</td>\n",
              "    </tr>\n",
              "    <tr>\n",
              "      <th>41</th>\n",
              "      <td>172950</td>\n",
              "      <td>14955.0</td>\n",
              "      <td>2008-10-06 01:12:26+00:00</td>\n",
              "      <td>2012-11-18 14:22:39+00:00</td>\n",
              "      <td>0</td>\n",
              "      <td>Add (external) relationship (tagging) to exist...</td>\n",
              "      <td>&lt;p&gt;I need to add a new many-to-many relationsh...</td>\n",
              "      <td>6</td>\n",
              "      <td>2008</td>\n",
              "    </tr>\n",
              "    <tr>\n",
              "      <th>42</th>\n",
              "      <td>196340</td>\n",
              "      <td>4228.0</td>\n",
              "      <td>2008-10-13 00:11:35+00:00</td>\n",
              "      <td>2013-12-26 16:14:50+00:00</td>\n",
              "      <td>0</td>\n",
              "      <td>Should I only store fixed-size data elements i...</td>\n",
              "      <td>&lt;p&gt;If the amount of data stored within a given...</td>\n",
              "      <td>13</td>\n",
              "      <td>2008</td>\n",
              "    </tr>\n",
              "    <tr>\n",
              "      <th>43</th>\n",
              "      <td>217350</td>\n",
              "      <td>23341.0</td>\n",
              "      <td>2008-10-20 02:06:08+00:00</td>\n",
              "      <td>2011-09-14 15:21:10+00:00</td>\n",
              "      <td>11</td>\n",
              "      <td>Why don't my HtmlHelper extensions work?</td>\n",
              "      <td>&lt;p&gt;I'm building an ASP.Net MVC website. Rather...</td>\n",
              "      <td>20</td>\n",
              "      <td>2008</td>\n",
              "    </tr>\n",
              "    <tr>\n",
              "      <th>44</th>\n",
              "      <td>238900</td>\n",
              "      <td>30176.0</td>\n",
              "      <td>2008-10-27 01:15:12+00:00</td>\n",
              "      <td>2016-04-27 02:50:21+00:00</td>\n",
              "      <td>8</td>\n",
              "      <td>Best Way to Replace a Visual Component in Delphi</td>\n",
              "      <td>&lt;p&gt;In a Delphi Form, I would like to replace o...</td>\n",
              "      <td>27</td>\n",
              "      <td>2008</td>\n",
              "    </tr>\n",
              "    <tr>\n",
              "      <th>45</th>\n",
              "      <td>257680</td>\n",
              "      <td>13813.0</td>\n",
              "      <td>2008-11-03 01:00:40+00:00</td>\n",
              "      <td>2012-03-11 13:13:01+00:00</td>\n",
              "      <td>1</td>\n",
              "      <td>SharePoint Visual Studio document upload Web T...</td>\n",
              "      <td>&lt;p&gt;I have created a Visual Studio 2008 sp1 tes...</td>\n",
              "      <td>3</td>\n",
              "      <td>2008</td>\n",
              "    </tr>\n",
              "    <tr>\n",
              "      <th>46</th>\n",
              "      <td>276740</td>\n",
              "      <td>6340.0</td>\n",
              "      <td>2008-11-10 00:22:29+00:00</td>\n",
              "      <td>2008-11-10 19:56:41+00:00</td>\n",
              "      <td>5</td>\n",
              "      <td>Is it possible to get a list of added or delet...</td>\n",
              "      <td>&lt;p&gt;I want to retrieve a list of the files that...</td>\n",
              "      <td>10</td>\n",
              "      <td>2008</td>\n",
              "    </tr>\n",
              "    <tr>\n",
              "      <th>47</th>\n",
              "      <td>294660</td>\n",
              "      <td>15055.0</td>\n",
              "      <td>2008-11-17 00:57:28+00:00</td>\n",
              "      <td>2008-11-17 18:27:02+00:00</td>\n",
              "      <td>10</td>\n",
              "      <td>Algorithm to match preferred partners into gro...</td>\n",
              "      <td>&lt;p&gt;What's a good algorithm to solve this probl...</td>\n",
              "      <td>17</td>\n",
              "      <td>2008</td>\n",
              "    </tr>\n",
              "    <tr>\n",
              "      <th>48</th>\n",
              "      <td>313160</td>\n",
              "      <td>24126.0</td>\n",
              "      <td>2008-11-24 00:20:02+00:00</td>\n",
              "      <td>2012-12-22 18:17:18+00:00</td>\n",
              "      <td>1</td>\n",
              "      <td>asp.net CMS solution: best mechanism for stori...</td>\n",
              "      <td>&lt;p&gt;I've worked on a number of CMS systems usin...</td>\n",
              "      <td>24</td>\n",
              "      <td>2008</td>\n",
              "    </tr>\n",
              "    <tr>\n",
              "      <th>49</th>\n",
              "      <td>329720</td>\n",
              "      <td>428190.0</td>\n",
              "      <td>2008-12-01 01:02:23+00:00</td>\n",
              "      <td>2015-07-28 18:37:25+00:00</td>\n",
              "      <td>1</td>\n",
              "      <td>Can any processing be done on the model? [MVC]</td>\n",
              "      <td>&lt;p&gt;I've decided to make a big push towards MVC...</td>\n",
              "      <td>1</td>\n",
              "      <td>2008</td>\n",
              "    </tr>\n",
              "    <tr>\n",
              "      <th>50</th>\n",
              "      <td>348410</td>\n",
              "      <td>31671.0</td>\n",
              "      <td>2008-12-08 00:24:15+00:00</td>\n",
              "      <td>2012-09-12 12:52:45+00:00</td>\n",
              "      <td>83</td>\n",
              "      <td>Sort an Array by keys based on another Array?</td>\n",
              "      <td>&lt;p&gt;Is it possible in PHP to do something like ...</td>\n",
              "      <td>8</td>\n",
              "      <td>2008</td>\n",
              "    </tr>\n",
              "    <tr>\n",
              "      <th>51</th>\n",
              "      <td>367210</td>\n",
              "      <td>1030.0</td>\n",
              "      <td>2008-12-15 00:36:14+00:00</td>\n",
              "      <td>2012-12-24 12:41:15+00:00</td>\n",
              "      <td>2</td>\n",
              "      <td>How do I kill an unruly spid in Sybase?</td>\n",
              "      <td>&lt;p&gt;I've got a couple of rogue spid's in my dat...</td>\n",
              "      <td>15</td>\n",
              "      <td>2008</td>\n",
              "    </tr>\n",
              "    <tr>\n",
              "      <th>52</th>\n",
              "      <td>385300</td>\n",
              "      <td>23695.0</td>\n",
              "      <td>2008-12-22 01:18:08+00:00</td>\n",
              "      <td>2008-12-22 07:58:28+00:00</td>\n",
              "      <td>0</td>\n",
              "      <td>How to do a custom asp.net routing (hardcoding...</td>\n",
              "      <td>&lt;p&gt;I'm trying to create a route for the follow...</td>\n",
              "      <td>22</td>\n",
              "      <td>2008</td>\n",
              "    </tr>\n",
              "    <tr>\n",
              "      <th>53</th>\n",
              "      <td>1967460</td>\n",
              "      <td>157982.0</td>\n",
              "      <td>2009-12-28 00:06:59+00:00</td>\n",
              "      <td>2015-01-21 06:52:29+00:00</td>\n",
              "      <td>9</td>\n",
              "      <td>C++ Hex Parsing</td>\n",
              "      <td>&lt;p&gt;I'm wondering how to convert a hex string t...</td>\n",
              "      <td>28</td>\n",
              "      <td>2009</td>\n",
              "    </tr>\n",
              "  </tbody>\n",
              "</table>\n",
              "</div>"
            ],
            "text/plain": [
              "           Id  OwnerUserId  ... day  year\n",
              "week                        ...          \n",
              "1      396930      48499.0  ...  29  2008\n",
              "2      412010       2136.0  ...   5  2009\n",
              "3      434140      51133.0  ...  12  2009\n",
              "4      456220      19570.0  ...  19  2009\n",
              "5      478570      58729.0  ...  26  2009\n",
              "6      501940      54964.0  ...   2  2009\n",
              "7      526890       1154.0  ...   9  2009\n",
              "8      551880      62037.0  ...  16  2009\n",
              "9      576240      12448.0  ...  23  2009\n",
              "10     600890    1311500.0  ...   2  2009\n",
              "11     624870       8047.0  ...   9  2009\n",
              "12     648880      36590.0  ...  16  2009\n",
              "13     671890      27025.0  ...  23  2009\n",
              "14     695730       9664.0  ...  30  2009\n",
              "15     719950      81236.0  ...   6  2009\n",
              "16     742700         25.0  ...  13  2009\n",
              "17     766480      78259.0  ...  20  2009\n",
              "18     791930      96331.0  ...  27  2009\n",
              "19     818400    1227001.0  ...   4  2009\n",
              "20     846340      25680.0  ...  11  2009\n",
              "21     875800      14007.0  ...  18  2009\n",
              "22     904910     105573.0  ...  25  2009\n",
              "23     933180      94121.0  ...   1  2009\n",
              "24     963080     118973.0  ...   8  2009\n",
              "25     994180     117006.0  ...  15  2009\n",
              "26    1025160     126582.0  ...  22  2009\n",
              "27    1056100     127257.0  ...  29  2009\n",
              "28    1085140     133485.0  ...   6  2009\n",
              "29    1117310      52207.0  ...  13  2009\n",
              "30    1151390     140899.0  ...  20  2009\n",
              "31         80         26.0  ...   1  2008\n",
              "32        930        245.0  ...   4  2008\n",
              "33       7440        889.0  ...  11  2008\n",
              "34      14040       1541.0  ...  18  2008\n",
              "35      25530        828.0  ...  25  2008\n",
              "36      37310       3576.0  ...   1  2008\n",
              "37      49080       5119.0  ...   8  2008\n",
              "38      61750       1196.0  ...  15  2008\n",
              "39     112730       2274.0  ...  22  2008\n",
              "40     147040       1880.0  ...  29  2008\n",
              "41     172950      14955.0  ...   6  2008\n",
              "42     196340       4228.0  ...  13  2008\n",
              "43     217350      23341.0  ...  20  2008\n",
              "44     238900      30176.0  ...  27  2008\n",
              "45     257680      13813.0  ...   3  2008\n",
              "46     276740       6340.0  ...  10  2008\n",
              "47     294660      15055.0  ...  17  2008\n",
              "48     313160      24126.0  ...  24  2008\n",
              "49     329720     428190.0  ...   1  2008\n",
              "50     348410      31671.0  ...   8  2008\n",
              "51     367210       1030.0  ...  15  2008\n",
              "52     385300      23695.0  ...  22  2008\n",
              "53    1967460     157982.0  ...  28  2009\n",
              "\n",
              "[53 rows x 9 columns]"
            ]
          },
          "metadata": {
            "tags": []
          },
          "execution_count": 82
        }
      ]
    },
    {
      "cell_type": "code",
      "metadata": {
        "id": "1HX5ciHJQSgo",
        "colab_type": "code",
        "colab": {
          "base_uri": "https://localhost:8080/",
          "height": 391
        },
        "outputId": "561a8743-a5bd-41ff-8308-e048bb46f144"
      },
      "source": [
        "post_per_week.get_group(1)"
      ],
      "execution_count": 83,
      "outputs": [
        {
          "output_type": "execute_result",
          "data": {
            "text/html": [
              "<div>\n",
              "<style scoped>\n",
              "    .dataframe tbody tr th:only-of-type {\n",
              "        vertical-align: middle;\n",
              "    }\n",
              "\n",
              "    .dataframe tbody tr th {\n",
              "        vertical-align: top;\n",
              "    }\n",
              "\n",
              "    .dataframe thead th {\n",
              "        text-align: right;\n",
              "    }\n",
              "</style>\n",
              "<table border=\"1\" class=\"dataframe\">\n",
              "  <thead>\n",
              "    <tr style=\"text-align: right;\">\n",
              "      <th></th>\n",
              "      <th>Id</th>\n",
              "      <th>OwnerUserId</th>\n",
              "      <th>CreationDate</th>\n",
              "      <th>ClosedDate</th>\n",
              "      <th>Score</th>\n",
              "      <th>Title</th>\n",
              "      <th>Body</th>\n",
              "      <th>day</th>\n",
              "      <th>year</th>\n",
              "    </tr>\n",
              "  </thead>\n",
              "  <tbody>\n",
              "    <tr>\n",
              "      <th>5714</th>\n",
              "      <td>396930</td>\n",
              "      <td>48499.0</td>\n",
              "      <td>2008-12-29 01:08:20+00:00</td>\n",
              "      <td>NaT</td>\n",
              "      <td>18</td>\n",
              "      <td>The future direction of Help File formats</td>\n",
              "      <td>&lt;p&gt;It would appear that CHM help files are no ...</td>\n",
              "      <td>29</td>\n",
              "      <td>2008</td>\n",
              "    </tr>\n",
              "    <tr>\n",
              "      <th>5715</th>\n",
              "      <td>397210</td>\n",
              "      <td>11100.0</td>\n",
              "      <td>2008-12-29 05:54:21+00:00</td>\n",
              "      <td>NaT</td>\n",
              "      <td>0</td>\n",
              "      <td>CommandBars.FindControl throwing an exception</td>\n",
              "      <td>&lt;p&gt;I am trying to use the FindControl Method o...</td>\n",
              "      <td>29</td>\n",
              "      <td>2008</td>\n",
              "    </tr>\n",
              "    <tr>\n",
              "      <th>5716</th>\n",
              "      <td>397250</td>\n",
              "      <td>23845.0</td>\n",
              "      <td>2008-12-29 06:51:44+00:00</td>\n",
              "      <td>NaT</td>\n",
              "      <td>30</td>\n",
              "      <td>Unicode Regex; Invalid XML characters</td>\n",
              "      <td>&lt;p&gt;The list of valid XML characters is well kn...</td>\n",
              "      <td>29</td>\n",
              "      <td>2008</td>\n",
              "    </tr>\n",
              "    <tr>\n",
              "      <th>5717</th>\n",
              "      <td>397320</td>\n",
              "      <td>49772.0</td>\n",
              "      <td>2008-12-29 08:12:59+00:00</td>\n",
              "      <td>NaT</td>\n",
              "      <td>1</td>\n",
              "      <td>Frame position in JavaScript</td>\n",
              "      <td>&lt;p&gt;I am having a frame-based webpage with 3 fr...</td>\n",
              "      <td>29</td>\n",
              "      <td>2008</td>\n",
              "    </tr>\n",
              "    <tr>\n",
              "      <th>5718</th>\n",
              "      <td>397390</td>\n",
              "      <td>352728.0</td>\n",
              "      <td>2008-12-29 09:33:05+00:00</td>\n",
              "      <td>NaT</td>\n",
              "      <td>3</td>\n",
              "      <td>How do firefox extensions make use of the whol...</td>\n",
              "      <td>&lt;p&gt;I understand that &lt;a href=\"http://www.mozil...</td>\n",
              "      <td>29</td>\n",
              "      <td>2008</td>\n",
              "    </tr>\n",
              "    <tr>\n",
              "      <th>...</th>\n",
              "      <td>...</td>\n",
              "      <td>...</td>\n",
              "      <td>...</td>\n",
              "      <td>...</td>\n",
              "      <td>...</td>\n",
              "      <td>...</td>\n",
              "      <td>...</td>\n",
              "      <td>...</td>\n",
              "      <td>...</td>\n",
              "    </tr>\n",
              "    <tr>\n",
              "      <th>1058943</th>\n",
              "      <td>34712170</td>\n",
              "      <td>754865.0</td>\n",
              "      <td>2016-01-10 23:45:42+00:00</td>\n",
              "      <td>NaT</td>\n",
              "      <td>0</td>\n",
              "      <td>$cordovaFileTransfer not working</td>\n",
              "      <td>&lt;p&gt;Am trying to user the $cordovaFileTransfer ...</td>\n",
              "      <td>10</td>\n",
              "      <td>2016</td>\n",
              "    </tr>\n",
              "    <tr>\n",
              "      <th>1058944</th>\n",
              "      <td>34712190</td>\n",
              "      <td>5578926.0</td>\n",
              "      <td>2016-01-10 23:48:00+00:00</td>\n",
              "      <td>NaT</td>\n",
              "      <td>-1</td>\n",
              "      <td>logrotate keep old file names</td>\n",
              "      <td>&lt;p&gt;By default log rotate shifts file name's in...</td>\n",
              "      <td>10</td>\n",
              "      <td>2016</td>\n",
              "    </tr>\n",
              "    <tr>\n",
              "      <th>1058945</th>\n",
              "      <td>34712240</td>\n",
              "      <td>5763552.0</td>\n",
              "      <td>2016-01-10 23:56:41+00:00</td>\n",
              "      <td>NaT</td>\n",
              "      <td>0</td>\n",
              "      <td>Scroll top navigation won't work in mobile</td>\n",
              "      <td>&lt;p&gt;The header on scroll should slide up/down a...</td>\n",
              "      <td>10</td>\n",
              "      <td>2016</td>\n",
              "    </tr>\n",
              "    <tr>\n",
              "      <th>1058946</th>\n",
              "      <td>34712260</td>\n",
              "      <td>3186199.0</td>\n",
              "      <td>2016-01-10 23:59:36+00:00</td>\n",
              "      <td>NaT</td>\n",
              "      <td>1</td>\n",
              "      <td>MongoDB 3.2 Java Driver: How To Use AggregateO...</td>\n",
              "      <td>&lt;p&gt;I am interested in example code for using t...</td>\n",
              "      <td>10</td>\n",
              "      <td>2016</td>\n",
              "    </tr>\n",
              "    <tr>\n",
              "      <th>1067044</th>\n",
              "      <td>34934300</td>\n",
              "      <td>3120446.0</td>\n",
              "      <td>2016-01-07 18:35:34+00:00</td>\n",
              "      <td>NaT</td>\n",
              "      <td>0</td>\n",
              "      <td>Bind and trigger an event in jQuery pattern</td>\n",
              "      <td>&lt;p&gt;Commonly I bind an event with jQuery and th...</td>\n",
              "      <td>7</td>\n",
              "      <td>2016</td>\n",
              "    </tr>\n",
              "  </tbody>\n",
              "</table>\n",
              "<p>19095 rows × 9 columns</p>\n",
              "</div>"
            ],
            "text/plain": [
              "               Id  OwnerUserId  ... day  year\n",
              "5714       396930      48499.0  ...  29  2008\n",
              "5715       397210      11100.0  ...  29  2008\n",
              "5716       397250      23845.0  ...  29  2008\n",
              "5717       397320      49772.0  ...  29  2008\n",
              "5718       397390     352728.0  ...  29  2008\n",
              "...           ...          ...  ...  ..   ...\n",
              "1058943  34712170     754865.0  ...  10  2016\n",
              "1058944  34712190    5578926.0  ...  10  2016\n",
              "1058945  34712240    5763552.0  ...  10  2016\n",
              "1058946  34712260    3186199.0  ...  10  2016\n",
              "1067044  34934300    3120446.0  ...   7  2016\n",
              "\n",
              "[19095 rows x 9 columns]"
            ]
          },
          "metadata": {
            "tags": []
          },
          "execution_count": 83
        }
      ]
    },
    {
      "cell_type": "markdown",
      "metadata": {
        "id": "Q6Navnka6abs",
        "colab_type": "text"
      },
      "source": [
        "- Here we plot the number of post per week\n",
        "  - From the plot we can see that number of post increases as the year progresses.\n",
        "  "
      ]
    },
    {
      "cell_type": "code",
      "metadata": {
        "id": "cGQTXIrOWXVT",
        "colab_type": "code",
        "colab": {
          "base_uri": "https://localhost:8080/",
          "height": 295
        },
        "outputId": "66f9a1ea-2ab7-42a0-8b1c-48a212da3142"
      },
      "source": [
        "time_df_week =time_df.set_index('CreationDate')\n",
        "post_count_year = time_df_week.groupby('year')['Title'].count()\n",
        "ax = post_count_year.plot()\n",
        "ax.set_ylabel('post count per year')"
      ],
      "execution_count": 84,
      "outputs": [
        {
          "output_type": "execute_result",
          "data": {
            "text/plain": [
              "Text(0, 0.5, 'post count per year')"
            ]
          },
          "metadata": {
            "tags": []
          },
          "execution_count": 84
        },
        {
          "output_type": "display_data",
          "data": {
            "image/png": "[encoded data removed]",
            "text/plain": [
              "<Figure size 432x288 with 1 Axes>"
            ]
          },
          "metadata": {
            "tags": []
          }
        }
      ]
    },
    {
      "cell_type": "markdown",
      "metadata": {
        "id": "6fjcHTip7W3P",
        "colab_type": "text"
      },
      "source": [
        "- Here we plot the weekly post count.\n",
        "  - Not much different from the post pear year.\n",
        "  - There seem to be a rapid drop after 50. Will look into this later"
      ]
    },
    {
      "cell_type": "code",
      "metadata": {
        "id": "BwjzSdCzX57W",
        "colab_type": "code",
        "colab": {
          "base_uri": "https://localhost:8080/",
          "height": 295
        },
        "outputId": "0e17d389-9cc2-446f-ce44-1b73bcee3b83"
      },
      "source": [
        "post_count_week = time_df_week.groupby('week')['Title'].count()\n",
        "ax = post_count_week.plot()\n",
        "ax.set_ylabel('weekly post count')"
      ],
      "execution_count": 85,
      "outputs": [
        {
          "output_type": "execute_result",
          "data": {
            "text/plain": [
              "Text(0, 0.5, 'weekly post count')"
            ]
          },
          "metadata": {
            "tags": []
          },
          "execution_count": 85
        },
        {
          "output_type": "display_data",
          "data": {
            "image/png": "[encoded data removed]",
            "text/plain": [
              "<Figure size 432x288 with 1 Axes>"
            ]
          },
          "metadata": {
            "tags": []
          }
        }
      ]
    },
    {
      "cell_type": "markdown",
      "metadata": {
        "id": "9YIsWruU7wIg",
        "colab_type": "text"
      },
      "source": [
        ""
      ]
    },
    {
      "cell_type": "code",
      "metadata": {
        "id": "wDLAP4OWnFW1",
        "colab_type": "code",
        "colab": {}
      },
      "source": [
        "# A function to plot the tag counts\n",
        "def plot_tags(tagCount):\n",
        "    \n",
        "    x,y = zip(*tagCount)\n",
        "\n",
        "    colormap = plt.cm.gist_ncar #nipy_spectral, Set1,Paired  \n",
        "    colors = [colormap(i) for i in np.linspace(0, 0.8,50)]   \n",
        "\n",
        "    area = [i/4000 for i in list(y)]   # 0 to 15 point radiuses\n",
        "    plt.figure(figsize=(10,6))\n",
        "    plt.ylabel(\"Number of question associations\")\n",
        "    for i in range(len(y)):\n",
        "        plt.plot(i,y[i], marker='o', linestyle='',ms=area[i],label=x[i])\n",
        "\n",
        "    plt.legend(numpoints=1)\n",
        "    plt.show()  "
      ],
      "execution_count": 0,
      "outputs": []
    },
    {
      "cell_type": "markdown",
      "metadata": {
        "id": "cNl3Bxb68CXF",
        "colab_type": "text"
      },
      "source": [
        "- We use the python collection.Counter to get the most common counter and plot them.\n",
        "  - The plot contains the tag count of th 20 most common tag\n",
        "  *Things we can do\n",
        "    - get the mention of each tag per year and plot"
      ]
    },
    {
      "cell_type": "code",
      "metadata": {
        "id": "FKfkXzqB9vgC",
        "colab_type": "code",
        "colab": {
          "base_uri": "https://localhost:8080/",
          "height": 410
        },
        "outputId": "8ca32cb1-1892-45f9-b83f-1f863f49272f"
      },
      "source": [
        "import collections\n",
        "import matplotlib.pyplot as plt\n",
        "tagCount =  collections.Counter(list(tags['Tag'])).most_common(20)\n",
        "print(tagCount)\n",
        "plot_tags(tagCount)"
      ],
      "execution_count": 87,
      "outputs": [
        {
          "output_type": "stream",
          "text": [
            "[('javascript', 124155), ('java', 115212), ('c#', 101186), ('php', 98808), ('android', 90659), ('jquery', 78542), ('python', 64601), ('html', 58976), ('c++', 47591), ('ios', 47009), ('mysql', 42464), ('css', 42308), ('sql', 35782), ('asp.net', 29970), ('objective-c', 26922), ('ruby-on-rails', 25789), ('.net', 24059), ('c', 23238), ('iphone', 21539), ('angularjs', 20345)]\n"
          ],
          "name": "stdout"
        },
        {
          "output_type": "display_data",
          "data": {
            "image/png": "[encoded data removed]",
            "text/plain": [
              "<Figure size 720x432 with 1 Axes>"
            ]
          },
          "metadata": {
            "tags": []
          }
        }
      ]
    },
    {
      "cell_type": "code",
      "metadata": {
        "id": "IDzdSBpMBYlH",
        "colab_type": "code",
        "colab": {
          "base_uri": "https://localhost:8080/",
          "height": 196
        },
        "outputId": "827f3f69-05e3-4ea0-b85b-cd377848a910"
      },
      "source": [
        "print('Question dataset shape is', questions.shape)\n",
        "print('The tag data set shape is', tags.shape)\n",
        "print('-------------------------------------------------')\n",
        "print(tags.info())"
      ],
      "execution_count": 88,
      "outputs": [
        {
          "output_type": "stream",
          "text": [
            "Question dataset shape is (1264216, 7)\n",
            "The tag data set shape is (3750994, 2)\n",
            "-------------------------------------------------\n",
            "<class 'pandas.core.frame.DataFrame'>\n",
            "RangeIndex: 3750994 entries, 0 to 3750993\n",
            "Data columns (total 2 columns):\n",
            "Id     int64\n",
            "Tag    object\n",
            "dtypes: int64(1), object(1)\n",
            "memory usage: 57.2+ MB\n",
            "None\n"
          ],
          "name": "stdout"
        }
      ]
    },
    {
      "cell_type": "markdown",
      "metadata": {
        "id": "ZVh7TO-P9X-E",
        "colab_type": "text"
      },
      "source": [
        "- Convert the tag column from the tag data set to strings\n",
        "- Group the tags by their ID and split them with a space\n",
        "- print the top 5 grouped tags"
      ]
    },
    {
      "cell_type": "code",
      "metadata": {
        "id": "c8xBUt8PFmuu",
        "colab_type": "code",
        "colab": {
          "base_uri": "https://localhost:8080/",
          "height": 131
        },
        "outputId": "7b35b742-7af9-4962-f14b-6a9fbe5fb7e7"
      },
      "source": [
        "tags['Tag'] = tags['Tag'].astype(str)\n",
        "grouped_tags = tags.groupby('Id')['Tag'].apply(lambda tags: ' '.join(tags))\n",
        "grouped_tags.head()"
      ],
      "execution_count": 89,
      "outputs": [
        {
          "output_type": "execute_result",
          "data": {
            "text/plain": [
              "Id\n",
              "80                            flex actionscript-3 air\n",
              "90       svn tortoisesvn branch branching-and-merging\n",
              "120                               sql asp.net sitemap\n",
              "180    algorithm language-agnostic colors color-space\n",
              "260           c# .net scripting compiler-construction\n",
              "Name: Tag, dtype: object"
            ]
          },
          "metadata": {
            "tags": []
          },
          "execution_count": 89
        }
      ]
    },
    {
      "cell_type": "markdown",
      "metadata": {
        "id": "vfxWDOvV98dO",
        "colab_type": "text"
      },
      "source": [
        "- Merge the two data set on the ID so we have the all tags a user used on on single question.\n",
        "- Print the head."
      ]
    },
    {
      "cell_type": "code",
      "metadata": {
        "id": "ev2OQgr6GQ_B",
        "colab_type": "code",
        "colab": {
          "base_uri": "https://localhost:8080/",
          "height": 191
        },
        "outputId": "6826c3f3-9e41-494d-f09d-19b3e9dd4542"
      },
      "source": [
        "final_df = questions.merge(grouped_tags, on='Id')\n",
        "final_df.head()"
      ],
      "execution_count": 113,
      "outputs": [
        {
          "output_type": "execute_result",
          "data": {
            "text/html": [
              "<div>\n",
              "<style scoped>\n",
              "    .dataframe tbody tr th:only-of-type {\n",
              "        vertical-align: middle;\n",
              "    }\n",
              "\n",
              "    .dataframe tbody tr th {\n",
              "        vertical-align: top;\n",
              "    }\n",
              "\n",
              "    .dataframe thead th {\n",
              "        text-align: right;\n",
              "    }\n",
              "</style>\n",
              "<table border=\"1\" class=\"dataframe\">\n",
              "  <thead>\n",
              "    <tr style=\"text-align: right;\">\n",
              "      <th></th>\n",
              "      <th>Id</th>\n",
              "      <th>OwnerUserId</th>\n",
              "      <th>CreationDate</th>\n",
              "      <th>ClosedDate</th>\n",
              "      <th>Score</th>\n",
              "      <th>Title</th>\n",
              "      <th>Body</th>\n",
              "      <th>Tag</th>\n",
              "    </tr>\n",
              "  </thead>\n",
              "  <tbody>\n",
              "    <tr>\n",
              "      <th>0</th>\n",
              "      <td>80</td>\n",
              "      <td>26.0</td>\n",
              "      <td>2008-08-01 13:57:07+00:00</td>\n",
              "      <td>NaT</td>\n",
              "      <td>26</td>\n",
              "      <td>SQLStatement.execute() - multiple queries in o...</td>\n",
              "      <td>&lt;p&gt;I've written a database generation script i...</td>\n",
              "      <td>flex actionscript-3 air</td>\n",
              "    </tr>\n",
              "    <tr>\n",
              "      <th>1</th>\n",
              "      <td>90</td>\n",
              "      <td>58.0</td>\n",
              "      <td>2008-08-01 14:41:24+00:00</td>\n",
              "      <td>2012-12-26 03:45:49+00:00</td>\n",
              "      <td>144</td>\n",
              "      <td>Good branching and merging tutorials for Torto...</td>\n",
              "      <td>&lt;p&gt;Are there any really good tutorials explain...</td>\n",
              "      <td>svn tortoisesvn branch branching-and-merging</td>\n",
              "    </tr>\n",
              "    <tr>\n",
              "      <th>2</th>\n",
              "      <td>120</td>\n",
              "      <td>83.0</td>\n",
              "      <td>2008-08-01 15:50:08+00:00</td>\n",
              "      <td>NaT</td>\n",
              "      <td>21</td>\n",
              "      <td>ASP.NET Site Maps</td>\n",
              "      <td>&lt;p&gt;Has anyone got experience creating &lt;strong&gt;...</td>\n",
              "      <td>sql asp.net sitemap</td>\n",
              "    </tr>\n",
              "    <tr>\n",
              "      <th>3</th>\n",
              "      <td>180</td>\n",
              "      <td>2089740.0</td>\n",
              "      <td>2008-08-01 18:42:19+00:00</td>\n",
              "      <td>NaT</td>\n",
              "      <td>53</td>\n",
              "      <td>Function for creating color wheels</td>\n",
              "      <td>&lt;p&gt;This is something I've pseudo-solved many t...</td>\n",
              "      <td>algorithm language-agnostic colors color-space</td>\n",
              "    </tr>\n",
              "    <tr>\n",
              "      <th>4</th>\n",
              "      <td>260</td>\n",
              "      <td>91.0</td>\n",
              "      <td>2008-08-01 23:22:08+00:00</td>\n",
              "      <td>NaT</td>\n",
              "      <td>49</td>\n",
              "      <td>Adding scripting functionality to .NET applica...</td>\n",
              "      <td>&lt;p&gt;I have a little game written in C#. It uses...</td>\n",
              "      <td>c# .net scripting compiler-construction</td>\n",
              "    </tr>\n",
              "  </tbody>\n",
              "</table>\n",
              "</div>"
            ],
            "text/plain": [
              "    Id  ...                                             Tag\n",
              "0   80  ...                         flex actionscript-3 air\n",
              "1   90  ...    svn tortoisesvn branch branching-and-merging\n",
              "2  120  ...                             sql asp.net sitemap\n",
              "3  180  ...  algorithm language-agnostic colors color-space\n",
              "4  260  ...         c# .net scripting compiler-construction\n",
              "\n",
              "[5 rows x 8 columns]"
            ]
          },
          "metadata": {
            "tags": []
          },
          "execution_count": 113
        }
      ]
    },
    {
      "cell_type": "markdown",
      "metadata": {
        "id": "sosBn490-4a7",
        "colab_type": "text"
      },
      "source": [
        "- Drop unnecessary columns"
      ]
    },
    {
      "cell_type": "code",
      "metadata": {
        "id": "v7qwksEDHANP",
        "colab_type": "code",
        "colab": {}
      },
      "source": [
        "columns=['OwnerUserId', 'CreationDate', 'ClosedDate']\n",
        "\n",
        "final_df.drop(columns, axis=1, inplace=True)"
      ],
      "execution_count": 0,
      "outputs": []
    },
    {
      "cell_type": "code",
      "metadata": {
        "id": "NRWFeDX1Hozi",
        "colab_type": "code",
        "colab": {
          "base_uri": "https://localhost:8080/",
          "height": 191
        },
        "outputId": "930b8719-7ea5-49b6-e2dd-ad84c2d9e2c4"
      },
      "source": [
        "#confirm that the columns have been dropped\n",
        "final_df.head()"
      ],
      "execution_count": 115,
      "outputs": [
        {
          "output_type": "execute_result",
          "data": {
            "text/html": [
              "<div>\n",
              "<style scoped>\n",
              "    .dataframe tbody tr th:only-of-type {\n",
              "        vertical-align: middle;\n",
              "    }\n",
              "\n",
              "    .dataframe tbody tr th {\n",
              "        vertical-align: top;\n",
              "    }\n",
              "\n",
              "    .dataframe thead th {\n",
              "        text-align: right;\n",
              "    }\n",
              "</style>\n",
              "<table border=\"1\" class=\"dataframe\">\n",
              "  <thead>\n",
              "    <tr style=\"text-align: right;\">\n",
              "      <th></th>\n",
              "      <th>Id</th>\n",
              "      <th>Score</th>\n",
              "      <th>Title</th>\n",
              "      <th>Body</th>\n",
              "      <th>Tag</th>\n",
              "    </tr>\n",
              "  </thead>\n",
              "  <tbody>\n",
              "    <tr>\n",
              "      <th>0</th>\n",
              "      <td>80</td>\n",
              "      <td>26</td>\n",
              "      <td>SQLStatement.execute() - multiple queries in o...</td>\n",
              "      <td>&lt;p&gt;I've written a database generation script i...</td>\n",
              "      <td>flex actionscript-3 air</td>\n",
              "    </tr>\n",
              "    <tr>\n",
              "      <th>1</th>\n",
              "      <td>90</td>\n",
              "      <td>144</td>\n",
              "      <td>Good branching and merging tutorials for Torto...</td>\n",
              "      <td>&lt;p&gt;Are there any really good tutorials explain...</td>\n",
              "      <td>svn tortoisesvn branch branching-and-merging</td>\n",
              "    </tr>\n",
              "    <tr>\n",
              "      <th>2</th>\n",
              "      <td>120</td>\n",
              "      <td>21</td>\n",
              "      <td>ASP.NET Site Maps</td>\n",
              "      <td>&lt;p&gt;Has anyone got experience creating &lt;strong&gt;...</td>\n",
              "      <td>sql asp.net sitemap</td>\n",
              "    </tr>\n",
              "    <tr>\n",
              "      <th>3</th>\n",
              "      <td>180</td>\n",
              "      <td>53</td>\n",
              "      <td>Function for creating color wheels</td>\n",
              "      <td>&lt;p&gt;This is something I've pseudo-solved many t...</td>\n",
              "      <td>algorithm language-agnostic colors color-space</td>\n",
              "    </tr>\n",
              "    <tr>\n",
              "      <th>4</th>\n",
              "      <td>260</td>\n",
              "      <td>49</td>\n",
              "      <td>Adding scripting functionality to .NET applica...</td>\n",
              "      <td>&lt;p&gt;I have a little game written in C#. It uses...</td>\n",
              "      <td>c# .net scripting compiler-construction</td>\n",
              "    </tr>\n",
              "  </tbody>\n",
              "</table>\n",
              "</div>"
            ],
            "text/plain": [
              "    Id  ...                                             Tag\n",
              "0   80  ...                         flex actionscript-3 air\n",
              "1   90  ...    svn tortoisesvn branch branching-and-merging\n",
              "2  120  ...                             sql asp.net sitemap\n",
              "3  180  ...  algorithm language-agnostic colors color-space\n",
              "4  260  ...         c# .net scripting compiler-construction\n",
              "\n",
              "[5 rows x 5 columns]"
            ]
          },
          "metadata": {
            "tags": []
          },
          "execution_count": 115
        }
      ]
    },
    {
      "cell_type": "markdown",
      "metadata": {
        "id": "k0EmBcjK_DQm",
        "colab_type": "text"
      },
      "source": [
        "- We will only use dataset with score greater than 5.\n",
        "  - This is because they might not add any performance to our model\n",
        "  - To reduce the number of irrelevat columns on our data.\n",
        "  - For better performance and faster training."
      ]
    },
    {
      "cell_type": "code",
      "metadata": {
        "id": "CiLV1_XKjdrb",
        "colab_type": "code",
        "colab": {}
      },
      "source": [
        "question = final_df[final_df['Score']>5]"
      ],
      "execution_count": 0,
      "outputs": []
    },
    {
      "cell_type": "markdown",
      "metadata": {
        "id": "kNXo8ZTE_hde",
        "colab_type": "text"
      },
      "source": [
        "- Drop the ID and Score. They will not be used in our model"
      ]
    },
    {
      "cell_type": "code",
      "metadata": {
        "id": "uTyqmkSHjdiZ",
        "colab_type": "code",
        "colab": {
          "base_uri": "https://localhost:8080/",
          "height": 272
        },
        "outputId": "89198560-8c43-4bed-ff66-b359daee5803"
      },
      "source": [
        "question.drop(columns = ['Id','Score'],inplace=True)\n",
        "question.head()"
      ],
      "execution_count": 117,
      "outputs": [
        {
          "output_type": "stream",
          "text": [
            "/usr/local/lib/python3.6/dist-packages/pandas/core/frame.py:4117: SettingWithCopyWarning: \n",
            "A value is trying to be set on a copy of a slice from a DataFrame\n",
            "\n",
            "See the caveats in the documentation: http://pandas.pydata.org/pandas-docs/stable/user_guide/indexing.html#returning-a-view-versus-a-copy\n",
            "  errors=errors,\n"
          ],
          "name": "stderr"
        },
        {
          "output_type": "execute_result",
          "data": {
            "text/html": [
              "<div>\n",
              "<style scoped>\n",
              "    .dataframe tbody tr th:only-of-type {\n",
              "        vertical-align: middle;\n",
              "    }\n",
              "\n",
              "    .dataframe tbody tr th {\n",
              "        vertical-align: top;\n",
              "    }\n",
              "\n",
              "    .dataframe thead th {\n",
              "        text-align: right;\n",
              "    }\n",
              "</style>\n",
              "<table border=\"1\" class=\"dataframe\">\n",
              "  <thead>\n",
              "    <tr style=\"text-align: right;\">\n",
              "      <th></th>\n",
              "      <th>Title</th>\n",
              "      <th>Body</th>\n",
              "      <th>Tag</th>\n",
              "    </tr>\n",
              "  </thead>\n",
              "  <tbody>\n",
              "    <tr>\n",
              "      <th>0</th>\n",
              "      <td>SQLStatement.execute() - multiple queries in o...</td>\n",
              "      <td>&lt;p&gt;I've written a database generation script i...</td>\n",
              "      <td>flex actionscript-3 air</td>\n",
              "    </tr>\n",
              "    <tr>\n",
              "      <th>1</th>\n",
              "      <td>Good branching and merging tutorials for Torto...</td>\n",
              "      <td>&lt;p&gt;Are there any really good tutorials explain...</td>\n",
              "      <td>svn tortoisesvn branch branching-and-merging</td>\n",
              "    </tr>\n",
              "    <tr>\n",
              "      <th>2</th>\n",
              "      <td>ASP.NET Site Maps</td>\n",
              "      <td>&lt;p&gt;Has anyone got experience creating &lt;strong&gt;...</td>\n",
              "      <td>sql asp.net sitemap</td>\n",
              "    </tr>\n",
              "    <tr>\n",
              "      <th>3</th>\n",
              "      <td>Function for creating color wheels</td>\n",
              "      <td>&lt;p&gt;This is something I've pseudo-solved many t...</td>\n",
              "      <td>algorithm language-agnostic colors color-space</td>\n",
              "    </tr>\n",
              "    <tr>\n",
              "      <th>4</th>\n",
              "      <td>Adding scripting functionality to .NET applica...</td>\n",
              "      <td>&lt;p&gt;I have a little game written in C#. It uses...</td>\n",
              "      <td>c# .net scripting compiler-construction</td>\n",
              "    </tr>\n",
              "  </tbody>\n",
              "</table>\n",
              "</div>"
            ],
            "text/plain": [
              "                                               Title  ...                                             Tag\n",
              "0  SQLStatement.execute() - multiple queries in o...  ...                         flex actionscript-3 air\n",
              "1  Good branching and merging tutorials for Torto...  ...    svn tortoisesvn branch branching-and-merging\n",
              "2                                  ASP.NET Site Maps  ...                             sql asp.net sitemap\n",
              "3                 Function for creating color wheels  ...  algorithm language-agnostic colors color-space\n",
              "4  Adding scripting functionality to .NET applica...  ...         c# .net scripting compiler-construction\n",
              "\n",
              "[5 rows x 3 columns]"
            ]
          },
          "metadata": {
            "tags": []
          },
          "execution_count": 117
        }
      ]
    },
    {
      "cell_type": "markdown",
      "metadata": {
        "id": "3wXg_ilQAnqi",
        "colab_type": "text"
      },
      "source": [
        "- Split each tag and add them to the all_tag list\n",
        "- We do this because:\n",
        "  - We want to get some insights from the tags"
      ]
    },
    {
      "cell_type": "code",
      "metadata": {
        "id": "wcj20JpfjdYS",
        "colab_type": "code",
        "colab": {
          "base_uri": "https://localhost:8080/",
          "height": 115
        },
        "outputId": "f07dd43b-b15d-42da-937a-ce642265160f"
      },
      "source": [
        "#question['Tag'] = question['Tag'].astype(str)\n",
        "question['Tag'] = question['Tag'].apply(lambda x: x.split())\n",
        "all_tag = [item for sublist in question['Tag'].values for item in sublist]"
      ],
      "execution_count": 118,
      "outputs": [
        {
          "output_type": "stream",
          "text": [
            "/usr/local/lib/python3.6/dist-packages/ipykernel_launcher.py:1: SettingWithCopyWarning: \n",
            "A value is trying to be set on a copy of a slice from a DataFrame.\n",
            "Try using .loc[row_indexer,col_indexer] = value instead\n",
            "\n",
            "See the caveats in the documentation: http://pandas.pydata.org/pandas-docs/stable/user_guide/indexing.html#returning-a-view-versus-a-copy\n",
            "  \"\"\"Entry point for launching an IPython kernel.\n"
          ],
          "name": "stderr"
        }
      ]
    },
    {
      "cell_type": "markdown",
      "metadata": {
        "id": "BFG8Mk1aA3k6",
        "colab_type": "text"
      },
      "source": [
        "- Get the lenght of tags\n",
        " - We have a total of 224129 tags"
      ]
    },
    {
      "cell_type": "code",
      "metadata": {
        "id": "1SpmqtJYjdSP",
        "colab_type": "code",
        "colab": {
          "base_uri": "https://localhost:8080/",
          "height": 33
        },
        "outputId": "0df9aead-d5c5-466d-9c01-2a5ae8d13efe"
      },
      "source": [
        "len(all_tag)"
      ],
      "execution_count": 119,
      "outputs": [
        {
          "output_type": "execute_result",
          "data": {
            "text/plain": [
              "224129"
            ]
          },
          "metadata": {
            "tags": []
          },
          "execution_count": 119
        }
      ]
    },
    {
      "cell_type": "markdown",
      "metadata": {
        "id": "BsaQeg4aBEey",
        "colab_type": "text"
      },
      "source": [
        "- We have a total of 14883 unique tags"
      ]
    },
    {
      "cell_type": "code",
      "metadata": {
        "id": "djaR3YyKjdNu",
        "colab_type": "code",
        "colab": {
          "base_uri": "https://localhost:8080/",
          "height": 33
        },
        "outputId": "dcdb44af-b93a-472b-80af-3d02b4238483"
      },
      "source": [
        "my_set = set(all_tag)\n",
        "unique_tags = list(my_set)\n",
        "len(unique_tags)\n"
      ],
      "execution_count": 120,
      "outputs": [
        {
          "output_type": "execute_result",
          "data": {
            "text/plain": [
              "14883"
            ]
          },
          "metadata": {
            "tags": []
          },
          "execution_count": 120
        }
      ]
    },
    {
      "cell_type": "markdown",
      "metadata": {
        "id": "K44h2ewCBVan",
        "colab_type": "text"
      },
      "source": [
        "- We get the most frequent tags using the nltk Frequency Distribution method.\n",
        " - We will work with the top 100 most frequent tags\n",
        " - This will cause our data set to be more structure"
      ]
    },
    {
      "cell_type": "code",
      "metadata": {
        "id": "AMaUzLuRjdIx",
        "colab_type": "code",
        "colab": {}
      },
      "source": [
        "flat_list = [item for sublist in question['Tag'].values for item in sublist]\n",
        "\n",
        "keywords = nltk.FreqDist(flat_list)\n",
        "\n",
        "keywords = nltk.FreqDist(keywords)\n",
        "\n",
        "frequencies_words = keywords.most_common(100)\n",
        "tags_features = [word[0] for word in frequencies_words]"
      ],
      "execution_count": 0,
      "outputs": []
    },
    {
      "cell_type": "code",
      "metadata": {
        "id": "5l0L-0kujdEk",
        "colab_type": "code",
        "colab": {
          "base_uri": "https://localhost:8080/",
          "height": 33
        },
        "outputId": "c57895b2-7d68-4a68-d443-35dc9e9ea362"
      },
      "source": [
        "len(tags_features)"
      ],
      "execution_count": 122,
      "outputs": [
        {
          "output_type": "execute_result",
          "data": {
            "text/plain": [
              "100"
            ]
          },
          "metadata": {
            "tags": []
          },
          "execution_count": 122
        }
      ]
    },
    {
      "cell_type": "markdown",
      "metadata": {
        "id": "si9ixFibBo9x",
        "colab_type": "text"
      },
      "source": [
        "- A plot of the top 100 tags in our tag feature\n",
        " - The top 5 tags are C#, Java, Javascript, Android and Python.\n",
        " - You will notice C# is the most frequent in our current data set."
      ]
    },
    {
      "cell_type": "code",
      "metadata": {
        "id": "anF40GM6jc_2",
        "colab_type": "code",
        "colab": {
          "base_uri": "https://localhost:8080/",
          "height": 687
        },
        "outputId": "03dd2716-9a55-41e6-bf74-e29b10dcf4e8"
      },
      "source": [
        "fig, ax = plt.subplots(figsize=(15, 10))\n",
        "keywords.plot(100, cumulative=False)"
      ],
      "execution_count": 123,
      "outputs": [
        {
          "output_type": "display_data",
          "data": {
            "image/png": "[encoded data removed]",
            "text/plain": [
              "<Figure size 1080x720 with 1 Axes>"
            ]
          },
          "metadata": {
            "tags": []
          }
        }
      ]
    },
    {
      "cell_type": "markdown",
      "metadata": {
        "id": "F9gtYqmgC58i",
        "colab_type": "text"
      },
      "source": [
        "- We create a function to apply the most common tags to our question dataset"
      ]
    },
    {
      "cell_type": "code",
      "metadata": {
        "id": "SAlcckFvjc6z",
        "colab_type": "code",
        "colab": {}
      },
      "source": [
        "def most_common(tags):\n",
        "    tags_filtered = []\n",
        "    for i in range(0, len(tags)):\n",
        "        if tags[i] in tags_features:\n",
        "            tags_filtered.append(tags[i])\n",
        "    return tags_filtered"
      ],
      "execution_count": 0,
      "outputs": []
    },
    {
      "cell_type": "code",
      "metadata": {
        "id": "Y616HTkGjc2R",
        "colab_type": "code",
        "colab": {
          "base_uri": "https://localhost:8080/",
          "height": 212
        },
        "outputId": "617c1e1b-3b77-4b44-ca42-137acd9f911a"
      },
      "source": [
        "question['Tag'] = question['Tag'].apply(lambda x: most_common(x))\n",
        "question['Tag'] = question['Tag'].apply(lambda x: x if len(x)>0 else None)"
      ],
      "execution_count": 125,
      "outputs": [
        {
          "output_type": "stream",
          "text": [
            "/usr/local/lib/python3.6/dist-packages/ipykernel_launcher.py:1: SettingWithCopyWarning: \n",
            "A value is trying to be set on a copy of a slice from a DataFrame.\n",
            "Try using .loc[row_indexer,col_indexer] = value instead\n",
            "\n",
            "See the caveats in the documentation: http://pandas.pydata.org/pandas-docs/stable/user_guide/indexing.html#returning-a-view-versus-a-copy\n",
            "  \"\"\"Entry point for launching an IPython kernel.\n",
            "/usr/local/lib/python3.6/dist-packages/ipykernel_launcher.py:2: SettingWithCopyWarning: \n",
            "A value is trying to be set on a copy of a slice from a DataFrame.\n",
            "Try using .loc[row_indexer,col_indexer] = value instead\n",
            "\n",
            "See the caveats in the documentation: http://pandas.pydata.org/pandas-docs/stable/user_guide/indexing.html#returning-a-view-versus-a-copy\n",
            "  \n"
          ],
          "name": "stderr"
        }
      ]
    },
    {
      "cell_type": "markdown",
      "metadata": {
        "id": "rzDatIPYE6un",
        "colab_type": "text"
      },
      "source": [
        "- We are going to drop tags not in our most frequent subset"
      ]
    },
    {
      "cell_type": "code",
      "metadata": {
        "id": "2urWHKljjcmr",
        "colab_type": "code",
        "colab": {
          "base_uri": "https://localhost:8080/",
          "height": 98
        },
        "outputId": "591a608c-82d7-475f-be65-610bbd071e35"
      },
      "source": [
        "question.dropna(subset=['Tag'], inplace=True)"
      ],
      "execution_count": 126,
      "outputs": [
        {
          "output_type": "stream",
          "text": [
            "/usr/local/lib/python3.6/dist-packages/ipykernel_launcher.py:1: SettingWithCopyWarning: \n",
            "A value is trying to be set on a copy of a slice from a DataFrame\n",
            "\n",
            "See the caveats in the documentation: http://pandas.pydata.org/pandas-docs/stable/user_guide/indexing.html#returning-a-view-versus-a-copy\n",
            "  \"\"\"Entry point for launching an IPython kernel.\n"
          ],
          "name": "stderr"
        }
      ]
    },
    {
      "cell_type": "code",
      "metadata": {
        "id": "ay-Kt0Wsjcd0",
        "colab_type": "code",
        "colab": {
          "base_uri": "https://localhost:8080/",
          "height": 33
        },
        "outputId": "bbcca27a-f579-46e2-90ff-bdee9a7386b4"
      },
      "source": [
        "question.shape"
      ],
      "execution_count": 127,
      "outputs": [
        {
          "output_type": "execute_result",
          "data": {
            "text/plain": [
              "(63167, 3)"
            ]
          },
          "metadata": {
            "tags": []
          },
          "execution_count": 127
        }
      ]
    },
    {
      "cell_type": "code",
      "metadata": {
        "id": "nOMQdmsIpLDX",
        "colab_type": "code",
        "colab": {
          "base_uri": "https://localhost:8080/",
          "height": 191
        },
        "outputId": "671ed3ad-c6f4-4425-a8bc-47dde1994010"
      },
      "source": [
        "question.head()"
      ],
      "execution_count": 128,
      "outputs": [
        {
          "output_type": "execute_result",
          "data": {
            "text/html": [
              "<div>\n",
              "<style scoped>\n",
              "    .dataframe tbody tr th:only-of-type {\n",
              "        vertical-align: middle;\n",
              "    }\n",
              "\n",
              "    .dataframe tbody tr th {\n",
              "        vertical-align: top;\n",
              "    }\n",
              "\n",
              "    .dataframe thead th {\n",
              "        text-align: right;\n",
              "    }\n",
              "</style>\n",
              "<table border=\"1\" class=\"dataframe\">\n",
              "  <thead>\n",
              "    <tr style=\"text-align: right;\">\n",
              "      <th></th>\n",
              "      <th>Title</th>\n",
              "      <th>Body</th>\n",
              "      <th>Tag</th>\n",
              "    </tr>\n",
              "  </thead>\n",
              "  <tbody>\n",
              "    <tr>\n",
              "      <th>1</th>\n",
              "      <td>Good branching and merging tutorials for Torto...</td>\n",
              "      <td>&lt;p&gt;Are there any really good tutorials explain...</td>\n",
              "      <td>[svn]</td>\n",
              "    </tr>\n",
              "    <tr>\n",
              "      <th>2</th>\n",
              "      <td>ASP.NET Site Maps</td>\n",
              "      <td>&lt;p&gt;Has anyone got experience creating &lt;strong&gt;...</td>\n",
              "      <td>[sql, asp.net]</td>\n",
              "    </tr>\n",
              "    <tr>\n",
              "      <th>3</th>\n",
              "      <td>Function for creating color wheels</td>\n",
              "      <td>&lt;p&gt;This is something I've pseudo-solved many t...</td>\n",
              "      <td>[algorithm]</td>\n",
              "    </tr>\n",
              "    <tr>\n",
              "      <th>4</th>\n",
              "      <td>Adding scripting functionality to .NET applica...</td>\n",
              "      <td>&lt;p&gt;I have a little game written in C#. It uses...</td>\n",
              "      <td>[c#, .net]</td>\n",
              "    </tr>\n",
              "    <tr>\n",
              "      <th>5</th>\n",
              "      <td>Should I use nested classes in this case?</td>\n",
              "      <td>&lt;p&gt;I am working on a collection of classes use...</td>\n",
              "      <td>[c++, oop, class]</td>\n",
              "    </tr>\n",
              "  </tbody>\n",
              "</table>\n",
              "</div>"
            ],
            "text/plain": [
              "                                               Title  ...                Tag\n",
              "1  Good branching and merging tutorials for Torto...  ...              [svn]\n",
              "2                                  ASP.NET Site Maps  ...     [sql, asp.net]\n",
              "3                 Function for creating color wheels  ...        [algorithm]\n",
              "4  Adding scripting functionality to .NET applica...  ...         [c#, .net]\n",
              "5          Should I use nested classes in this case?  ...  [c++, oop, class]\n",
              "\n",
              "[5 rows x 3 columns]"
            ]
          },
          "metadata": {
            "tags": []
          },
          "execution_count": 128
        }
      ]
    },
    {
      "cell_type": "markdown",
      "metadata": {
        "id": "zBRIU7YXFMvl",
        "colab_type": "text"
      },
      "source": [
        "- Now we have reach the point of our text processing\n",
        "  - We need to do this because we can't feed text data into our model.\n",
        "  - We start with text cleaning and end it with text vectorizer.\n",
        "  - Most of the idea gotten for this section are from this notebook. https://github.com/Utkarsh4430/Autonomous-Tagging-Of-Stack-Overflow-Questions/blob/master/predicting-tags.ipynb"
      ]
    },
    {
      "cell_type": "markdown",
      "metadata": {
        "id": "wkVv133IHpWZ",
        "colab_type": "text"
      },
      "source": [
        "- Below we define a clean_text function and apply it to the data set.\n",
        "  - Applying the function to the body  removes links, code tags, replaces contractions and converts to lowercase"
      ]
    },
    {
      "cell_type": "code",
      "metadata": {
        "id": "La0fduUYpLBc",
        "colab_type": "code",
        "colab": {
          "base_uri": "https://localhost:8080/",
          "height": 196
        },
        "outputId": "ae757de6-559e-478f-9a66-9b97b3056459"
      },
      "source": [
        "def clean_text(text):\n",
        "  global EMPTY\n",
        "  EMPTY = ''\n",
        "    \n",
        "  if not isinstance(text, str): \n",
        "      return text\n",
        "  text = re.sub('<pre><code>.*?</code></pre>', EMPTY, text)\n",
        "\n",
        "  def replace_link(match):\n",
        "      return EMPTY if re.match('[a-z]+://', match.group(1)) else match.group(1)\n",
        "    \n",
        "  text = re.sub('<a[^>]+>(.*)</a>', replace_link, text)\n",
        "  return re.sub('<[^>]+>', EMPTY, text)\n",
        "\n",
        "  text = text.lower()\n",
        "  text = re.sub(r\"what's\", \"what is \", text)\n",
        "  text = re.sub(r\"\\'s\", \" \", text)\n",
        "  text = re.sub(r\"\\'ve\", \" have \", text)\n",
        "  text = re.sub(r\"can't\", \"can not \", text)\n",
        "  text = re.sub(r\"n't\", \" not \", text)\n",
        "  text = re.sub(r\"i'm\", \"i am \", text)\n",
        "  text = re.sub(r\"\\'re\", \" are \", text)\n",
        "  text = re.sub(r\"\\'d\", \" would \", text)\n",
        "  text = re.sub(r\"\\'ll\", \" will \", text)\n",
        "  text = re.sub(r\"\\'scuse\", \" excuse \", text)\n",
        "  text = re.sub(r\"\\'\\n\", \" \", text)\n",
        "  text = re.sub(r\"\\'\\xa0\", \" \", text)\n",
        "  text = re.sub('\\s+', ' ', text)\n",
        "  text = text.strip(' ')\n",
        "    \n",
        "  return text\n",
        "\n",
        "question['Text'] = question['Body'].apply(clean_text).str.lower()\n",
        "#question['Text'] = question['Text'].apply(lambda x: clean_text(x))\n",
        "question.Text = question.Text.apply(lambda x: x.replace('\"','').replace(\"\\n\",\"\").replace(\"\\t\",\"\"))\n",
        "question = question.drop(question[['Body']], axis=1)"
      ],
      "execution_count": 129,
      "outputs": [
        {
          "output_type": "stream",
          "text": [
            "/usr/local/lib/python3.6/dist-packages/ipykernel_launcher.py:33: SettingWithCopyWarning: \n",
            "A value is trying to be set on a copy of a slice from a DataFrame.\n",
            "Try using .loc[row_indexer,col_indexer] = value instead\n",
            "\n",
            "See the caveats in the documentation: http://pandas.pydata.org/pandas-docs/stable/user_guide/indexing.html#returning-a-view-versus-a-copy\n",
            "/usr/local/lib/python3.6/dist-packages/pandas/core/generic.py:5208: SettingWithCopyWarning: \n",
            "A value is trying to be set on a copy of a slice from a DataFrame.\n",
            "Try using .loc[row_indexer,col_indexer] = value instead\n",
            "\n",
            "See the caveats in the documentation: http://pandas.pydata.org/pandas-docs/stable/user_guide/indexing.html#returning-a-view-versus-a-copy\n",
            "  self[name] = value\n"
          ],
          "name": "stderr"
        }
      ]
    },
    {
      "cell_type": "markdown",
      "metadata": {
        "id": "5fH2OF2kJexf",
        "colab_type": "text"
      },
      "source": [
        "- Applying toktokTokenizer to our data.\n",
        "- Create a strip list function\n",
        "- Create a remove punctuation account\n",
        "- Apply them to our data "
      ]
    },
    {
      "cell_type": "code",
      "metadata": {
        "id": "cp2ID5rgpK61",
        "colab_type": "code",
        "colab": {}
      },
      "source": [
        "token = ToktokTokenizer()\n",
        "\n",
        "def strip_list_noempty(mylist):\n",
        "    newlist = (item.strip() if hasattr(item, 'strip') else item for item in mylist)\n",
        "    return [item for item in newlist if item != '']\n",
        "\n",
        "def removePunctuation(text):\n",
        "    punct = '!\"$%&\\'()*,./:;<=>?@[\\\\]^_`{|}~'\n",
        "    words=token.tokenize(text)\n",
        "    punctuation_filtered = []\n",
        "    regex = re.compile('[%s]' % re.escape(punct))\n",
        "    remove_punctuation = str.maketrans(' ', ' ', punct)\n",
        "    for w in words:\n",
        "        if w in tags_features:\n",
        "            punctuation_filtered.append(w)\n",
        "        else:\n",
        "            punctuation_filtered.append(regex.sub('', w))\n",
        "\n",
        "    filtered_list = strip_list_noempty(punctuation_filtered)\n",
        "        \n",
        "    return ' '.join(map(str, filtered_list))\n",
        "\n",
        "question['Text'] = question['Text'].apply(lambda x: removePunctuation(x))"
      ],
      "execution_count": 0,
      "outputs": []
    },
    {
      "cell_type": "markdown",
      "metadata": {
        "id": "fuNjay4TKpwp",
        "colab_type": "text"
      },
      "source": [
        "- Here we apply stopwords and lemmatization to our dataset\n",
        "- Create a function to remove stopwords\n",
        "- Create a function to lemmatize our data"
      ]
    },
    {
      "cell_type": "code",
      "metadata": {
        "id": "crz9reXSpK3b",
        "colab_type": "code",
        "colab": {}
      },
      "source": [
        "token = ToktokTokenizer()\n",
        "lemma = WordNetLemmatizer()\n",
        "stop_words = set(stopwords.words('english'))\n",
        "\n",
        "def removeStopWords(text):\n",
        "    words = token.tokenize(text)\n",
        "    filtered = [w for w in words if not w in stop_words]\n",
        "    return ' '.join(map(str, filtered))\n",
        "\n",
        "\n",
        "def lemmatizeWords(text):\n",
        "    words=token.tokenize(text)\n",
        "    listLemma=[]\n",
        "    for w in words:\n",
        "        x=lemma.lemmatize(w, pos=\"v\")\n",
        "        listLemma.append(x.lower())\n",
        "    return ' '.join(map(str, listLemma))\n",
        "\n",
        "question['Text'] = question['Text'].apply(lambda x: lemmatizeWords(x))\n",
        "question['Text'] = question['Text'].apply(lambda x: removeStopWords(x))"
      ],
      "execution_count": 0,
      "outputs": []
    },
    {
      "cell_type": "code",
      "metadata": {
        "id": "cwKnzVugpK1W",
        "colab_type": "code",
        "colab": {}
      },
      "source": [
        "question['Title'] = question['Title'].apply(lambda x: str(x))\n",
        "question['Title'] = question['Title'].apply(lambda x: clean_text(x)) \n",
        "question['Title'] = question['Title'].apply(lambda x: removePunctuation(x)) \n",
        "question['Title'] = question['Title'].apply(lambda x: lemmatizeWords(x)) \n",
        "question['Title'] = question['Title'].apply(lambda x: removeStopWords(x))"
      ],
      "execution_count": 0,
      "outputs": []
    },
    {
      "cell_type": "markdown",
      "metadata": {
        "id": "4J8Uh2EcK-EV",
        "colab_type": "text"
      },
      "source": [
        "- Applying tfidf vectoriser to our dataset."
      ]
    },
    {
      "cell_type": "code",
      "metadata": {
        "id": "ralMyMRqJ3fS",
        "colab_type": "code",
        "colab": {}
      },
      "source": [
        "X1 = question['Text']\n",
        "X2 = question['Title']\n",
        "y = question['Tag']\n",
        "\n",
        "multilabel_binarizer = MultiLabelBinarizer()\n",
        "y_bin = multilabel_binarizer.fit_transform(y)\n",
        "\n",
        "\n",
        "vectorizer_X1 = TfidfVectorizer(analyzer = 'word',\n",
        "                                       min_df=0.0005,\n",
        "                                       max_df = 1.0,\n",
        "                                       strip_accents = None,\n",
        "                                       encoding = 'utf-8', \n",
        "                                       ngram_range = (1, 3),\n",
        "                                       preprocessor=None,\n",
        "                                       token_pattern=r\"(?u)\\S\\S+\",\n",
        "                                       max_features=35000)"
      ],
      "execution_count": 0,
      "outputs": []
    },
    {
      "cell_type": "code",
      "metadata": {
        "id": "AHg6bZxTJ3b-",
        "colab_type": "code",
        "colab": {}
      },
      "source": [
        "vectorizer_X2 = TfidfVectorizer(analyzer = 'word',\n",
        "                                       min_df=0.0,\n",
        "                                       max_df = 1.0,\n",
        "                                       strip_accents = None,\n",
        "                                       encoding = 'utf-8', \n",
        "                                       ngram_range = (1, 3),\n",
        "                                       preprocessor=None,\n",
        "                                       token_pattern=r\"(?u)\\S\\S+\",\n",
        "                                       max_features=35000)\n",
        "\n",
        "\n",
        "X1_tfidf = vectorizer_X1.fit_transform(X1)\n",
        "X2_tfidf = vectorizer_X2.fit_transform(X2)"
      ],
      "execution_count": 0,
      "outputs": []
    },
    {
      "cell_type": "markdown",
      "metadata": {
        "id": "QyMLmlFFLG6g",
        "colab_type": "text"
      },
      "source": [
        "- Stack our dataset with hstack "
      ]
    },
    {
      "cell_type": "code",
      "metadata": {
        "id": "72VS4SHovPrK",
        "colab_type": "code",
        "colab": {}
      },
      "source": [
        "X_tfidf = hstack([X1_tfidf,X2_tfidf])"
      ],
      "execution_count": 0,
      "outputs": []
    },
    {
      "cell_type": "markdown",
      "metadata": {
        "id": "MX18FC2wLMzf",
        "colab_type": "text"
      },
      "source": [
        "- Split our dataset into train and test"
      ]
    },
    {
      "cell_type": "code",
      "metadata": {
        "id": "w7bnnuM0J3YW",
        "colab_type": "code",
        "colab": {}
      },
      "source": [
        "X_train, X_test, y_train, y_test = train_test_split(X_tfidf, y_bin, test_size = 0.2, random_state = 0)"
      ],
      "execution_count": 0,
      "outputs": []
    },
    {
      "cell_type": "markdown",
      "metadata": {
        "id": "JFS-xHWGLnNk",
        "colab_type": "text"
      },
      "source": [
        "# Model Building"
      ]
    },
    {
      "cell_type": "markdown",
      "metadata": {
        "id": "X7lW5a0ZLquh",
        "colab_type": "text"
      },
      "source": [
        "- We used 2 model here. LogisticRegression, SGD and Random Forest. Might add more in the future"
      ]
    },
    {
      "cell_type": "code",
      "metadata": {
        "id": "Gz5zSqIXHzBd",
        "colab_type": "code",
        "colab": {
          "base_uri": "https://localhost:8080/",
          "height": 1000
        },
        "outputId": "1deb7d29-ac0c-4b2b-9a7a-053d2ddb3bd8"
      },
      "source": [
        "sgd = SGDClassifier(loss='log', alpha=0.00001, penalty='l2')\n",
        "\n",
        "clf = OneVsRestClassifier(sgd)\n",
        "clf.fit(X_train, y_train)\n",
        "sgd_pred = clf.predict(X_test)\n",
        "\n",
        "print('Accuracy is: ', accuracy_score(sgd_pred, y_test))\n",
        "print('F1_score is: ', f1_score(sgd_pred, y_test, average='macro'))\n",
        "print('Precision is: ', precision_score(sgd_pred, y_test, average='macro'))\n",
        "print('Recall is: ', recall_score(sgd_pred, y_test, average='macro'))\n",
        "\n",
        "print(classification_report(sgd_pred, y_test))"
      ],
      "execution_count": 149,
      "outputs": [
        {
          "output_type": "stream",
          "text": [
            "Accuracy is:  0.368133607725186\n",
            "F1_score is:  0.5065876088632969\n",
            "Precision is:  0.3948704385629678\n",
            "Recall is:  0.7771072329466215\n",
            "              precision    recall  f1-score   support\n",
            "\n",
            "           0       0.17      0.58      0.26       160\n",
            "           1       0.34      0.84      0.49        38\n",
            "           2       0.39      0.89      0.55        74\n",
            "           3       0.80      0.98      0.88       871\n",
            "           4       0.69      0.98      0.81       130\n",
            "           5       0.09      0.71      0.17         7\n",
            "           6       0.34      0.62      0.44        95\n",
            "           7       0.33      0.82      0.47       104\n",
            "           8       0.47      0.76      0.58       117\n",
            "           9       0.11      0.55      0.18        11\n",
            "          10       0.50      0.93      0.65        57\n",
            "          11       0.36      0.84      0.50       153\n",
            "          12       0.57      0.84      0.68       954\n",
            "          13       0.68      0.92      0.79       646\n",
            "          14       0.38      0.71      0.50        80\n",
            "          15       0.00      0.00      0.00         3\n",
            "          16       0.08      0.86      0.14         7\n",
            "          17       0.02      0.33      0.04         6\n",
            "          18       0.57      0.81      0.67       263\n",
            "          19       0.20      0.75      0.32        16\n",
            "          20       0.16      0.55      0.24        29\n",
            "          21       0.24      0.58      0.34        19\n",
            "          22       0.30      0.71      0.42        35\n",
            "          23       0.47      0.98      0.63        43\n",
            "          24       0.24      0.80      0.37        15\n",
            "          25       0.76      0.99      0.86       124\n",
            "          26       0.60      0.93      0.73        99\n",
            "          27       0.57      1.00      0.73        24\n",
            "          28       0.40      0.79      0.53        34\n",
            "          29       0.23      0.62      0.33        24\n",
            "          30       0.52      0.85      0.64        33\n",
            "          31       0.02      0.20      0.04         5\n",
            "          32       0.25      0.61      0.35        23\n",
            "          33       0.52      0.83      0.64        42\n",
            "          34       0.87      0.97      0.92       179\n",
            "          35       0.54      0.91      0.67        32\n",
            "          36       0.45      0.83      0.58        36\n",
            "          37       0.51      0.93      0.66        72\n",
            "          38       0.66      0.97      0.79        40\n",
            "          39       0.36      0.63      0.46       240\n",
            "          40       0.31      0.95      0.46        39\n",
            "          41       0.18      0.53      0.26        19\n",
            "          42       0.14      0.31      0.19        26\n",
            "          43       0.47      0.75      0.58       337\n",
            "          44       0.17      1.00      0.29        10\n",
            "          45       0.30      0.68      0.41       157\n",
            "          46       0.60      0.88      0.71       936\n",
            "          47       0.54      0.82      0.65       738\n",
            "          48       0.62      0.89      0.73       388\n",
            "          49       0.45      0.78      0.57        78\n",
            "          50       0.50      0.84      0.63        50\n",
            "          51       0.32      0.80      0.45        74\n",
            "          52       0.05      0.24      0.09        17\n",
            "          53       0.09      0.80      0.15         5\n",
            "          54       0.50      0.68      0.58        41\n",
            "          55       0.58      1.00      0.73        37\n",
            "          56       0.35      0.71      0.47        70\n",
            "          57       0.64      0.90      0.75       168\n",
            "          58       0.57      0.95      0.71       105\n",
            "          59       0.45      0.88      0.60        26\n",
            "          60       0.26      0.54      0.35       172\n",
            "          61       0.02      0.50      0.03         2\n",
            "          62       0.02      0.50      0.04         2\n",
            "          63       0.51      0.90      0.65        31\n",
            "          64       0.26      0.82      0.40        40\n",
            "          65       0.12      0.53      0.19        38\n",
            "          66       0.55      1.00      0.71        39\n",
            "          67       0.63      0.94      0.75       396\n",
            "          68       0.42      1.00      0.59        26\n",
            "          69       0.69      0.95      0.80       634\n",
            "          70       0.36      0.89      0.52        19\n",
            "          71       0.46      1.00      0.63       101\n",
            "          72       0.64      0.94      0.76        85\n",
            "          73       0.33      0.83      0.48        24\n",
            "          74       0.40      0.87      0.55       134\n",
            "          75       0.57      0.85      0.68       194\n",
            "          76       0.07      0.35      0.12        17\n",
            "          77       0.61      0.98      0.75        87\n",
            "          78       0.11      0.70      0.20        10\n",
            "          79       0.24      0.76      0.36        21\n",
            "          80       0.57      0.86      0.69        69\n",
            "          81       0.41      0.68      0.51       178\n",
            "          82       0.44      0.72      0.55       119\n",
            "          83       0.30      0.53      0.38        83\n",
            "          84       0.62      0.96      0.75        27\n",
            "          85       0.66      0.97      0.78        73\n",
            "          86       0.28      1.00      0.44        14\n",
            "          87       0.35      0.90      0.51        31\n",
            "          88       0.11      0.55      0.18        11\n",
            "          89       0.54      0.97      0.69        37\n",
            "          90       0.41      0.74      0.53        70\n",
            "          91       0.66      0.98      0.78        41\n",
            "          92       0.31      0.58      0.41        59\n",
            "          93       0.33      0.74      0.46        34\n",
            "          94       0.67      0.97      0.79        35\n",
            "          95       0.15      0.59      0.24        37\n",
            "          96       0.28      0.72      0.40        25\n",
            "          97       0.67      0.95      0.79       116\n",
            "          98       0.39      0.82      0.53        87\n",
            "          99       0.50      0.81      0.62        68\n",
            "\n",
            "   micro avg       0.49      0.85      0.62     11547\n",
            "   macro avg       0.39      0.78      0.51     11547\n",
            "weighted avg       0.55      0.85      0.66     11547\n",
            " samples avg       0.54      0.62      0.56     11547\n",
            "\n"
          ],
          "name": "stdout"
        }
      ]
    },
    {
      "cell_type": "code",
      "metadata": {
        "id": "-rQIPSIyHy8z",
        "colab_type": "code",
        "colab": {}
      },
      "source": [
        "lg = LogisticRegression()\n",
        "\n",
        "clf = OneVsRestClassifier(lg)\n",
        "clf.fit(X_train, y_train)\n",
        "lg_pred = clf.predict(X_test)\n"
      ],
      "execution_count": 0,
      "outputs": []
    },
    {
      "cell_type": "code",
      "metadata": {
        "id": "Mkxfl83LTyfY",
        "colab_type": "code",
        "colab": {
          "base_uri": "https://localhost:8080/",
          "height": 1000
        },
        "outputId": "b800a8a3-6f1f-406b-a058-b68ed4fde30c"
      },
      "source": [
        "print('Logistic regression accuracy is ', accuracy_score(lg_pred, y_test))\n",
        "print('Logistic regression f1_score is ', f1_score(lg_pred, y_test, average='macro'))\n",
        "print('Logistic regression precision is ', precision_score(lg_pred, y_test, average='macro'))\n",
        "print('Logistic regression recall is ', recall_score(lg_pred, y_test, average='macro'))\n",
        "print(classification_report(lg_pred, y_test))"
      ],
      "execution_count": 151,
      "outputs": [
        {
          "output_type": "stream",
          "text": [
            "Logistic regression accuracy is  0.3416970080734526\n",
            "Logistic regression f1_score is  0.45944077993702304\n",
            "Logistic regression precision is  0.3444534964224025\n",
            "Logistic regression recall is  0.7665328531579534\n",
            "              precision    recall  f1-score   support\n",
            "\n",
            "           0       0.16      0.65      0.25       130\n",
            "           1       0.33      0.84      0.48        37\n",
            "           2       0.32      0.93      0.47        57\n",
            "           3       0.77      0.98      0.86       831\n",
            "           4       0.64      0.99      0.77       118\n",
            "           5       0.02      0.33      0.04         3\n",
            "           6       0.33      0.65      0.44        88\n",
            "           7       0.29      0.82      0.43        93\n",
            "           8       0.38      0.75      0.51        97\n",
            "           9       0.07      0.67      0.13         6\n",
            "          10       0.44      0.96      0.60        49\n",
            "          11       0.31      0.84      0.45       132\n",
            "          12       0.54      0.86      0.66       874\n",
            "          13       0.65      0.93      0.76       606\n",
            "          14       0.33      0.77      0.47        65\n",
            "          15       0.00      0.00      0.00         1\n",
            "          16       0.06      0.83      0.12         6\n",
            "          17       0.00      0.00      0.00         1\n",
            "          18       0.53      0.81      0.64       248\n",
            "          19       0.10      0.75      0.18         8\n",
            "          20       0.10      0.48      0.16        21\n",
            "          21       0.24      0.69      0.35        16\n",
            "          22       0.20      0.74      0.32        23\n",
            "          23       0.39      0.97      0.56        36\n",
            "          24       0.20      0.77      0.32        13\n",
            "          25       0.71      0.99      0.83       116\n",
            "          26       0.58      0.94      0.71        94\n",
            "          27       0.48      1.00      0.65        20\n",
            "          28       0.34      0.77      0.47        30\n",
            "          29       0.15      0.62      0.24        16\n",
            "          30       0.44      0.89      0.59        27\n",
            "          31       0.02      0.20      0.04         5\n",
            "          32       0.18      0.59      0.27        17\n",
            "          33       0.45      0.83      0.58        36\n",
            "          34       0.84      0.98      0.90       172\n",
            "          35       0.46      0.89      0.61        28\n",
            "          36       0.40      0.87      0.55        31\n",
            "          37       0.48      0.95      0.64        66\n",
            "          38       0.58      0.97      0.72        35\n",
            "          39       0.30      0.63      0.40       198\n",
            "          40       0.22      0.93      0.36        29\n",
            "          41       0.11      0.46      0.17        13\n",
            "          42       0.09      0.38      0.14        13\n",
            "          43       0.44      0.78      0.57       309\n",
            "          44       0.14      1.00      0.24         8\n",
            "          45       0.27      0.75      0.39       126\n",
            "          46       0.57      0.89      0.69       868\n",
            "          47       0.50      0.83      0.63       684\n",
            "          48       0.59      0.90      0.72       367\n",
            "          49       0.41      0.79      0.54        71\n",
            "          50       0.44      0.82      0.57        45\n",
            "          51       0.27      0.86      0.41        59\n",
            "          52       0.04      0.20      0.07        15\n",
            "          53       0.00      0.00      0.00         0\n",
            "          54       0.41      0.72      0.52        32\n",
            "          55       0.42      1.00      0.59        27\n",
            "          56       0.31      0.69      0.43        64\n",
            "          57       0.59      0.93      0.72       151\n",
            "          58       0.50      0.98      0.66        89\n",
            "          59       0.39      0.91      0.55        22\n",
            "          60       0.21      0.57      0.31       131\n",
            "          61       0.00      0.00      0.00         0\n",
            "          62       0.00      0.00      0.00         0\n",
            "          63       0.44      0.89      0.59        27\n",
            "          64       0.22      0.88      0.35        32\n",
            "          65       0.08      0.48      0.14        29\n",
            "          66       0.51      1.00      0.67        36\n",
            "          67       0.58      0.95      0.72       362\n",
            "          68       0.37      1.00      0.54        23\n",
            "          69       0.66      0.95      0.78       600\n",
            "          70       0.28      0.93      0.43        14\n",
            "          71       0.40      1.00      0.57        88\n",
            "          72       0.59      0.95      0.73        78\n",
            "          73       0.28      0.89      0.43        19\n",
            "          74       0.36      0.84      0.50       122\n",
            "          75       0.52      0.85      0.64       175\n",
            "          76       0.06      0.36      0.10        14\n",
            "          77       0.52      0.99      0.68        73\n",
            "          78       0.08      1.00      0.15         5\n",
            "          79       0.21      0.74      0.33        19\n",
            "          80       0.53      0.87      0.66        63\n",
            "          81       0.38      0.71      0.49       158\n",
            "          82       0.41      0.75      0.53       105\n",
            "          83       0.24      0.51      0.32        68\n",
            "          84       0.57      0.96      0.72        25\n",
            "          85       0.54      0.98      0.69        59\n",
            "          86       0.28      1.00      0.44        14\n",
            "          87       0.33      0.90      0.48        29\n",
            "          88       0.09      0.62      0.16         8\n",
            "          89       0.48      0.97      0.64        33\n",
            "          90       0.41      0.79      0.54        67\n",
            "          91       0.57      1.00      0.73        35\n",
            "          92       0.26      0.60      0.36        47\n",
            "          93       0.23      0.81      0.35        21\n",
            "          94       0.57      0.97      0.72        30\n",
            "          95       0.11      0.61      0.19        28\n",
            "          96       0.17      0.79      0.28        14\n",
            "          97       0.62      0.96      0.75       105\n",
            "          98       0.37      0.82      0.51        82\n",
            "          99       0.42      0.81      0.55        57\n",
            "\n",
            "   micro avg       0.45      0.86      0.59     10337\n",
            "   macro avg       0.34      0.77      0.46     10337\n",
            "weighted avg       0.51      0.86      0.64     10337\n",
            " samples avg       0.50      0.58      0.51     10337\n",
            "\n"
          ],
          "name": "stdout"
        }
      ]
    },
    {
      "cell_type": "code",
      "metadata": {
        "id": "dUQt2vvvTyVQ",
        "colab_type": "code",
        "colab": {
          "base_uri": "https://localhost:8080/",
          "height": 1000
        },
        "outputId": "52db3ee7-1e91-4e3f-d677-63994d02effb"
      },
      "source": [
        "rf = RandomForestClassifier()\n",
        "rf.fit(X_train, y_train)\n",
        "\n",
        "rf_pred = rf.predict(X_test)\n",
        "\n",
        "print('Random Forest accuracy is ', accuracy_score(rf_pred, y_test))\n",
        "print('Random Forest f1_score is ', f1_score(rf_pred, y_test, average='macro'))\n",
        "print('Random Forest precison is ', precision_score(rf_pred, y_test, average='macro'))\n",
        "print('Random Forest recall is ', recall_score(rf_pred, y_test, average='macro'))\n",
        "print(classification_report(rf_pred, y_test))"
      ],
      "execution_count": 152,
      "outputs": [
        {
          "output_type": "stream",
          "text": [
            "Random Forest accuracy is  0.26357448155770147\n",
            "Random Forest f1_score is  0.26814189169052116\n",
            "Random Forest precison is  0.18285386330745568\n",
            "Random Forest recall is  0.7046126738782885\n",
            "              precision    recall  f1-score   support\n",
            "\n",
            "           0       0.05      0.71      0.10        42\n",
            "           1       0.09      0.89      0.16         9\n",
            "           2       0.16      0.82      0.27        33\n",
            "           3       0.71      0.98      0.82       774\n",
            "           4       0.35      1.00      0.52        64\n",
            "           5       0.00      0.00      0.00         0\n",
            "           6       0.10      0.74      0.17        23\n",
            "           7       0.07      1.00      0.14        19\n",
            "           8       0.26      0.72      0.38        69\n",
            "           9       0.00      0.00      0.00         0\n",
            "          10       0.39      1.00      0.56        42\n",
            "          11       0.16      0.88      0.27        64\n",
            "          12       0.36      0.86      0.51       587\n",
            "          13       0.53      0.93      0.67       491\n",
            "          14       0.09      0.88      0.17        16\n",
            "          15       0.00      0.00      0.00         0\n",
            "          16       0.00      0.00      0.00         1\n",
            "          17       0.00      0.00      0.00         0\n",
            "          18       0.35      0.83      0.49       156\n",
            "          19       0.00      0.00      0.00         1\n",
            "          20       0.01      1.00      0.02         1\n",
            "          21       0.00      0.00      0.00         0\n",
            "          22       0.00      0.00      0.00         0\n",
            "          23       0.24      1.00      0.39        22\n",
            "          24       0.00      0.00      0.00         0\n",
            "          25       0.51      0.97      0.67        86\n",
            "          26       0.27      1.00      0.42        41\n",
            "          27       0.48      1.00      0.65        20\n",
            "          28       0.09      1.00      0.16         6\n",
            "          29       0.00      0.00      0.00         0\n",
            "          30       0.11      1.00      0.20         6\n",
            "          31       0.00      0.00      0.00         0\n",
            "          32       0.05      0.60      0.10         5\n",
            "          33       0.03      1.00      0.06         2\n",
            "          34       0.74      0.96      0.84       155\n",
            "          35       0.15      1.00      0.26         8\n",
            "          36       0.10      1.00      0.19         7\n",
            "          37       0.36      1.00      0.53        47\n",
            "          38       0.10      1.00      0.18         6\n",
            "          39       0.12      0.67      0.20        75\n",
            "          40       0.09      1.00      0.17        11\n",
            "          41       0.02      0.50      0.03         2\n",
            "          42       0.00      0.00      0.00         1\n",
            "          43       0.31      0.79      0.44       211\n",
            "          44       0.03      1.00      0.07         2\n",
            "          45       0.13      0.79      0.23        61\n",
            "          46       0.46      0.89      0.61       704\n",
            "          47       0.34      0.83      0.48       460\n",
            "          48       0.49      0.90      0.63       300\n",
            "          49       0.10      0.88      0.18        16\n",
            "          50       0.24      0.80      0.37        25\n",
            "          51       0.22      0.88      0.36        48\n",
            "          52       0.00      0.00      0.00         0\n",
            "          53       0.00      0.00      0.00         0\n",
            "          54       0.29      0.89      0.43        18\n",
            "          55       0.12      1.00      0.22         8\n",
            "          56       0.03      0.67      0.05         6\n",
            "          57       0.44      0.93      0.60       114\n",
            "          58       0.27      0.96      0.42        49\n",
            "          59       0.27      0.93      0.42        15\n",
            "          60       0.08      0.64      0.14        44\n",
            "          61       0.00      0.00      0.00         0\n",
            "          62       0.00      0.00      0.00         0\n",
            "          63       0.13      1.00      0.23         7\n",
            "          64       0.06      1.00      0.11         7\n",
            "          65       0.00      0.00      0.00         0\n",
            "          66       0.27      1.00      0.42        19\n",
            "          67       0.41      0.97      0.58       250\n",
            "          68       0.16      1.00      0.28        10\n",
            "          69       0.60      0.93      0.73       565\n",
            "          70       0.04      0.67      0.08         3\n",
            "          71       0.25      0.98      0.39        55\n",
            "          72       0.25      0.97      0.39        32\n",
            "          73       0.07      0.80      0.12         5\n",
            "          74       0.35      0.91      0.50       110\n",
            "          75       0.33      0.81      0.47       118\n",
            "          76       0.01      1.00      0.02         1\n",
            "          77       0.36      0.98      0.53        51\n",
            "          78       0.00      0.00      0.00         0\n",
            "          79       0.03      0.67      0.06         3\n",
            "          80       0.34      0.81      0.48        43\n",
            "          81       0.19      0.77      0.30        73\n",
            "          82       0.35      0.82      0.49        82\n",
            "          83       0.02      0.50      0.04         6\n",
            "          84       0.43      0.95      0.59        19\n",
            "          85       0.30      1.00      0.46        32\n",
            "          86       0.04      1.00      0.08         2\n",
            "          87       0.03      0.40      0.05         5\n",
            "          88       0.00      0.00      0.00         0\n",
            "          89       0.33      1.00      0.49        22\n",
            "          90       0.05      1.00      0.09         6\n",
            "          91       0.48      0.97      0.64        30\n",
            "          92       0.20      0.63      0.31        35\n",
            "          93       0.12      0.82      0.21        11\n",
            "          94       0.39      1.00      0.56        20\n",
            "          95       0.01      0.67      0.03         3\n",
            "          96       0.00      0.00      0.00         0\n",
            "          97       0.36      0.95      0.52        62\n",
            "          98       0.23      0.85      0.36        48\n",
            "          99       0.15      0.94      0.25        17\n",
            "\n",
            "   micro avg       0.30      0.90      0.45      6725\n",
            "   macro avg       0.18      0.70      0.27      6725\n",
            "weighted avg       0.43      0.90      0.56      6725\n",
            " samples avg       0.36      0.45      0.39      6725\n",
            "\n"
          ],
          "name": "stdout"
        }
      ]
    },
    {
      "cell_type": "code",
      "metadata": {
        "id": "O6sNmqwKN7d1",
        "colab_type": "code",
        "colab": {}
      },
      "source": [
        ""
      ],
      "execution_count": 0,
      "outputs": []
    }
  ]
}